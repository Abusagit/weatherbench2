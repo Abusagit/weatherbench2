{
  "cells": [
    {
      "cell_type": "code",
      "execution_count": 2,
      "metadata": {
        "executionInfo": {
          "elapsed": 58,
          "status": "ok",
          "timestamp": 1686035447021,
          "user": {
            "displayName": "",
            "userId": ""
          },
          "user_tz": -120
        },
        "id": "XpKYO-ibLuP5"
      },
      "outputs": [],
      "source": [
        "# AI for Weather runtime\n",
        "import xarray as xr\n",
        "import matplotlib.pyplot as plt\n",
        "import matplotlib\n",
        "import seaborn as sns\n",
        "import numpy as np\n",
        "import typing as t\n",
        "from IPython.display import Image\n",
        "from colabtools import adhoc_import\n",
        "with adhoc_import.Google3CitcClient('wb2-viz', username='srasp'):\n",
        "  import weatherbench2 as wb2\n",
        "  from weatherbench2 import config\n",
        "  config = adhoc_import.Reload(config)\n",
        "  from weatherbench2.config import VizConfig, PanelConfig\n",
        "  from weatherbench2 import visualization\n",
        "  from weatherbench2.visualization import *\n",
        "  visualization = adhoc_import.Reload(visualization)\n",
        "  from weatherbench2.utils import *\n",
        "  from weatherbench2.metrics import get_lat_weights"
      ]
    },
    {
      "cell_type": "code",
      "execution_count": 3,
      "metadata": {
        "colab": {
          "height": 76
        },
        "executionInfo": {
          "elapsed": 63,
          "status": "ok",
          "timestamp": 1686035447289,
          "user": {
            "displayName": "",
            "userId": ""
          },
          "user_tz": -120
        },
        "id": "qKCEKW34fKym",
        "outputId": "6836c66f-c248-4e71-c2d6-31919e7ac873"
      },
      "outputs": [
        {
          "data": {
            "text/html": [
              "\u003csvg  width=\"330\" height=\"55\"\u003e\u003crect x=\"0\" y=\"0\" width=\"55\" height=\"55\" style=\"fill:#1f77b4;stroke-width:2;stroke:rgb(255,255,255)\"/\u003e\u003crect x=\"55\" y=\"0\" width=\"55\" height=\"55\" style=\"fill:#ff7f0e;stroke-width:2;stroke:rgb(255,255,255)\"/\u003e\u003crect x=\"110\" y=\"0\" width=\"55\" height=\"55\" style=\"fill:#2ca02c;stroke-width:2;stroke:rgb(255,255,255)\"/\u003e\u003crect x=\"165\" y=\"0\" width=\"55\" height=\"55\" style=\"fill:#d62728;stroke-width:2;stroke:rgb(255,255,255)\"/\u003e\u003crect x=\"220\" y=\"0\" width=\"55\" height=\"55\" style=\"fill:#9467bd;stroke-width:2;stroke:rgb(255,255,255)\"/\u003e\u003crect x=\"275\" y=\"0\" width=\"55\" height=\"55\" style=\"fill:#8c564b;stroke-width:2;stroke:rgb(255,255,255)\"/\u003e\u003c/svg\u003e"
            ],
            "text/plain": [
              "[(0.12156862745098039, 0.4666666666666667, 0.7058823529411765),\n",
              " (1.0, 0.4980392156862745, 0.054901960784313725),\n",
              " (0.17254901960784313, 0.6274509803921569, 0.17254901960784313),\n",
              " (0.8392156862745098, 0.15294117647058825, 0.1568627450980392),\n",
              " (0.5803921568627451, 0.403921568627451, 0.7411764705882353),\n",
              " (0.5490196078431373, 0.33725490196078434, 0.29411764705882354)]"
            ]
          },
          "execution_count": 3,
          "metadata": {},
          "output_type": "execute_result"
        }
      ],
      "source": [
        "c = sns.color_palette('tab10', 6)\n",
        "c"
      ]
    },
    {
      "cell_type": "code",
      "execution_count": 4,
      "metadata": {
        "executionInfo": {
          "elapsed": 3,
          "status": "ok",
          "timestamp": 1686035447668,
          "user": {
            "displayName": "",
            "userId": ""
          },
          "user_tz": -120
        },
        "id": "rJAqgeEufqBo",
        "outputId": "52835a7c-b937-43e9-e8d7-146d8cbb18c5"
      },
      "outputs": [
        {
          "data": {
            "text/plain": [
              "['#1f77b4', '#ff7f0e', '#2ca02c', '#d62728', '#9467bd', '#8c564b']"
            ]
          },
          "execution_count": 4,
          "metadata": {},
          "output_type": "execute_result"
        }
      ],
      "source": [
        "colors = list(c.as_hex())\n",
        "colors"
      ]
    },
    {
      "cell_type": "code",
      "execution_count": 5,
      "metadata": {
        "executionInfo": {
          "elapsed": 1,
          "status": "ok",
          "timestamp": 1686035447876,
          "user": {
            "displayName": "",
            "userId": ""
          },
          "user_tz": -120
        },
        "id": "X9E-xcH42NSj"
      },
      "outputs": [],
      "source": [
        "blue, yellow, green, red, purple, brown = colors"
      ]
    },
    {
      "cell_type": "code",
      "execution_count": 6,
      "metadata": {
        "executionInfo": {
          "elapsed": 2,
          "status": "ok",
          "timestamp": 1686035448116,
          "user": {
            "displayName": "",
            "userId": ""
          },
          "user_tz": -120
        },
        "id": "OfTlufzA-J49"
      },
      "outputs": [],
      "source": [
        "# blue = '#0173b2'\n",
        "# yellow = '#de8f05'\n",
        "# green = '#029e73'\n",
        "# red = '#d55e00'\n",
        "# purple = '#cc78bc'\n",
        "# brown = '#ca9161'"
      ]
    },
    {
      "cell_type": "code",
      "execution_count": 7,
      "metadata": {
        "executionInfo": {
          "elapsed": 1,
          "status": "ok",
          "timestamp": 1686035448356,
          "user": {
            "displayName": "",
            "userId": ""
          },
          "user_tz": -120
        },
        "id": "ALcjaIMsuWTO"
      },
      "outputs": [],
      "source": [
        "SAVE_PATH = '/x20/teams/aiforweather/paper_figures/'"
      ]
    },
    {
      "cell_type": "code",
      "execution_count": 8,
      "metadata": {
        "executionInfo": {
          "elapsed": 55,
          "status": "ok",
          "timestamp": 1686035448659,
          "user": {
            "displayName": "",
            "userId": ""
          },
          "user_tz": -120
        },
        "id": "UVJ1To0WgUEH"
      },
      "outputs": [],
      "source": [
        "def get_viz_config(models):\n",
        "  RESULTS_DIR = '/cns/od-d/home/attractor/weatherbench/results/240x121/deterministic/'\n",
        "\n",
        "  model_paths = {\n",
        "      'hres_vs_analysis': (\n",
        "          f'{RESULTS_DIR}/hres_vs_analysis_2020_deterministic.nc'\n",
        "      ),\n",
        "      'hres_vs_era': f'{RESULTS_DIR}/hres_vs_era_2020_deterministic.nc',\n",
        "      'ens_mean_vs_analysis': (\n",
        "          f'{RESULTS_DIR}/ens_vs_analysis_2020_deterministic.nc'\n",
        "      ),\n",
        "      'ens_mean_vs_era': f'{RESULTS_DIR}/ens_vs_era_2020_deterministic.nc',\n",
        "      'climatology_vs_era': (\n",
        "          f'{RESULTS_DIR}/climatology_vs_era_2020_deterministic.nc'\n",
        "      ),\n",
        "      'persistence_vs_era': (\n",
        "          f'{RESULTS_DIR}/persistence_vs_era_2020_deterministic.nc'\n",
        "      ),\n",
        "      # 'neuralgcm_vs_era': (\n",
        "      #     f'{RESULTS_DIR}/neuralgcm_vs_era_2020_deterministic.nc'\n",
        "      # ),\n",
        "      'graphcast_vs_era': (\n",
        "          f'{RESULTS_DIR}/graphcast_vs_era_2020_deterministic.nc'\n",
        "      ),\n",
        "      'pangu_vs_era': f'{RESULTS_DIR}/pangu_vs_era_2020_deterministic.nc',\n",
        "      'keisler_vs_era': f'{RESULTS_DIR}/keisler_vs_era_2020_deterministic.nc',\n",
        "      'era5-forecasts_vs_era': f'{RESULTS_DIR}/era5-forecasts_vs_era_2020_deterministic.nc',\n",
        "  }\n",
        "\n",
        "  regions = ['global']\n",
        "\n",
        "  viz_config = VizConfig(\n",
        "      results={model: model_paths[model] for model in models},\n",
        "      colors={\n",
        "          'hres_vs_analysis': blue,\n",
        "          'hres_vs_era': blue,\n",
        "          'ens_mean_vs_analysis': green,\n",
        "          'ens_mean_vs_era': green,\n",
        "          # 'neuralgcm_vs_era': red,\n",
        "          'graphcast_vs_era': red,\n",
        "          # 'neuralgcm_vs_analysis': 'lightred',\n",
        "          'climatology_vs_era': '0.3',\n",
        "          'persistence_vs_era': '0.7',\n",
        "          'ens_vs_analysis': green,\n",
        "          'pangu_vs_era': purple,\n",
        "          'keisler_vs_era': brown,\n",
        "          'era5-forecasts_vs_era': yellow,\n",
        "      },\n",
        "      linestyles={\n",
        "          'hres_vs_analysis': '-',\n",
        "          'hres_vs_era': '--',\n",
        "          'ens_mean_vs_analysis': '-',\n",
        "          'ens_mean_vs_era': '--',\n",
        "          # 'hres_pp_vs_era': 'lightgreen',\n",
        "          # 'hres_pp_vs_analysis': 'green',\n",
        "          'neuralgcm_vs_era': '-',\n",
        "          'graphcast_vs_era': '-',\n",
        "          # 'neuralgcm_vs_analysis': 'lightred',\n",
        "          'climatology_vs_era': '-',\n",
        "          'persistence_vs_era': '-',\n",
        "          'ens_vs_analysis': '-',\n",
        "          'pangu_vs_era': '-',\n",
        "          'era5-forecasts_vs_era': '-',\n",
        "          'keisler_vs_era': '-',\n",
        "      },\n",
        "      layout=(4, 2),\n",
        "      figsize=(10, 12),\n",
        "      labels={\n",
        "          'hres_vs_era': 'IFS HRES vs ERA5',\n",
        "          'hres_vs_analysis': 'IFS HRES vs Analysis',\n",
        "          'ens_mean_vs_analysis': 'IFS ENS (mean) vs Analysis',\n",
        "          'ens_mean_vs_era': 'IFS ENS (mean) vs ERA5',\n",
        "          'hres_pp_vs_era': 'PP HRES vs ERA5',\n",
        "          'hres_pp_vs_analysis': 'PP HRES vs Analysis',\n",
        "          'neuralgcm_vs_era': 'NeuralGCM vs ERA5',\n",
        "          'graphcast_vs_era': 'GraphCast vs ERA5',\n",
        "          'neuralgcm_vs_analysis': 'NeuralGCM vs Analysis',\n",
        "          'climatology_vs_era': 'Climatology vs ERA5',\n",
        "          'persistence_vs_era': 'Persistence vs ERA5',\n",
        "          'ens_vs_analysis': 'IFS ENS vs Analysis',\n",
        "          'pangu_vs_era': 'Pangu-Weather vs ERA5',\n",
        "          'keisler_vs_era': 'Keisler (2022) vs ERA5',\n",
        "          'era5-forecasts_vs_era': 'ERA5-Forecasts vs ERA5',\n",
        "      },\n",
        "      save_kwargs={'dpi': 300}\n",
        "  )\n",
        "  return viz_config"
      ]
    },
    {
      "cell_type": "code",
      "execution_count": 9,
      "metadata": {
        "executionInfo": {
          "elapsed": 1,
          "status": "ok",
          "timestamp": 1686035448868,
          "user": {
            "displayName": "",
            "userId": ""
          },
          "user_tz": -120
        },
        "id": "4iTp6gsXQicR"
      },
      "outputs": [],
      "source": [
        "plt.rcParams['figure.facecolor'] = 'None'\n",
        "set_wb2_style()"
      ]
    },
    {
      "cell_type": "markdown",
      "metadata": {
        "id": "Yz3tdi7eeid7"
      },
      "source": [
        "# Deterministic figures"
      ]
    },
    {
      "cell_type": "code",
      "execution_count": 52,
      "metadata": {
        "executionInfo": {
          "elapsed": 1,
          "status": "ok",
          "timestamp": 1686036247712,
          "user": {
            "displayName": "",
            "userId": ""
          },
          "user_tz": -120
        },
        "id": "4Nj1cDzyMlUl"
      },
      "outputs": [],
      "source": [
        "models = ['climatology_vs_era', 'persistence_vs_era',\n",
        "          'hres_vs_analysis', 'hres_vs_era', 'ens_mean_vs_analysis', 'ens_mean_vs_era', \n",
        "          'era5-forecasts_vs_era',\n",
        "          'keisler_vs_era','pangu_vs_era', \n",
        "          'graphcast_vs_era'\n",
        "          ]\n",
        "regions = ['global']\n",
        "viz_config = get_viz_config(models)"
      ]
    },
    {
      "cell_type": "code",
      "execution_count": 11,
      "metadata": {
        "executionInfo": {
          "elapsed": 9473,
          "status": "ok",
          "timestamp": 1686035458821,
          "user": {
            "displayName": "",
            "userId": ""
          },
          "user_tz": -120
        },
        "id": "dw14abxLNAQC"
      },
      "outputs": [],
      "source": [
        "results = load_results(viz_config.results)"
      ]
    },
    {
      "cell_type": "code",
      "execution_count": 12,
      "metadata": {
        "executionInfo": {
          "elapsed": 61,
          "status": "ok",
          "timestamp": 1686035459101,
          "user": {
            "displayName": "",
            "userId": ""
          },
          "user_tz": -120
        },
        "id": "58B-TuUIqcpY"
      },
      "outputs": [],
      "source": [
        "# Substitute precipitation\n",
        "new = results['hres_vs_analysis']\n",
        "for tp in ['total_precipitation_6hr', 'total_precipitation_24hr']:\n",
        "  new[tp] = results['hres_vs_era'][tp]\n",
        "results['hres_vs_analysis'] = new\n",
        "\n",
        "new = results['ens_mean_vs_analysis']\n",
        "for tp in ['total_precipitation_6hr', 'total_precipitation_24hr']:\n",
        "  new[tp] = results['ens_mean_vs_era'][tp]\n",
        "results['ens_mean_vs_analysis'] = new\n",
        "\n",
        "del results['hres_vs_era']\n",
        "del results['ens_mean_vs_era']\n",
        "\n",
        "viz_config.results = results"
      ]
    },
    {
      "cell_type": "code",
      "execution_count": 13,
      "metadata": {
        "executionInfo": {
          "elapsed": 57,
          "status": "ok",
          "timestamp": 1686035459369,
          "user": {
            "displayName": "",
            "userId": ""
          },
          "user_tz": -120
        },
        "id": "MLXOhd0yNFq1"
      },
      "outputs": [],
      "source": [
        "def plot_headline_scores(\n",
        "      metric: str, relative: bool, regions: t.Sequence[str], ylims, save_path=None,\n",
        "      legend_position=2\n",
        "  ):\n",
        "    variables = [\n",
        "        ('geopotential', 500),\n",
        "        ('temperature', 850),\n",
        "        ('specific_humidity', 700),\n",
        "        ('wind_vector' if metric == 'rmse' else 'wind_speed', 850),\n",
        "        ('2m_temperature', None),\n",
        "        ('mean_sea_level_pressure', None),\n",
        "        ('10m_wind_speed', None),\n",
        "        ('total_precipitation_24hr', None),\n",
        "    ]\n",
        "    \n",
        "    for region in regions:\n",
        "      plot_configs = []\n",
        "      for variable, level in variables:\n",
        "        if relative:\n",
        "          ylabel = '% relative to IFS HRES'\n",
        "        elif metric == 'acc':\n",
        "          ylabel = 'ACC'\n",
        "        elif metric == 'rms_bias':\n",
        "          ylabel = f'RMS Bias [{units[variable]}]'\n",
        "        else:\n",
        "          ylabel = f'{metric.upper()} [{units[variable]}]'\n",
        "\n",
        "        plot_configs.append(\n",
        "            PanelConfig(\n",
        "                metric=metric,\n",
        "                variable=variable,\n",
        "                level=level,\n",
        "                region=region,\n",
        "                relative='hres_vs_analysis' if relative else None,\n",
        "                ylabel=ylabel,\n",
        "                xlabel='Lead time [days]',\n",
        "                title=(\n",
        "                    f'{long2short[variable]}{level if level else \"\"}'\n",
        "                ),\n",
        "                ylim=ylims[variable],\n",
        "                xlim=(0, int(np.timedelta64(10, 'D').astype('timedelta64[ns]')))\n",
        "            )\n",
        "        )\n",
        "\n",
        "      visualize_timeseries(\n",
        "          viz_config,\n",
        "          plot_configs,\n",
        "          save_path=save_path,\n",
        "          subplots_adjust_kwargs={'left': 0.08, 'right': 0.98, 'bottom': 0.05, 'top': 0.96, 'hspace': 0.3},\n",
        "          legend_position=legend_position,\n",
        "      )"
      ]
    },
    {
      "cell_type": "code",
      "execution_count": 14,
      "metadata": {
        "colab": {
          "height": 864
        },
        "executionInfo": {
          "elapsed": 2377,
          "status": "ok",
          "timestamp": 1686035461959,
          "user": {
            "displayName": "",
            "userId": ""
          },
          "user_tz": -120
        },
        "id": "QyopdQphEuLL",
        "outputId": "ebb9ef9b-a723-40dd-863a-05c8e7ec5f5c"
      },
      "outputs": [
        {
          "data": {
            "image/png": "[encoded data removed]",
            "text/plain": [
              "\u003cFigure size 1000x1200 with 8 Axes\u003e"
            ]
          },
          "metadata": {},
          "output_type": "display_data"
        }
      ],
      "source": [
        "ylims = {\n",
        "    'geopotential': (0, 900),\n",
        "    'temperature': (0, 4),\n",
        "    'specific_humidity': (0, 2),\n",
        "    'wind_vector': (0, 10),\n",
        "    '2m_temperature': (0, 3),\n",
        "    'mean_sea_level_pressure': (0, 800),\n",
        "    '10m_wind_speed': (0, 4.),\n",
        "    'total_precipitation_24hr': (0, 0.01*1000),\n",
        "}\n",
        "plot_headline_scores('rmse', relative=False, regions=regions, ylims=ylims)"
      ]
    },
    {
      "cell_type": "code",
      "execution_count": 15,
      "metadata": {
        "executionInfo": {
          "elapsed": 14154,
          "status": "ok",
          "timestamp": 1686035476357,
          "user": {
            "displayName": "",
            "userId": ""
          },
          "user_tz": -120
        },
        "id": "CjsAvjDEQFFt"
      },
      "outputs": [],
      "source": [
        "ylims = {\n",
        "    'geopotential': (0, 900),\n",
        "    'temperature': (0, 4),\n",
        "    'specific_humidity': (0, 2),\n",
        "    'wind_vector': (0, 10),\n",
        "    '2m_temperature': (0, 3),\n",
        "    'mean_sea_level_pressure': (0, 800),\n",
        "    '10m_wind_speed': (0, 4),\n",
        "    'total_precipitation_24hr': (0, 0.01*1000),\n",
        "}\n",
        "plot_headline_scores('rmse', relative=False, regions=regions, ylims=ylims, save_path=f'{SAVE_PATH}rmse_abs.png')\n",
        "\n",
        "ylims = {\n",
        "    'geopotential': (-40, 30),\n",
        "    'temperature': (-40, 30),\n",
        "    'specific_humidity': (-40, 30),\n",
        "    'wind_vector': (-40, 30),\n",
        "    '2m_temperature': (-40, 30),\n",
        "    'mean_sea_level_pressure': (-40, 30),\n",
        "    '10m_wind_speed': (-40, 30),\n",
        "    'total_precipitation_24hr': (-40, 30),\n",
        "}\n",
        "plot_headline_scores('rmse', relative=True, regions=regions, ylims=ylims, save_path=f'{SAVE_PATH}rmse_rel.png')\n",
        "\n",
        "ylims = {\n",
        "    'geopotential': (0.4, 1),\n",
        "    'temperature': (0.4, 1),\n",
        "    'specific_humidity': (0.4, 1),\n",
        "    'wind_speed': (0.4, 1),\n",
        "    '2m_temperature': (0.4, 1),\n",
        "    'mean_sea_level_pressure': (0.4, 1),\n",
        "    '10m_wind_speed': (0.4, 1),\n",
        "    'total_precipitation_24hr': (0.4, 1),\n",
        "}\n",
        "plot_headline_scores('acc', relative=False, regions=regions, ylims=ylims, legend_position=3, save_path=f'{SAVE_PATH}acc_abs.png')\n",
        "\n",
        "ylims = {\n",
        "    'geopotential': (-30, 50),\n",
        "    'temperature': (-30, 50),\n",
        "    'specific_humidity': (-30, 50),\n",
        "    'wind_speed': (-30, 50),\n",
        "    '2m_temperature': (-30, 50),\n",
        "    'mean_sea_level_pressure': (-30, 500),\n",
        "    '10m_wind_speed': (-30, 50),\n",
        "    'total_precipitation_24hr': (-30, 50),\n",
        "}\n",
        "plot_headline_scores('acc', relative=True, regions=regions, ylims=ylims, legend_position=4, save_path=f'{SAVE_PATH}acc_rel.png')"
      ]
    },
    {
      "cell_type": "markdown",
      "metadata": {
        "id": "KCFVr34f3-3W"
      },
      "source": [
        "# RMSE definitions"
      ]
    },
    {
      "cell_type": "code",
      "execution_count": 16,
      "metadata": {
        "executionInfo": {
          "elapsed": 1,
          "status": "ok",
          "timestamp": 1686035476572,
          "user": {
            "displayName": "",
            "userId": ""
          },
          "user_tz": -120
        },
        "id": "PdmrwVGT3-we"
      },
      "outputs": [],
      "source": [
        "r = results['hres_vs_analysis']\n",
        "new = r.sel(metric=['rmse'])"
      ]
    },
    {
      "cell_type": "code",
      "execution_count": 17,
      "metadata": {
        "executionInfo": {
          "elapsed": 1,
          "status": "ok",
          "timestamp": 1686035476821,
          "user": {
            "displayName": "",
            "userId": ""
          },
          "user_tz": -120
        },
        "id": "JixmBhbW3-pF"
      },
      "outputs": [],
      "source": [
        "rmse2 = np.sqrt(r.sel(metric='mse'))"
      ]
    },
    {
      "cell_type": "code",
      "execution_count": 18,
      "metadata": {
        "colab": {
          "height": 0
        },
        "executionInfo": {
          "elapsed": 1570,
          "status": "ok",
          "timestamp": 1686035478630,
          "user": {
            "displayName": "",
            "userId": ""
          },
          "user_tz": -120
        },
        "id": "EQZKn84N5NUA",
        "outputId": "70171b70-e913-4c07-a8f9-377b4c9b57d7"
      },
      "outputs": [
        {
          "data": {
            "text/html": [
              "\u003cdiv\u003e\u003csvg style=\"position: absolute; width: 0; height: 0; overflow: hidden\"\u003e\n",
              "\u003cdefs\u003e\n",
              "\u003csymbol id=\"icon-database\" viewBox=\"0 0 32 32\"\u003e\n",
              "\u003cpath d=\"M16 0c-8.837 0-16 2.239-16 5v4c0 2.761 7.163 5 16 5s16-2.239 16-5v-4c0-2.761-7.163-5-16-5z\"\u003e\u003c/path\u003e\n",
              "\u003cpath d=\"M16 17c-8.837 0-16-2.239-16-5v6c0 2.761 7.163 5 16 5s16-2.239 16-5v-6c0 2.761-7.163 5-16 5z\"\u003e\u003c/path\u003e\n",
              "\u003cpath d=\"M16 26c-8.837 0-16-2.239-16-5v6c0 2.761 7.163 5 16 5s16-2.239 16-5v-6c0 2.761-7.163 5-16 5z\"\u003e\u003c/path\u003e\n",
              "\u003c/symbol\u003e\n",
              "\u003csymbol id=\"icon-file-text2\" viewBox=\"0 0 32 32\"\u003e\n",
              "\u003cpath d=\"M28.681 7.159c-0.694-0.947-1.662-2.053-2.724-3.116s-2.169-2.030-3.116-2.724c-1.612-1.182-2.393-1.319-2.841-1.319h-15.5c-1.378 0-2.5 1.121-2.5 2.5v27c0 1.378 1.122 2.5 2.5 2.5h23c1.378 0 2.5-1.122 2.5-2.5v-19.5c0-0.448-0.137-1.23-1.319-2.841zM24.543 5.457c0.959 0.959 1.712 1.825 2.268 2.543h-4.811v-4.811c0.718 0.556 1.584 1.309 2.543 2.268zM28 29.5c0 0.271-0.229 0.5-0.5 0.5h-23c-0.271 0-0.5-0.229-0.5-0.5v-27c0-0.271 0.229-0.5 0.5-0.5 0 0 15.499-0 15.5 0v7c0 0.552 0.448 1 1 1h7v19.5z\"\u003e\u003c/path\u003e\n",
              "\u003cpath d=\"M23 26h-14c-0.552 0-1-0.448-1-1s0.448-1 1-1h14c0.552 0 1 0.448 1 1s-0.448 1-1 1z\"\u003e\u003c/path\u003e\n",
              "\u003cpath d=\"M23 22h-14c-0.552 0-1-0.448-1-1s0.448-1 1-1h14c0.552 0 1 0.448 1 1s-0.448 1-1 1z\"\u003e\u003c/path\u003e\n",
              "\u003cpath d=\"M23 18h-14c-0.552 0-1-0.448-1-1s0.448-1 1-1h14c0.552 0 1 0.448 1 1s-0.448 1-1 1z\"\u003e\u003c/path\u003e\n",
              "\u003c/symbol\u003e\n",
              "\u003c/defs\u003e\n",
              "\u003c/svg\u003e\n",
              "\u003cstyle\u003e/* CSS stylesheet for displaying xarray objects in jupyterlab.\n",
              " *\n",
              " */\n",
              "\n",
              ":root {\n",
              "  --xr-font-color0: var(--jp-content-font-color0, rgba(0, 0, 0, 1));\n",
              "  --xr-font-color2: var(--jp-content-font-color2, rgba(0, 0, 0, 0.54));\n",
              "  --xr-font-color3: var(--jp-content-font-color3, rgba(0, 0, 0, 0.38));\n",
              "  --xr-border-color: var(--jp-border-color2, #e0e0e0);\n",
              "  --xr-disabled-color: var(--jp-layout-color3, #bdbdbd);\n",
              "  --xr-background-color: var(--jp-layout-color0, white);\n",
              "  --xr-background-color-row-even: var(--jp-layout-color1, white);\n",
              "  --xr-background-color-row-odd: var(--jp-layout-color2, #eeeeee);\n",
              "}\n",
              "\n",
              "html[theme=dark],\n",
              "body[data-theme=dark],\n",
              "body.vscode-dark {\n",
              "  --xr-font-color0: rgba(255, 255, 255, 1);\n",
              "  --xr-font-color2: rgba(255, 255, 255, 0.54);\n",
              "  --xr-font-color3: rgba(255, 255, 255, 0.38);\n",
              "  --xr-border-color: #1F1F1F;\n",
              "  --xr-disabled-color: #515151;\n",
              "  --xr-background-color: #111111;\n",
              "  --xr-background-color-row-even: #111111;\n",
              "  --xr-background-color-row-odd: #313131;\n",
              "}\n",
              "\n",
              ".xr-wrap {\n",
              "  display: block !important;\n",
              "  min-width: 300px;\n",
              "  max-width: 700px;\n",
              "}\n",
              "\n",
              ".xr-text-repr-fallback {\n",
              "  /* fallback to plain text repr when CSS is not injected (untrusted notebook) */\n",
              "  display: none;\n",
              "}\n",
              "\n",
              ".xr-header {\n",
              "  padding-top: 6px;\n",
              "  padding-bottom: 6px;\n",
              "  margin-bottom: 4px;\n",
              "  border-bottom: solid 1px var(--xr-border-color);\n",
              "}\n",
              "\n",
              ".xr-header \u003e div,\n",
              ".xr-header \u003e ul {\n",
              "  display: inline;\n",
              "  margin-top: 0;\n",
              "  margin-bottom: 0;\n",
              "}\n",
              "\n",
              ".xr-obj-type,\n",
              ".xr-array-name {\n",
              "  margin-left: 2px;\n",
              "  margin-right: 10px;\n",
              "}\n",
              "\n",
              ".xr-obj-type {\n",
              "  color: var(--xr-font-color2);\n",
              "}\n",
              "\n",
              ".xr-sections {\n",
              "  padding-left: 0 !important;\n",
              "  display: grid;\n",
              "  grid-template-columns: 150px auto auto 1fr 20px 20px;\n",
              "}\n",
              "\n",
              ".xr-section-item {\n",
              "  display: contents;\n",
              "}\n",
              "\n",
              ".xr-section-item input {\n",
              "  display: none;\n",
              "}\n",
              "\n",
              ".xr-section-item input + label {\n",
              "  color: var(--xr-disabled-color);\n",
              "}\n",
              "\n",
              ".xr-section-item input:enabled + label {\n",
              "  cursor: pointer;\n",
              "  color: var(--xr-font-color2);\n",
              "}\n",
              "\n",
              ".xr-section-item input:enabled + label:hover {\n",
              "  color: var(--xr-font-color0);\n",
              "}\n",
              "\n",
              ".xr-section-summary {\n",
              "  grid-column: 1;\n",
              "  color: var(--xr-font-color2);\n",
              "  font-weight: 500;\n",
              "}\n",
              "\n",
              ".xr-section-summary \u003e span {\n",
              "  display: inline-block;\n",
              "  padding-left: 0.5em;\n",
              "}\n",
              "\n",
              ".xr-section-summary-in:disabled + label {\n",
              "  color: var(--xr-font-color2);\n",
              "}\n",
              "\n",
              ".xr-section-summary-in + label:before {\n",
              "  display: inline-block;\n",
              "  content: '►';\n",
              "  font-size: 11px;\n",
              "  width: 15px;\n",
              "  text-align: center;\n",
              "}\n",
              "\n",
              ".xr-section-summary-in:disabled + label:before {\n",
              "  color: var(--xr-disabled-color);\n",
              "}\n",
              "\n",
              ".xr-section-summary-in:checked + label:before {\n",
              "  content: '▼';\n",
              "}\n",
              "\n",
              ".xr-section-summary-in:checked + label \u003e span {\n",
              "  display: none;\n",
              "}\n",
              "\n",
              ".xr-section-summary,\n",
              ".xr-section-inline-details {\n",
              "  padding-top: 4px;\n",
              "  padding-bottom: 4px;\n",
              "}\n",
              "\n",
              ".xr-section-inline-details {\n",
              "  grid-column: 2 / -1;\n",
              "}\n",
              "\n",
              ".xr-section-details {\n",
              "  display: none;\n",
              "  grid-column: 1 / -1;\n",
              "  margin-bottom: 5px;\n",
              "}\n",
              "\n",
              ".xr-section-summary-in:checked ~ .xr-section-details {\n",
              "  display: contents;\n",
              "}\n",
              "\n",
              ".xr-array-wrap {\n",
              "  grid-column: 1 / -1;\n",
              "  display: grid;\n",
              "  grid-template-columns: 20px auto;\n",
              "}\n",
              "\n",
              ".xr-array-wrap \u003e label {\n",
              "  grid-column: 1;\n",
              "  vertical-align: top;\n",
              "}\n",
              "\n",
              ".xr-preview {\n",
              "  color: var(--xr-font-color3);\n",
              "}\n",
              "\n",
              ".xr-array-preview,\n",
              ".xr-array-data {\n",
              "  padding: 0 5px !important;\n",
              "  grid-column: 2;\n",
              "}\n",
              "\n",
              ".xr-array-data,\n",
              ".xr-array-in:checked ~ .xr-array-preview {\n",
              "  display: none;\n",
              "}\n",
              "\n",
              ".xr-array-in:checked ~ .xr-array-data,\n",
              ".xr-array-preview {\n",
              "  display: inline-block;\n",
              "}\n",
              "\n",
              ".xr-dim-list {\n",
              "  display: inline-block !important;\n",
              "  list-style: none;\n",
              "  padding: 0 !important;\n",
              "  margin: 0;\n",
              "}\n",
              "\n",
              ".xr-dim-list li {\n",
              "  display: inline-block;\n",
              "  padding: 0;\n",
              "  margin: 0;\n",
              "}\n",
              "\n",
              ".xr-dim-list:before {\n",
              "  content: '(';\n",
              "}\n",
              "\n",
              ".xr-dim-list:after {\n",
              "  content: ')';\n",
              "}\n",
              "\n",
              ".xr-dim-list li:not(:last-child):after {\n",
              "  content: ',';\n",
              "  padding-right: 5px;\n",
              "}\n",
              "\n",
              ".xr-has-index {\n",
              "  font-weight: bold;\n",
              "}\n",
              "\n",
              ".xr-var-list,\n",
              ".xr-var-item {\n",
              "  display: contents;\n",
              "}\n",
              "\n",
              ".xr-var-item \u003e div,\n",
              ".xr-var-item label,\n",
              ".xr-var-item \u003e .xr-var-name span {\n",
              "  background-color: var(--xr-background-color-row-even);\n",
              "  margin-bottom: 0;\n",
              "}\n",
              "\n",
              ".xr-var-item \u003e .xr-var-name:hover span {\n",
              "  padding-right: 5px;\n",
              "}\n",
              "\n",
              ".xr-var-list \u003e li:nth-child(odd) \u003e div,\n",
              ".xr-var-list \u003e li:nth-child(odd) \u003e label,\n",
              ".xr-var-list \u003e li:nth-child(odd) \u003e .xr-var-name span {\n",
              "  background-color: var(--xr-background-color-row-odd);\n",
              "}\n",
              "\n",
              ".xr-var-name {\n",
              "  grid-column: 1;\n",
              "}\n",
              "\n",
              ".xr-var-dims {\n",
              "  grid-column: 2;\n",
              "}\n",
              "\n",
              ".xr-var-dtype {\n",
              "  grid-column: 3;\n",
              "  text-align: right;\n",
              "  color: var(--xr-font-color2);\n",
              "}\n",
              "\n",
              ".xr-var-preview {\n",
              "  grid-column: 4;\n",
              "}\n",
              "\n",
              ".xr-var-name,\n",
              ".xr-var-dims,\n",
              ".xr-var-dtype,\n",
              ".xr-preview,\n",
              ".xr-attrs dt {\n",
              "  white-space: nowrap;\n",
              "  overflow: hidden;\n",
              "  text-overflow: ellipsis;\n",
              "  padding-right: 10px;\n",
              "}\n",
              "\n",
              ".xr-var-name:hover,\n",
              ".xr-var-dims:hover,\n",
              ".xr-var-dtype:hover,\n",
              ".xr-attrs dt:hover {\n",
              "  overflow: visible;\n",
              "  width: auto;\n",
              "  z-index: 1;\n",
              "}\n",
              "\n",
              ".xr-var-attrs,\n",
              ".xr-var-data {\n",
              "  display: none;\n",
              "  background-color: var(--xr-background-color) !important;\n",
              "  padding-bottom: 5px !important;\n",
              "}\n",
              "\n",
              ".xr-var-attrs-in:checked ~ .xr-var-attrs,\n",
              ".xr-var-data-in:checked ~ .xr-var-data {\n",
              "  display: block;\n",
              "}\n",
              "\n",
              ".xr-var-data \u003e table {\n",
              "  float: right;\n",
              "}\n",
              "\n",
              ".xr-var-name span,\n",
              ".xr-var-data,\n",
              ".xr-attrs {\n",
              "  padding-left: 25px !important;\n",
              "}\n",
              "\n",
              ".xr-attrs,\n",
              ".xr-var-attrs,\n",
              ".xr-var-data {\n",
              "  grid-column: 1 / -1;\n",
              "}\n",
              "\n",
              "dl.xr-attrs {\n",
              "  padding: 0;\n",
              "  margin: 0;\n",
              "  display: grid;\n",
              "  grid-template-columns: 125px auto;\n",
              "}\n",
              "\n",
              ".xr-attrs dt,\n",
              ".xr-attrs dd {\n",
              "  padding: 0;\n",
              "  margin: 0;\n",
              "  float: left;\n",
              "  padding-right: 10px;\n",
              "  width: auto;\n",
              "}\n",
              "\n",
              ".xr-attrs dt {\n",
              "  font-weight: normal;\n",
              "  grid-column: 1;\n",
              "}\n",
              "\n",
              ".xr-attrs dt:hover span {\n",
              "  display: inline-block;\n",
              "  background: var(--xr-background-color);\n",
              "  padding-right: 10px;\n",
              "}\n",
              "\n",
              ".xr-attrs dd {\n",
              "  grid-column: 2;\n",
              "  white-space: pre-wrap;\n",
              "  word-break: break-all;\n",
              "}\n",
              "\n",
              ".xr-icon-database,\n",
              ".xr-icon-file-text2 {\n",
              "  display: inline-block;\n",
              "  vertical-align: middle;\n",
              "  width: 1em;\n",
              "  height: 1.5em !important;\n",
              "  stroke-width: 0;\n",
              "  stroke: currentColor;\n",
              "  fill: currentColor;\n",
              "}\n",
              "\u003c/style\u003e\u003cpre class='xr-text-repr-fallback'\u003e\u0026lt;xarray.Dataset\u0026gt;\n",
              "Dimensions:                   ()\n",
              "Data variables: (12/15)\n",
              "    geopotential              float64 1.728\n",
              "    temperature               float64 0.8303\n",
              "    u_component_of_wind       float64 0.4449\n",
              "    v_component_of_wind       float64 0.552\n",
              "    specific_humidity         float64 0.5817\n",
              "    wind_speed                float64 0.3873\n",
              "    ...                        ...\n",
              "    10m_v_component_of_wind   float64 0.4109\n",
              "    mean_sea_level_pressure   float64 1.362\n",
              "    total_precipitation_6hr   float64 1.033\n",
              "    10m_wind_speed            float64 0.341\n",
              "    10m_wind_vector           float64 nan\n",
              "    total_precipitation_24hr  float64 1.05\u003c/pre\u003e\u003cdiv class='xr-wrap' style='display:none'\u003e\u003cdiv class='xr-header'\u003e\u003cdiv class='xr-obj-type'\u003exarray.Dataset\u003c/div\u003e\u003c/div\u003e\u003cul class='xr-sections'\u003e\u003cli class='xr-section-item'\u003e\u003cinput id='section-29289d76-8fbb-4be0-a3e9-e23e63efe0a6' class='xr-section-summary-in' type='checkbox' disabled \u003e\u003clabel for='section-29289d76-8fbb-4be0-a3e9-e23e63efe0a6' class='xr-section-summary'  title='Expand/collapse section'\u003eDimensions:\u003c/label\u003e\u003cdiv class='xr-section-inline-details'\u003e\u003c/div\u003e\u003cdiv class='xr-section-details'\u003e\u003c/div\u003e\u003c/li\u003e\u003cli class='xr-section-item'\u003e\u003cinput id='section-f2d95572-823a-43a7-9aeb-ff479ab8b0be' class='xr-section-summary-in' type='checkbox' disabled \u003e\u003clabel for='section-f2d95572-823a-43a7-9aeb-ff479ab8b0be' class='xr-section-summary'  title='Expand/collapse section'\u003eCoordinates: \u003cspan\u003e(0)\u003c/span\u003e\u003c/label\u003e\u003cdiv class='xr-section-inline-details'\u003e\u003c/div\u003e\u003cdiv class='xr-section-details'\u003e\u003cul class='xr-var-list'\u003e\u003c/ul\u003e\u003c/div\u003e\u003c/li\u003e\u003cli class='xr-section-item'\u003e\u003cinput id='section-8c321f79-2d5a-4c50-982f-5a4a8dc6235e' class='xr-section-summary-in' type='checkbox'  \u003e\u003clabel for='section-8c321f79-2d5a-4c50-982f-5a4a8dc6235e' class='xr-section-summary' \u003eData variables: \u003cspan\u003e(15)\u003c/span\u003e\u003c/label\u003e\u003cdiv class='xr-section-inline-details'\u003e\u003c/div\u003e\u003cdiv class='xr-section-details'\u003e\u003cul class='xr-var-list'\u003e\u003cli class='xr-var-item'\u003e\u003cdiv class='xr-var-name'\u003e\u003cspan\u003egeopotential\u003c/span\u003e\u003c/div\u003e\u003cdiv class='xr-var-dims'\u003e()\u003c/div\u003e\u003cdiv class='xr-var-dtype'\u003efloat64\u003c/div\u003e\u003cdiv class='xr-var-preview xr-preview'\u003e1.728\u003c/div\u003e\u003cinput id='attrs-63915c14-d577-4c3b-9c9d-4a298a7675b1' class='xr-var-attrs-in' type='checkbox' disabled\u003e\u003clabel for='attrs-63915c14-d577-4c3b-9c9d-4a298a7675b1' title='Show/Hide attributes'\u003e\u003csvg class='icon xr-icon-file-text2'\u003e\u003cuse xlink:href='#icon-file-text2'\u003e\u003c/use\u003e\u003c/svg\u003e\u003c/label\u003e\u003cinput id='data-5bb53372-12b0-458f-9d49-2bb35450fd27' class='xr-var-data-in' type='checkbox'\u003e\u003clabel for='data-5bb53372-12b0-458f-9d49-2bb35450fd27' title='Show/Hide data repr'\u003e\u003csvg class='icon xr-icon-database'\u003e\u003cuse xlink:href='#icon-database'\u003e\u003c/use\u003e\u003c/svg\u003e\u003c/label\u003e\u003cdiv class='xr-var-attrs'\u003e\u003cdl class='xr-attrs'\u003e\u003c/dl\u003e\u003c/div\u003e\u003cdiv class='xr-var-data'\u003e\u003cpre\u003earray(1.72842427)\u003c/pre\u003e\u003c/div\u003e\u003c/li\u003e\u003cli class='xr-var-item'\u003e\u003cdiv class='xr-var-name'\u003e\u003cspan\u003etemperature\u003c/span\u003e\u003c/div\u003e\u003cdiv class='xr-var-dims'\u003e()\u003c/div\u003e\u003cdiv class='xr-var-dtype'\u003efloat64\u003c/div\u003e\u003cdiv class='xr-var-preview xr-preview'\u003e0.8303\u003c/div\u003e\u003cinput id='attrs-dda97428-f2e7-4d36-985b-7d9ade01f5a7' class='xr-var-attrs-in' type='checkbox' disabled\u003e\u003clabel for='attrs-dda97428-f2e7-4d36-985b-7d9ade01f5a7' title='Show/Hide attributes'\u003e\u003csvg class='icon xr-icon-file-text2'\u003e\u003cuse xlink:href='#icon-file-text2'\u003e\u003c/use\u003e\u003c/svg\u003e\u003c/label\u003e\u003cinput id='data-db83a18a-a84c-45d3-8746-ab80296b245b' class='xr-var-data-in' type='checkbox'\u003e\u003clabel for='data-db83a18a-a84c-45d3-8746-ab80296b245b' title='Show/Hide data repr'\u003e\u003csvg class='icon xr-icon-database'\u003e\u003cuse xlink:href='#icon-database'\u003e\u003c/use\u003e\u003c/svg\u003e\u003c/label\u003e\u003cdiv class='xr-var-attrs'\u003e\u003cdl class='xr-attrs'\u003e\u003c/dl\u003e\u003c/div\u003e\u003cdiv class='xr-var-data'\u003e\u003cpre\u003earray(0.83027347)\u003c/pre\u003e\u003c/div\u003e\u003c/li\u003e\u003cli class='xr-var-item'\u003e\u003cdiv class='xr-var-name'\u003e\u003cspan\u003eu_component_of_wind\u003c/span\u003e\u003c/div\u003e\u003cdiv class='xr-var-dims'\u003e()\u003c/div\u003e\u003cdiv class='xr-var-dtype'\u003efloat64\u003c/div\u003e\u003cdiv class='xr-var-preview xr-preview'\u003e0.4449\u003c/div\u003e\u003cinput id='attrs-523e39ae-6393-4194-a144-47b23b2ab607' class='xr-var-attrs-in' type='checkbox' disabled\u003e\u003clabel for='attrs-523e39ae-6393-4194-a144-47b23b2ab607' title='Show/Hide attributes'\u003e\u003csvg class='icon xr-icon-file-text2'\u003e\u003cuse xlink:href='#icon-file-text2'\u003e\u003c/use\u003e\u003c/svg\u003e\u003c/label\u003e\u003cinput id='data-7ddf0bab-4805-489e-95c4-669d8791c27e' class='xr-var-data-in' type='checkbox'\u003e\u003clabel for='data-7ddf0bab-4805-489e-95c4-669d8791c27e' title='Show/Hide data repr'\u003e\u003csvg class='icon xr-icon-database'\u003e\u003cuse xlink:href='#icon-database'\u003e\u003c/use\u003e\u003c/svg\u003e\u003c/label\u003e\u003cdiv class='xr-var-attrs'\u003e\u003cdl class='xr-attrs'\u003e\u003c/dl\u003e\u003c/div\u003e\u003cdiv class='xr-var-data'\u003e\u003cpre\u003earray(0.4448729)\u003c/pre\u003e\u003c/div\u003e\u003c/li\u003e\u003cli class='xr-var-item'\u003e\u003cdiv class='xr-var-name'\u003e\u003cspan\u003ev_component_of_wind\u003c/span\u003e\u003c/div\u003e\u003cdiv class='xr-var-dims'\u003e()\u003c/div\u003e\u003cdiv class='xr-var-dtype'\u003efloat64\u003c/div\u003e\u003cdiv class='xr-var-preview xr-preview'\u003e0.552\u003c/div\u003e\u003cinput id='attrs-e3d5b85b-529b-4852-ba51-7dc8bcee82db' class='xr-var-attrs-in' type='checkbox' disabled\u003e\u003clabel for='attrs-e3d5b85b-529b-4852-ba51-7dc8bcee82db' title='Show/Hide attributes'\u003e\u003csvg class='icon xr-icon-file-text2'\u003e\u003cuse xlink:href='#icon-file-text2'\u003e\u003c/use\u003e\u003c/svg\u003e\u003c/label\u003e\u003cinput id='data-91f54f8a-62a9-4def-8bb2-a726618f84b7' class='xr-var-data-in' type='checkbox'\u003e\u003clabel for='data-91f54f8a-62a9-4def-8bb2-a726618f84b7' title='Show/Hide data repr'\u003e\u003csvg class='icon xr-icon-database'\u003e\u003cuse xlink:href='#icon-database'\u003e\u003c/use\u003e\u003c/svg\u003e\u003c/label\u003e\u003cdiv class='xr-var-attrs'\u003e\u003cdl class='xr-attrs'\u003e\u003c/dl\u003e\u003c/div\u003e\u003cdiv class='xr-var-data'\u003e\u003cpre\u003earray(0.5519505)\u003c/pre\u003e\u003c/div\u003e\u003c/li\u003e\u003cli class='xr-var-item'\u003e\u003cdiv class='xr-var-name'\u003e\u003cspan\u003especific_humidity\u003c/span\u003e\u003c/div\u003e\u003cdiv class='xr-var-dims'\u003e()\u003c/div\u003e\u003cdiv class='xr-var-dtype'\u003efloat64\u003c/div\u003e\u003cdiv class='xr-var-preview xr-preview'\u003e0.5817\u003c/div\u003e\u003cinput id='attrs-1473909c-9d06-45ec-ad6a-4370b86b88d5' class='xr-var-attrs-in' type='checkbox' disabled\u003e\u003clabel for='attrs-1473909c-9d06-45ec-ad6a-4370b86b88d5' title='Show/Hide attributes'\u003e\u003csvg class='icon xr-icon-file-text2'\u003e\u003cuse xlink:href='#icon-file-text2'\u003e\u003c/use\u003e\u003c/svg\u003e\u003c/label\u003e\u003cinput id='data-4ab630eb-4488-42cb-baa6-f816712649ce' class='xr-var-data-in' type='checkbox'\u003e\u003clabel for='data-4ab630eb-4488-42cb-baa6-f816712649ce' title='Show/Hide data repr'\u003e\u003csvg class='icon xr-icon-database'\u003e\u003cuse xlink:href='#icon-database'\u003e\u003c/use\u003e\u003c/svg\u003e\u003c/label\u003e\u003cdiv class='xr-var-attrs'\u003e\u003cdl class='xr-attrs'\u003e\u003c/dl\u003e\u003c/div\u003e\u003cdiv class='xr-var-data'\u003e\u003cpre\u003earray(0.58167286)\u003c/pre\u003e\u003c/div\u003e\u003c/li\u003e\u003cli class='xr-var-item'\u003e\u003cdiv class='xr-var-name'\u003e\u003cspan\u003ewind_speed\u003c/span\u003e\u003c/div\u003e\u003cdiv class='xr-var-dims'\u003e()\u003c/div\u003e\u003cdiv class='xr-var-dtype'\u003efloat64\u003c/div\u003e\u003cdiv class='xr-var-preview xr-preview'\u003e0.3873\u003c/div\u003e\u003cinput id='attrs-8a36c241-0c3b-4102-8432-b3a14f16ef32' class='xr-var-attrs-in' type='checkbox' disabled\u003e\u003clabel for='attrs-8a36c241-0c3b-4102-8432-b3a14f16ef32' title='Show/Hide attributes'\u003e\u003csvg class='icon xr-icon-file-text2'\u003e\u003cuse xlink:href='#icon-file-text2'\u003e\u003c/use\u003e\u003c/svg\u003e\u003c/label\u003e\u003cinput id='data-3e8f257a-ca92-4a7b-b18e-ba091608858d' class='xr-var-data-in' type='checkbox'\u003e\u003clabel for='data-3e8f257a-ca92-4a7b-b18e-ba091608858d' title='Show/Hide data repr'\u003e\u003csvg class='icon xr-icon-database'\u003e\u003cuse xlink:href='#icon-database'\u003e\u003c/use\u003e\u003c/svg\u003e\u003c/label\u003e\u003cdiv class='xr-var-attrs'\u003e\u003cdl class='xr-attrs'\u003e\u003c/dl\u003e\u003c/div\u003e\u003cdiv class='xr-var-data'\u003e\u003cpre\u003earray(0.3873429)\u003c/pre\u003e\u003c/div\u003e\u003c/li\u003e\u003cli class='xr-var-item'\u003e\u003cdiv class='xr-var-name'\u003e\u003cspan\u003ewind_vector\u003c/span\u003e\u003c/div\u003e\u003cdiv class='xr-var-dims'\u003e()\u003c/div\u003e\u003cdiv class='xr-var-dtype'\u003efloat64\u003c/div\u003e\u003cdiv class='xr-var-preview xr-preview'\u003enan\u003c/div\u003e\u003cinput id='attrs-e4dbecf5-5cd9-424d-b08b-67d651eb1ff5' class='xr-var-attrs-in' type='checkbox' disabled\u003e\u003clabel for='attrs-e4dbecf5-5cd9-424d-b08b-67d651eb1ff5' title='Show/Hide attributes'\u003e\u003csvg class='icon xr-icon-file-text2'\u003e\u003cuse xlink:href='#icon-file-text2'\u003e\u003c/use\u003e\u003c/svg\u003e\u003c/label\u003e\u003cinput id='data-b5e2d977-5f4c-4b99-9d7a-28fb90a31d7d' class='xr-var-data-in' type='checkbox'\u003e\u003clabel for='data-b5e2d977-5f4c-4b99-9d7a-28fb90a31d7d' title='Show/Hide data repr'\u003e\u003csvg class='icon xr-icon-database'\u003e\u003cuse xlink:href='#icon-database'\u003e\u003c/use\u003e\u003c/svg\u003e\u003c/label\u003e\u003cdiv class='xr-var-attrs'\u003e\u003cdl class='xr-attrs'\u003e\u003c/dl\u003e\u003c/div\u003e\u003cdiv class='xr-var-data'\u003e\u003cpre\u003earray(nan)\u003c/pre\u003e\u003c/div\u003e\u003c/li\u003e\u003cli class='xr-var-item'\u003e\u003cdiv class='xr-var-name'\u003e\u003cspan\u003e2m_temperature\u003c/span\u003e\u003c/div\u003e\u003cdiv class='xr-var-dims'\u003e()\u003c/div\u003e\u003cdiv class='xr-var-dtype'\u003efloat64\u003c/div\u003e\u003cdiv class='xr-var-preview xr-preview'\u003e0.9661\u003c/div\u003e\u003cinput id='attrs-0365dec3-e26d-4c00-bdfb-0181f7875aea' class='xr-var-attrs-in' type='checkbox' disabled\u003e\u003clabel for='attrs-0365dec3-e26d-4c00-bdfb-0181f7875aea' title='Show/Hide attributes'\u003e\u003csvg class='icon xr-icon-file-text2'\u003e\u003cuse xlink:href='#icon-file-text2'\u003e\u003c/use\u003e\u003c/svg\u003e\u003c/label\u003e\u003cinput id='data-89005259-b24e-471c-8e47-fd96211c5123' class='xr-var-data-in' type='checkbox'\u003e\u003clabel for='data-89005259-b24e-471c-8e47-fd96211c5123' title='Show/Hide data repr'\u003e\u003csvg class='icon xr-icon-database'\u003e\u003cuse xlink:href='#icon-database'\u003e\u003c/use\u003e\u003c/svg\u003e\u003c/label\u003e\u003cdiv class='xr-var-attrs'\u003e\u003cdl class='xr-attrs'\u003e\u003c/dl\u003e\u003c/div\u003e\u003cdiv class='xr-var-data'\u003e\u003cpre\u003earray(0.96606808)\u003c/pre\u003e\u003c/div\u003e\u003c/li\u003e\u003cli class='xr-var-item'\u003e\u003cdiv class='xr-var-name'\u003e\u003cspan\u003e10m_u_component_of_wind\u003c/span\u003e\u003c/div\u003e\u003cdiv class='xr-var-dims'\u003e()\u003c/div\u003e\u003cdiv class='xr-var-dtype'\u003efloat64\u003c/div\u003e\u003cdiv class='xr-var-preview xr-preview'\u003e0.4703\u003c/div\u003e\u003cinput id='attrs-25799d21-f33d-44d6-a2ad-6b2b58d843d2' class='xr-var-attrs-in' type='checkbox' disabled\u003e\u003clabel for='attrs-25799d21-f33d-44d6-a2ad-6b2b58d843d2' title='Show/Hide attributes'\u003e\u003csvg class='icon xr-icon-file-text2'\u003e\u003cuse xlink:href='#icon-file-text2'\u003e\u003c/use\u003e\u003c/svg\u003e\u003c/label\u003e\u003cinput id='data-e32bbf58-ea41-49c6-89c2-9b5c7bd4ef84' class='xr-var-data-in' type='checkbox'\u003e\u003clabel for='data-e32bbf58-ea41-49c6-89c2-9b5c7bd4ef84' title='Show/Hide data repr'\u003e\u003csvg class='icon xr-icon-database'\u003e\u003cuse xlink:href='#icon-database'\u003e\u003c/use\u003e\u003c/svg\u003e\u003c/label\u003e\u003cdiv class='xr-var-attrs'\u003e\u003cdl class='xr-attrs'\u003e\u003c/dl\u003e\u003c/div\u003e\u003cdiv class='xr-var-data'\u003e\u003cpre\u003earray(0.47033097)\u003c/pre\u003e\u003c/div\u003e\u003c/li\u003e\u003cli class='xr-var-item'\u003e\u003cdiv class='xr-var-name'\u003e\u003cspan\u003e10m_v_component_of_wind\u003c/span\u003e\u003c/div\u003e\u003cdiv class='xr-var-dims'\u003e()\u003c/div\u003e\u003cdiv class='xr-var-dtype'\u003efloat64\u003c/div\u003e\u003cdiv class='xr-var-preview xr-preview'\u003e0.4109\u003c/div\u003e\u003cinput id='attrs-2419031c-fc85-4d66-ab1f-43251eec9420' class='xr-var-attrs-in' type='checkbox' disabled\u003e\u003clabel for='attrs-2419031c-fc85-4d66-ab1f-43251eec9420' title='Show/Hide attributes'\u003e\u003csvg class='icon xr-icon-file-text2'\u003e\u003cuse xlink:href='#icon-file-text2'\u003e\u003c/use\u003e\u003c/svg\u003e\u003c/label\u003e\u003cinput id='data-09039a77-320b-450d-9350-d905dc28b62a' class='xr-var-data-in' type='checkbox'\u003e\u003clabel for='data-09039a77-320b-450d-9350-d905dc28b62a' title='Show/Hide data repr'\u003e\u003csvg class='icon xr-icon-database'\u003e\u003cuse xlink:href='#icon-database'\u003e\u003c/use\u003e\u003c/svg\u003e\u003c/label\u003e\u003cdiv class='xr-var-attrs'\u003e\u003cdl class='xr-attrs'\u003e\u003c/dl\u003e\u003c/div\u003e\u003cdiv class='xr-var-data'\u003e\u003cpre\u003earray(0.41087108)\u003c/pre\u003e\u003c/div\u003e\u003c/li\u003e\u003cli class='xr-var-item'\u003e\u003cdiv class='xr-var-name'\u003e\u003cspan\u003emean_sea_level_pressure\u003c/span\u003e\u003c/div\u003e\u003cdiv class='xr-var-dims'\u003e()\u003c/div\u003e\u003cdiv class='xr-var-dtype'\u003efloat64\u003c/div\u003e\u003cdiv class='xr-var-preview xr-preview'\u003e1.362\u003c/div\u003e\u003cinput id='attrs-b4e40374-c891-4d25-9927-c621ca405b88' class='xr-var-attrs-in' type='checkbox' disabled\u003e\u003clabel for='attrs-b4e40374-c891-4d25-9927-c621ca405b88' title='Show/Hide attributes'\u003e\u003csvg class='icon xr-icon-file-text2'\u003e\u003cuse xlink:href='#icon-file-text2'\u003e\u003c/use\u003e\u003c/svg\u003e\u003c/label\u003e\u003cinput id='data-6fcdc05c-1657-4eb0-8ef0-c3fa11834f86' class='xr-var-data-in' type='checkbox'\u003e\u003clabel for='data-6fcdc05c-1657-4eb0-8ef0-c3fa11834f86' title='Show/Hide data repr'\u003e\u003csvg class='icon xr-icon-database'\u003e\u003cuse xlink:href='#icon-database'\u003e\u003c/use\u003e\u003c/svg\u003e\u003c/label\u003e\u003cdiv class='xr-var-attrs'\u003e\u003cdl class='xr-attrs'\u003e\u003c/dl\u003e\u003c/div\u003e\u003cdiv class='xr-var-data'\u003e\u003cpre\u003earray(1.36203746)\u003c/pre\u003e\u003c/div\u003e\u003c/li\u003e\u003cli class='xr-var-item'\u003e\u003cdiv class='xr-var-name'\u003e\u003cspan\u003etotal_precipitation_6hr\u003c/span\u003e\u003c/div\u003e\u003cdiv class='xr-var-dims'\u003e()\u003c/div\u003e\u003cdiv class='xr-var-dtype'\u003efloat64\u003c/div\u003e\u003cdiv class='xr-var-preview xr-preview'\u003e1.033\u003c/div\u003e\u003cinput id='attrs-b86f5c3b-7539-4337-b580-621da660acd5' class='xr-var-attrs-in' type='checkbox' disabled\u003e\u003clabel for='attrs-b86f5c3b-7539-4337-b580-621da660acd5' title='Show/Hide attributes'\u003e\u003csvg class='icon xr-icon-file-text2'\u003e\u003cuse xlink:href='#icon-file-text2'\u003e\u003c/use\u003e\u003c/svg\u003e\u003c/label\u003e\u003cinput id='data-73d16df2-d534-4ab5-8427-b774aefc7dcb' class='xr-var-data-in' type='checkbox'\u003e\u003clabel for='data-73d16df2-d534-4ab5-8427-b774aefc7dcb' title='Show/Hide data repr'\u003e\u003csvg class='icon xr-icon-database'\u003e\u003cuse xlink:href='#icon-database'\u003e\u003c/use\u003e\u003c/svg\u003e\u003c/label\u003e\u003cdiv class='xr-var-attrs'\u003e\u003cdl class='xr-attrs'\u003e\u003c/dl\u003e\u003c/div\u003e\u003cdiv class='xr-var-data'\u003e\u003cpre\u003earray(1.03309078)\u003c/pre\u003e\u003c/div\u003e\u003c/li\u003e\u003cli class='xr-var-item'\u003e\u003cdiv class='xr-var-name'\u003e\u003cspan\u003e10m_wind_speed\u003c/span\u003e\u003c/div\u003e\u003cdiv class='xr-var-dims'\u003e()\u003c/div\u003e\u003cdiv class='xr-var-dtype'\u003efloat64\u003c/div\u003e\u003cdiv class='xr-var-preview xr-preview'\u003e0.341\u003c/div\u003e\u003cinput id='attrs-9ac5300a-684e-4956-8627-41123bbad089' class='xr-var-attrs-in' type='checkbox' disabled\u003e\u003clabel for='attrs-9ac5300a-684e-4956-8627-41123bbad089' title='Show/Hide attributes'\u003e\u003csvg class='icon xr-icon-file-text2'\u003e\u003cuse xlink:href='#icon-file-text2'\u003e\u003c/use\u003e\u003c/svg\u003e\u003c/label\u003e\u003cinput id='data-0125fbdf-8dec-41f4-bf5d-4d81a12f891c' class='xr-var-data-in' type='checkbox'\u003e\u003clabel for='data-0125fbdf-8dec-41f4-bf5d-4d81a12f891c' title='Show/Hide data repr'\u003e\u003csvg class='icon xr-icon-database'\u003e\u003cuse xlink:href='#icon-database'\u003e\u003c/use\u003e\u003c/svg\u003e\u003c/label\u003e\u003cdiv class='xr-var-attrs'\u003e\u003cdl class='xr-attrs'\u003e\u003c/dl\u003e\u003c/div\u003e\u003cdiv class='xr-var-data'\u003e\u003cpre\u003earray(0.34097546)\u003c/pre\u003e\u003c/div\u003e\u003c/li\u003e\u003cli class='xr-var-item'\u003e\u003cdiv class='xr-var-name'\u003e\u003cspan\u003e10m_wind_vector\u003c/span\u003e\u003c/div\u003e\u003cdiv class='xr-var-dims'\u003e()\u003c/div\u003e\u003cdiv class='xr-var-dtype'\u003efloat64\u003c/div\u003e\u003cdiv class='xr-var-preview xr-preview'\u003enan\u003c/div\u003e\u003cinput id='attrs-79fbe679-1b0d-499a-86dc-5207df84250b' class='xr-var-attrs-in' type='checkbox' disabled\u003e\u003clabel for='attrs-79fbe679-1b0d-499a-86dc-5207df84250b' title='Show/Hide attributes'\u003e\u003csvg class='icon xr-icon-file-text2'\u003e\u003cuse xlink:href='#icon-file-text2'\u003e\u003c/use\u003e\u003c/svg\u003e\u003c/label\u003e\u003cinput id='data-694639ad-aee9-4fc0-a7d7-3e08df5434d6' class='xr-var-data-in' type='checkbox'\u003e\u003clabel for='data-694639ad-aee9-4fc0-a7d7-3e08df5434d6' title='Show/Hide data repr'\u003e\u003csvg class='icon xr-icon-database'\u003e\u003cuse xlink:href='#icon-database'\u003e\u003c/use\u003e\u003c/svg\u003e\u003c/label\u003e\u003cdiv class='xr-var-attrs'\u003e\u003cdl class='xr-attrs'\u003e\u003c/dl\u003e\u003c/div\u003e\u003cdiv class='xr-var-data'\u003e\u003cpre\u003earray(nan)\u003c/pre\u003e\u003c/div\u003e\u003c/li\u003e\u003cli class='xr-var-item'\u003e\u003cdiv class='xr-var-name'\u003e\u003cspan\u003etotal_precipitation_24hr\u003c/span\u003e\u003c/div\u003e\u003cdiv class='xr-var-dims'\u003e()\u003c/div\u003e\u003cdiv class='xr-var-dtype'\u003efloat64\u003c/div\u003e\u003cdiv class='xr-var-preview xr-preview'\u003e1.05\u003c/div\u003e\u003cinput id='attrs-ee3ffc81-8604-4489-811b-c066f8727e31' class='xr-var-attrs-in' type='checkbox' disabled\u003e\u003clabel for='attrs-ee3ffc81-8604-4489-811b-c066f8727e31' title='Show/Hide attributes'\u003e\u003csvg class='icon xr-icon-file-text2'\u003e\u003cuse xlink:href='#icon-file-text2'\u003e\u003c/use\u003e\u003c/svg\u003e\u003c/label\u003e\u003cinput id='data-41fb89fc-f773-4bc2-9fa0-e83f71748740' class='xr-var-data-in' type='checkbox'\u003e\u003clabel for='data-41fb89fc-f773-4bc2-9fa0-e83f71748740' title='Show/Hide data repr'\u003e\u003csvg class='icon xr-icon-database'\u003e\u003cuse xlink:href='#icon-database'\u003e\u003c/use\u003e\u003c/svg\u003e\u003c/label\u003e\u003cdiv class='xr-var-attrs'\u003e\u003cdl class='xr-attrs'\u003e\u003c/dl\u003e\u003c/div\u003e\u003cdiv class='xr-var-data'\u003e\u003cpre\u003earray(1.05013991)\u003c/pre\u003e\u003c/div\u003e\u003c/li\u003e\u003c/ul\u003e\u003c/div\u003e\u003c/li\u003e\u003cli class='xr-section-item'\u003e\u003cinput id='section-07d7b3bd-d442-4808-b666-ab13b313e80e' class='xr-section-summary-in' type='checkbox' disabled \u003e\u003clabel for='section-07d7b3bd-d442-4808-b666-ab13b313e80e' class='xr-section-summary'  title='Expand/collapse section'\u003eAttributes: \u003cspan\u003e(0)\u003c/span\u003e\u003c/label\u003e\u003cdiv class='xr-section-inline-details'\u003e\u003c/div\u003e\u003cdiv class='xr-section-details'\u003e\u003cdl class='xr-attrs'\u003e\u003c/dl\u003e\u003c/div\u003e\u003c/li\u003e\u003c/ul\u003e\u003c/div\u003e\u003c/div\u003e"
            ],
            "text/plain": [
              "\u003cxarray.Dataset\u003e\n",
              "Dimensions:                   ()\n",
              "Data variables: (12/15)\n",
              "    geopotential              float64 1.728\n",
              "    temperature               float64 0.8303\n",
              "    u_component_of_wind       float64 0.4449\n",
              "    v_component_of_wind       float64 0.552\n",
              "    specific_humidity         float64 0.5817\n",
              "    wind_speed                float64 0.3873\n",
              "    ...                        ...\n",
              "    10m_v_component_of_wind   float64 0.4109\n",
              "    mean_sea_level_pressure   float64 1.362\n",
              "    total_precipitation_6hr   float64 1.033\n",
              "    10m_wind_speed            float64 0.341\n",
              "    10m_wind_vector           float64 nan\n",
              "    total_precipitation_24hr  float64 1.05"
            ]
          },
          "execution_count": 18,
          "metadata": {},
          "output_type": "execute_result"
        }
      ],
      "source": [
        "(np.abs(new - rmse2) / rmse2 * 100).max()"
      ]
    },
    {
      "cell_type": "code",
      "execution_count": 19,
      "metadata": {
        "executionInfo": {
          "elapsed": 0,
          "status": "ok",
          "timestamp": 1686035478851,
          "user": {
            "displayName": "",
            "userId": ""
          },
          "user_tz": -120
        },
        "id": "PRPAlpvp5DIr"
      },
      "outputs": [],
      "source": [
        "# Fair to say that the differences are small"
      ]
    },
    {
      "cell_type": "markdown",
      "metadata": {
        "id": "P5qCzh_Yuvo-"
      },
      "source": [
        "# Compare resolutions"
      ]
    },
    {
      "cell_type": "code",
      "execution_count": 20,
      "metadata": {
        "executionInfo": {
          "elapsed": 114,
          "status": "ok",
          "timestamp": 1686035479218,
          "user": {
            "displayName": "",
            "userId": ""
          },
          "user_tz": -120
        },
        "id": "OZw4xlPLvAn-"
      },
      "outputs": [],
      "source": [
        "def get_viz_config_resolution(models):\n",
        "  RESULTS_DIR = '/cns/od-d/home/attractor/weatherbench/results'\n",
        "\n",
        "  model_paths = {\n",
        "      'hres_vs_analysis_1440x721': (\n",
        "          f'{RESULTS_DIR}/1440x721/deterministic/hres_vs_analysis_2020_deterministic.nc'\n",
        "      ),\n",
        "      'hres_vs_analysis_240x121': (\n",
        "          f'{RESULTS_DIR}/240x121/deterministic/hres_vs_analysis_2020_deterministic.nc'\n",
        "      ),\n",
        "      'hres_vs_analysis_64x32': (\n",
        "          f'{RESULTS_DIR}/64x32/deterministic/hres_vs_analysis_2020_deterministic.nc'\n",
        "      ),\n",
        "      'hres_vs_era_1440x721': (\n",
        "          f'{RESULTS_DIR}/1440x721/deterministic/hres_vs_era_2020_deterministic.nc'\n",
        "      ),\n",
        "      'hres_vs_era_240x121': (\n",
        "          f'{RESULTS_DIR}/240x121/deterministic/hres_vs_era_2020_deterministic.nc'\n",
        "      ),\n",
        "      'hres_vs_era_64x32': (\n",
        "          f'{RESULTS_DIR}/64x32/deterministic/hres_vs_era_2020_deterministic.nc'\n",
        "      ),\n",
        "      'ens_mean_vs_analysis_1440x721': (\n",
        "          f'{RESULTS_DIR}/1440x721/deterministic/ens_vs_analysis_2020_deterministic.nc'\n",
        "      ),\n",
        "      'ens_mean_vs_analysis_240x121': (\n",
        "          f'{RESULTS_DIR}/240x121/deterministic/ens_vs_analysis_2020_deterministic.nc'\n",
        "      ),\n",
        "      'ens_mean_vs_analysis_64x32': (\n",
        "          f'{RESULTS_DIR}/64x32/deterministic/ens_vs_analysis_2020_deterministic.nc'\n",
        "      ),\n",
        "      'ens_mean_vs_era_1440x721': (\n",
        "          f'{RESULTS_DIR}/1440x721/deterministic/ens_vs_era_2020_deterministic.nc'\n",
        "      ),\n",
        "      'ens_mean_vs_era_240x121': (\n",
        "          f'{RESULTS_DIR}/240x121/deterministic/ens_vs_era_2020_deterministic.nc'\n",
        "      ),\n",
        "      'ens_mean_vs_era_64x32': (\n",
        "          f'{RESULTS_DIR}/64x32/deterministic/ens_vs_era_2020_deterministic.nc'\n",
        "      ),\n",
        "      'climatology_vs_era_1440x721': (\n",
        "          f'{RESULTS_DIR}/1440x721/deterministic/climatology_vs_era_2020_deterministic.nc'\n",
        "      ),\n",
        "      'climatology_vs_era_240x121': (\n",
        "          f'{RESULTS_DIR}/240x121/deterministic/climatology_vs_era_2020_deterministic.nc'\n",
        "      ),\n",
        "      'climatology_vs_era_64x32': (\n",
        "          f'{RESULTS_DIR}/64x32/deterministic/climatology_vs_era_2020_deterministic.nc'\n",
        "      ),\n",
        "      'persistence_vs_era_1440x721': (\n",
        "          f'{RESULTS_DIR}/1440x721/deterministic/persistence_vs_era_2020_deterministic.nc'\n",
        "      ),\n",
        "      'persistence_vs_era_240x121': (\n",
        "          f'{RESULTS_DIR}/240x121/deterministic/persistence_vs_era_2020_deterministic.nc'\n",
        "      ),\n",
        "      'persistence_vs_era_64x32': (\n",
        "          f'{RESULTS_DIR}/64x32/deterministic/persistence_vs_era_2020_deterministic.nc'\n",
        "      ),\n",
        "      'graphcast_vs_era_1440x721': (\n",
        "          f'{RESULTS_DIR}/1440x721/deterministic/graphcast_vs_era_2020_deterministic.nc'\n",
        "      ),\n",
        "      'graphcast_vs_era_240x121': (\n",
        "          f'{RESULTS_DIR}/240x121/deterministic/graphcast_vs_era_2020_deterministic.nc'\n",
        "      ),\n",
        "      'graphcast_vs_era_64x32': (\n",
        "          f'{RESULTS_DIR}/64x32/deterministic/graphcast_vs_era_2020_deterministic.nc'\n",
        "      ),\n",
        "      'pangu_vs_era_1440x721': (\n",
        "          f'{RESULTS_DIR}/1440x721/deterministic/pangu_vs_era_2020_deterministic.nc'\n",
        "      ),\n",
        "      'pangu_vs_era_240x121': (\n",
        "          f'{RESULTS_DIR}/240x121/deterministic/pangu_vs_era_2020_deterministic.nc'\n",
        "      ),\n",
        "      'pangu_vs_era_64x32': (\n",
        "          f'{RESULTS_DIR}/64x32/deterministic/pangu_vs_era_2020_deterministic.nc'\n",
        "      ),\n",
        "      'era5-forecasts_vs_era_1440x721': (\n",
        "          f'{RESULTS_DIR}/1440x721/deterministic/era5-forecasts_vs_era_2020_deterministic.nc'\n",
        "      ),\n",
        "      'era5-forecasts_vs_era_240x121': (\n",
        "          f'{RESULTS_DIR}/240x121/deterministic/era5-forecasts_vs_era_2020_deterministic.nc'\n",
        "      ),\n",
        "      'era5-forecasts_vs_era_64x32': (\n",
        "          f'{RESULTS_DIR}/64x32/deterministic/era5-forecasts_vs_era_2020_deterministic.nc'\n",
        "      ),\n",
        "      'keisler_vs_era_240x121': (\n",
        "          f'{RESULTS_DIR}/240x121/deterministic/keisler_vs_era_2020_deterministic.nc'\n",
        "      ),\n",
        "      'keisler_vs_era_64x32': (\n",
        "          f'{RESULTS_DIR}/64x32/deterministic/keisler_vs_era_2020_deterministic.nc'\n",
        "      ),\n",
        "      # 'climatology_vs_era': (\n",
        "      #     f'{RESULTS_DIR}/climatology_vs_era_deterministic.nc'\n",
        "      # ),\n",
        "      # 'persistence_vs_era': (\n",
        "      #     f'{RESULTS_DIR}/persistence_vs_era_deterministic.nc'\n",
        "      # ),\n",
        "      # 'neuralgcm_vs_era': (\n",
        "      #     f'{RESULTS_DIR}/neuralgcm_vs_era_deterministic.nc'\n",
        "      # ),\n",
        "      # 'graphcast_vs_era': (\n",
        "      #     f'{RESULTS_DIR}/graphcast_vs_era_deterministic.nc'\n",
        "      # ),\n",
        "      # 'pangu_vs_era': f'{RESULTS_DIR}/pangu_vs_era_deterministic.nc',\n",
        "      # 'ens_vs_analysis': '/cns/od-d/home/attractor/weatherbench/test/240x121/probabilistic/results/ens_vs_analysis_ensemble_forecast_vs_era.nc',\n",
        "      # 'ens_vs_analysis': '/cns/od-d/home/attractor/weatherbench/test/240x121/probabilistic/results/ens_vs_analysis_ensemble_forecast_vs_.nc'\n",
        "  }\n",
        "\n",
        "  regions = ['global']\n",
        "\n",
        "  colors = {\n",
        "          'hres_vs_analysis': blue,\n",
        "          'hres_vs_era': blue,\n",
        "          'ens_mean_vs_analysis': green,\n",
        "          'ens_mean_vs_era': green,\n",
        "          # 'neuralgcm_vs_era': red,\n",
        "          'graphcast_vs_era': red,\n",
        "          # 'neuralgcm_vs_analysis': 'lightred',\n",
        "          'climatology_vs_era': '0.3',\n",
        "          'persistence_vs_era': '0.7',\n",
        "          'ens_vs_analysis': green,\n",
        "          'pangu_vs_era': purple,\n",
        "          'era5-forecasts_vs_era': yellow,\n",
        "          'keisler_vs_era': brown,\n",
        "      }\n",
        "\n",
        "  labels={\n",
        "      'hres_vs_era': 'IFS HRES vs ERA5',\n",
        "      'hres_vs_analysis': 'IFS HRES vs Analysis',\n",
        "      'ens_mean_vs_analysis': 'IFS ENS (mean) vs Analysis',\n",
        "      'ens_mean_vs_era': 'IFS ENS (mean) vs ERA5',\n",
        "      'hres_pp_vs_era': 'PP HRES vs ERA5',\n",
        "      'hres_pp_vs_analysis': 'PP HRES vs Analysis',\n",
        "      'neuralgcm_vs_era': 'NeuralGCM vs ERA5',\n",
        "      'graphcast_vs_era': 'GraphCast vs ERA5',\n",
        "      'neuralgcm_vs_analysis': 'NeuralGCM vs Analysis',\n",
        "      'climatology_vs_era': 'Climatology vs ERA5',\n",
        "      'persistence_vs_era': 'Persistence vs ERA5',\n",
        "      'ens_vs_analysis': 'IFS ENS vs Analysis',\n",
        "      'pangu_vs_era': 'Pangu-Weather vs ERA5',\n",
        "      'era5-forecasts_vs_era': 'ERA5-Forecasts vs ERA5',\n",
        "      'keisler_vs_era': 'Keisler (2022) vs ERA5',\n",
        "  }\n",
        "\n",
        "  all_colors = {}\n",
        "  linestyles = {}\n",
        "  all_labels = {}\n",
        "  for k, v in colors.items():\n",
        "    all_colors[k + '_1440x721'] = v\n",
        "    all_colors[k + '_240x121'] = v\n",
        "    all_colors[k + '_64x32'] = v\n",
        "    linestyles[k + '_1440x721'] = ':'\n",
        "    linestyles[k + '_240x121'] = '-'\n",
        "    linestyles[k + '_64x32'] = '--'\n",
        "    all_labels[k + '_1440x721'] = labels[k] + r' 0.25$^{\\circ}$'\n",
        "    all_labels[k + '_240x121'] = labels[k] + r' 1.5$^{\\circ}$'\n",
        "    all_labels[k + '_64x32'] = labels[k] + r' 5.625$^{\\circ}$'\n",
        "\n",
        "  viz_config = VizConfig(\n",
        "      results={model: model_paths[model] for model in models},\n",
        "      colors=all_colors,\n",
        "      linestyles=linestyles,\n",
        "      layout=(4, 2),\n",
        "      figsize=(10, 12),\n",
        "      labels=all_labels,\n",
        "      save_kwargs={'dpi': 300}\n",
        "  )\n",
        "  return viz_config"
      ]
    },
    {
      "cell_type": "code",
      "execution_count": 21,
      "metadata": {
        "executionInfo": {
          "elapsed": 1,
          "status": "ok",
          "timestamp": 1686035479429,
          "user": {
            "displayName": "",
            "userId": ""
          },
          "user_tz": -120
        },
        "id": "Cy2u8dVp1Snb"
      },
      "outputs": [],
      "source": [
        "models = ['climatology_vs_era', 'persistence_vs_era',\n",
        "          'hres_vs_analysis', 'hres_vs_era', 'ens_mean_vs_analysis', 'ens_mean_vs_era', \n",
        "          'era5-forecasts_vs_era',\n",
        "          'keisler_vs_era','pangu_vs_era', \n",
        "          'graphcast_vs_era'\n",
        "          ]\n",
        "all_models = []\n",
        "for model in models:\n",
        "  if not model =='keisler_vs_era':\n",
        "    all_models.append(model + '_1440x721')\n",
        "  all_models.append(model + '_240x121')\n",
        "  all_models.append(model + '_64x32')"
      ]
    },
    {
      "cell_type": "code",
      "execution_count": 22,
      "metadata": {
        "executionInfo": {
          "elapsed": 1,
          "status": "ok",
          "timestamp": 1686035479668,
          "user": {
            "displayName": "",
            "userId": ""
          },
          "user_tz": -120
        },
        "id": "CtnQwP0Zuvja"
      },
      "outputs": [],
      "source": [
        "viz_config = get_viz_config_resolution(all_models)"
      ]
    },
    {
      "cell_type": "code",
      "execution_count": 23,
      "metadata": {
        "executionInfo": {
          "elapsed": 8670,
          "status": "ok",
          "timestamp": 1686035488577,
          "user": {
            "displayName": "",
            "userId": ""
          },
          "user_tz": -120
        },
        "id": "IrlU-O6m29Uc"
      },
      "outputs": [],
      "source": [
        "results = load_results(viz_config.results)"
      ]
    },
    {
      "cell_type": "code",
      "execution_count": 24,
      "metadata": {
        "executionInfo": {
          "elapsed": 61,
          "status": "ok",
          "timestamp": 1686035488847,
          "user": {
            "displayName": "",
            "userId": ""
          },
          "user_tz": -120
        },
        "id": "OX2nWGul2JPX"
      },
      "outputs": [],
      "source": [
        "# Substitute precipitation\n",
        "for res in ['_1440x721', '_240x121', '_64x32']:\n",
        "  new = results['hres_vs_analysis' + res]\n",
        "  for tp in ['total_precipitation_6hr', 'total_precipitation_24hr']:\n",
        "    new[tp] = results['hres_vs_era' + res][tp]\n",
        "  results['hres_vs_analysis' + res] = new\n",
        "\n",
        "  new = results['ens_mean_vs_analysis' + res]\n",
        "  for tp in ['total_precipitation_6hr', 'total_precipitation_24hr']:\n",
        "    new[tp] = results['ens_mean_vs_era' + res][tp]\n",
        "  results['ens_mean_vs_analysis' + res] = new\n",
        "\n",
        "  del results['hres_vs_era' + res]\n",
        "  del results['ens_mean_vs_era' + res]"
      ]
    },
    {
      "cell_type": "code",
      "execution_count": 25,
      "metadata": {
        "executionInfo": {
          "elapsed": 1,
          "status": "ok",
          "timestamp": 1686035489060,
          "user": {
            "displayName": "",
            "userId": ""
          },
          "user_tz": -120
        },
        "id": "kQQN7qnyw4JB"
      },
      "outputs": [],
      "source": [
        "# Subselect models for individual plots\n",
        "models = ['hres_vs_analysis_1440x721', 'hres_vs_analysis_240x121', 'hres_vs_analysis_64x32']\n",
        "new_results = {m: r for m, r in results.items() if m in models}\n",
        "viz_config.results = new_results"
      ]
    },
    {
      "cell_type": "code",
      "execution_count": 26,
      "metadata": {
        "executionInfo": {
          "elapsed": 2729,
          "status": "ok",
          "timestamp": 1686035492020,
          "user": {
            "displayName": "",
            "userId": ""
          },
          "user_tz": -120
        },
        "id": "hgKKoT_6uveW"
      },
      "outputs": [],
      "source": [
        "ylims = {\n",
        "    'geopotential': (0, 900),\n",
        "    'temperature': (0, 4),\n",
        "    'specific_humidity': (0, 2),\n",
        "    'wind_vector': (0, 10),\n",
        "    '2m_temperature': (0, 3),\n",
        "    'mean_sea_level_pressure': (0, 800),\n",
        "    '10m_wind_speed': (0, 4.5),\n",
        "    'total_precipitation_24hr': (0, 0.01*1000),\n",
        "}\n",
        "plot_headline_scores('rmse', relative=False, regions=regions, ylims=ylims, save_path=f'{SAVE_PATH}resolution_IFS.png')"
      ]
    },
    {
      "cell_type": "code",
      "execution_count": 27,
      "metadata": {
        "executionInfo": {
          "elapsed": 1,
          "status": "ok",
          "timestamp": 1686035492237,
          "user": {
            "displayName": "",
            "userId": ""
          },
          "user_tz": -120
        },
        "id": "DEriD2v3uvOd"
      },
      "outputs": [],
      "source": [
        "# Subselect models for individual plots\n",
        "res = '1440x721'\n",
        "new_results = {m: r for m, r in results.items() if m.endswith(res)}\n",
        "viz_config.results = new_results\n",
        "viz_config.linestyles = None"
      ]
    },
    {
      "cell_type": "code",
      "execution_count": 28,
      "metadata": {
        "executionInfo": {
          "elapsed": 2376,
          "status": "ok",
          "timestamp": 1686035494852,
          "user": {
            "displayName": "",
            "userId": ""
          },
          "user_tz": -120
        },
        "id": "wSAm8h9I1Tj7"
      },
      "outputs": [],
      "source": [
        "plot_headline_scores('rmse', relative=False, regions=regions, ylims=ylims, save_path=f'{SAVE_PATH}resolution_1440x721.png')"
      ]
    },
    {
      "cell_type": "code",
      "execution_count": 29,
      "metadata": {
        "executionInfo": {
          "elapsed": 2,
          "status": "ok",
          "timestamp": 1686035495061,
          "user": {
            "displayName": "",
            "userId": ""
          },
          "user_tz": -120
        },
        "id": "n_MVJtPK2MMs"
      },
      "outputs": [],
      "source": [
        "# Subselect models for individual plots\n",
        "res = '64x32'\n",
        "new_results = {m: r for m, r in results.items() if m.endswith(res)}\n",
        "viz_config.results = new_results\n",
        "viz_config.linestyles = None"
      ]
    },
    {
      "cell_type": "code",
      "execution_count": 30,
      "metadata": {
        "executionInfo": {
          "elapsed": 2480,
          "status": "ok",
          "timestamp": 1686035497772,
          "user": {
            "displayName": "",
            "userId": ""
          },
          "user_tz": -120
        },
        "id": "lLZtvKZq2MZY"
      },
      "outputs": [],
      "source": [
        "plot_headline_scores('rmse', relative=False, regions=regions, ylims=ylims, save_path=f'{SAVE_PATH}resolution_64x32.png')"
      ]
    },
    {
      "cell_type": "markdown",
      "metadata": {
        "id": "p5bmpkvYUuYu"
      },
      "source": [
        "# AN vs ERA comparison"
      ]
    },
    {
      "cell_type": "code",
      "execution_count": 31,
      "metadata": {
        "executionInfo": {
          "elapsed": 58,
          "status": "ok",
          "timestamp": 1686035498029,
          "user": {
            "displayName": "",
            "userId": ""
          },
          "user_tz": -120
        },
        "id": "QHH-k68oew-D"
      },
      "outputs": [],
      "source": [
        "models = ['hres_vs_analysis', 'hres_vs_era', 'ens_mean_vs_analysis', 'ens_mean_vs_era']\n",
        "regions = ['global']\n",
        "viz_config = get_viz_config(models)"
      ]
    },
    {
      "cell_type": "code",
      "execution_count": 32,
      "metadata": {
        "executionInfo": {
          "elapsed": 3375,
          "status": "ok",
          "timestamp": 1686035501611,
          "user": {
            "displayName": "",
            "userId": ""
          },
          "user_tz": -120
        },
        "id": "Dfyajq9_eodu"
      },
      "outputs": [],
      "source": [
        "ylims = {\n",
        "    'geopotential': (0, 900),\n",
        "    'temperature': (0, 4),\n",
        "    'specific_humidity': (0, 2),\n",
        "    'wind_vector': (0, 10),\n",
        "    '2m_temperature': (0, 3),\n",
        "    'mean_sea_level_pressure': (0, 800),\n",
        "    '10m_wind_speed': (0, 4.5),\n",
        "    'total_precipitation_24hr': (0, 0.01*1000),\n",
        "}\n",
        "plot_headline_scores('rmse', relative=False, regions=regions, ylims=ylims, legend_position=2, save_path=f'{SAVE_PATH}IFS_analysis_vs_era.png')"
      ]
    },
    {
      "cell_type": "markdown",
      "metadata": {
        "id": "fGGy-uqThyhi"
      },
      "source": [
        "# Probabilistic\n"
      ]
    },
    {
      "cell_type": "code",
      "execution_count": 33,
      "metadata": {
        "colab": {
          "height": 346
        },
        "executionInfo": {
          "elapsed": 387,
          "status": "error",
          "timestamp": 1686035502214,
          "user": {
            "displayName": "",
            "userId": ""
          },
          "user_tz": -120
        },
        "id": "LXPaK_fIi96_",
        "outputId": "75384dd9-3472-42d6-eb01-f6b838deb68e"
      },
      "outputs": [
        {
          "debug": {
            "argv": [
              "/export/hda3/borglet/remote_hdd_fs_dirs/0.aiforweather_colab.kernel.aiforweather.3431397748693.14b334fb3717c109/mount/server/notebook.par",
              "kernel",
              "-f",
              "/tmp/ipy-be-1n6_4m3m/profile_colab/security/kernel-a9293063-6563-46ac-acb9-e3ddcae4dcd4.json",
              "--profile-dir",
              "/tmp/ipy-be-1n6_4m3m/profile_colab",
              "--profile=colab",
              "--ipython-dir=/tmp/ipy-be-8vfok317",
              "--no-secure"
            ],
            "build": "Built on Mon Jun  5 06:04:37 2023 (1685970277)\nBuilt by aiforweather-releaser@otlg24.prod.google.com:/google/src/cloud/buildrabbit-username/buildrabbit-client/google3\nBuilt as //research/weather/colab:notebook\nBuild ID: 553b084a-3c88-4c49-b3d9-0da7b8b4e13f\nBuilt from changelist 537839596 in a mint client based on //depot/google3\nBuild label: aiforweather_20230605_RC00\nBuild platform: gcc-4.X.Y-crosstool-v18-llvm-grtev4-k8\nBuild tool: Blaze, release blaze-2023.05.24-3 (mainline @534459983)\nBuilt with par options [\"--compress\"]\nCurrently running under Python 3.10.11: embedded.\n",
            "user": "aiforweather"
          },
          "ename": "KeyError",
          "evalue": "ignored",
          "output_type": "error",
          "traceback": [
            "\u001b[1;31m---------------------------------------------------------------------------\u001b[0m",
            "\u001b[1;31mKeyError\u001b[0m                                  Traceback (most recent call last)",
            "\u001b[1;32m\u003cipython-input-33-6d5b02400742\u003e\u001b[0m in \u001b[0;36m\u003cmodule\u003e\u001b[1;34m()\u001b[0m\n\u001b[0;32m      1\u001b[0m \u001b[0mmodels\u001b[0m \u001b[1;33m=\u001b[0m \u001b[1;33m[\u001b[0m\u001b[1;34m'ens_vs_analysis'\u001b[0m\u001b[1;33m,\u001b[0m \u001b[1;34m'ens_vs_era'\u001b[0m\u001b[1;33m]\u001b[0m\u001b[1;33m\u001b[0m\u001b[1;33m\u001b[0m\u001b[0m\n\u001b[0;32m      2\u001b[0m \u001b[1;33m\u001b[0m\u001b[0m\n\u001b[1;32m----\u003e 3\u001b[1;33m \u001b[0mviz_config\u001b[0m \u001b[1;33m=\u001b[0m \u001b[0mget_viz_config\u001b[0m\u001b[1;33m(\u001b[0m\u001b[0mmodels\u001b[0m\u001b[1;33m)\u001b[0m\u001b[1;33m\u001b[0m\u001b[1;33m\u001b[0m\u001b[0m\n\u001b[0m",
            "\u001b[1;32m\u003cipython-input-8-7219c8e48d6d\u003e\u001b[0m in \u001b[0;36mget_viz_config\u001b[1;34m(models)\u001b[0m\n\u001b[0;32m     31\u001b[0m \u001b[1;33m\u001b[0m\u001b[0m\n\u001b[0;32m     32\u001b[0m   viz_config = VizConfig(\n\u001b[1;32m---\u003e 33\u001b[1;33m       \u001b[0mresults\u001b[0m\u001b[1;33m=\u001b[0m\u001b[1;33m{\u001b[0m\u001b[0mmodel\u001b[0m\u001b[1;33m:\u001b[0m \u001b[0mmodel_paths\u001b[0m\u001b[1;33m[\u001b[0m\u001b[0mmodel\u001b[0m\u001b[1;33m]\u001b[0m \u001b[1;32mfor\u001b[0m \u001b[0mmodel\u001b[0m \u001b[1;32min\u001b[0m \u001b[0mmodels\u001b[0m\u001b[1;33m}\u001b[0m\u001b[1;33m,\u001b[0m\u001b[1;33m\u001b[0m\u001b[1;33m\u001b[0m\u001b[0m\n\u001b[0m\u001b[0;32m     34\u001b[0m       colors={\n\u001b[0;32m     35\u001b[0m           \u001b[1;34m'hres_vs_analysis'\u001b[0m\u001b[1;33m:\u001b[0m \u001b[0mblue\u001b[0m\u001b[1;33m,\u001b[0m\u001b[1;33m\u001b[0m\u001b[1;33m\u001b[0m\u001b[0m\n",
            "\u001b[1;32m\u003cipython-input-8-7219c8e48d6d\u003e\u001b[0m in \u001b[0;36m\u003cdictcomp\u003e\u001b[1;34m(.0)\u001b[0m\n\u001b[0;32m     31\u001b[0m \u001b[1;33m\u001b[0m\u001b[0m\n\u001b[0;32m     32\u001b[0m   viz_config = VizConfig(\n\u001b[1;32m---\u003e 33\u001b[1;33m       \u001b[0mresults\u001b[0m\u001b[1;33m=\u001b[0m\u001b[1;33m{\u001b[0m\u001b[0mmodel\u001b[0m\u001b[1;33m:\u001b[0m \u001b[0mmodel_paths\u001b[0m\u001b[1;33m[\u001b[0m\u001b[0mmodel\u001b[0m\u001b[1;33m]\u001b[0m \u001b[1;32mfor\u001b[0m \u001b[0mmodel\u001b[0m \u001b[1;32min\u001b[0m \u001b[0mmodels\u001b[0m\u001b[1;33m}\u001b[0m\u001b[1;33m,\u001b[0m\u001b[1;33m\u001b[0m\u001b[1;33m\u001b[0m\u001b[0m\n\u001b[0m\u001b[0;32m     34\u001b[0m       colors={\n\u001b[0;32m     35\u001b[0m           \u001b[1;34m'hres_vs_analysis'\u001b[0m\u001b[1;33m:\u001b[0m \u001b[0mblue\u001b[0m\u001b[1;33m,\u001b[0m\u001b[1;33m\u001b[0m\u001b[1;33m\u001b[0m\u001b[0m\n",
            "\u001b[1;31mKeyError\u001b[0m: 'ens_vs_analysis'"
          ]
        }
      ],
      "source": [
        "models = ['ens_vs_analysis', 'ens_vs_era']\n",
        "\n",
        "viz_config = get_viz_config(models)"
      ]
    },
    {
      "cell_type": "code",
      "execution_count": null,
      "metadata": {
        "id": "nXzA3UNki97J"
      },
      "outputs": [],
      "source": [
        "results = visualization.load_results(viz_config.results)"
      ]
    },
    {
      "cell_type": "code",
      "execution_count": null,
      "metadata": {
        "id": "hP1rsdiEj53F"
      },
      "outputs": [],
      "source": [
        "# new = results['ens_vs_analysis']\n",
        "# for tp in ['total_precipitation_6hr']:\n",
        "#   new[tp] = results['ens_vs_era'][tp]\n",
        "# results['ens_vs_analysis'] = new\n",
        "\n",
        "# del results['ens_vs_era']"
      ]
    },
    {
      "cell_type": "code",
      "execution_count": null,
      "metadata": {
        "id": "vRjcMhY_jHCQ"
      },
      "outputs": [],
      "source": [
        "def plot_headline_scores_prob(\n",
        "      metric: str, relative: bool, regions: t.Sequence[str], ylims, save_path=None,\n",
        "      legend_position=2\n",
        "  ):\n",
        "    variables = [\n",
        "        ('geopotential', 500),\n",
        "        ('temperature', 850),\n",
        "        ('specific_humidity', 700),\n",
        "        ('wind_speed', 850),\n",
        "        ('2m_temperature', None),\n",
        "        ('mean_sea_level_pressure', None),\n",
        "        ('10m_wind_speed', None),\n",
        "        ('total_precipitation_6hr', None),\n",
        "    ]\n",
        "    \n",
        "    for region in regions:\n",
        "      plot_configs = []\n",
        "      for variable, level in variables:\n",
        "        if relative:\n",
        "          ylabel = '% relative to IFS HRES'\n",
        "        elif metric == 'spread\u0026skill':\n",
        "          ylabel = f'Spread / Skill [{units[variable]}]'\n",
        "        elif metric == 'spread/skill':\n",
        "          ylabel = f'Spread-skill ratio'\n",
        "        else:\n",
        "          ylabel = f'{metric.upper()} [{units[variable]}]'\n",
        "\n",
        "        plot_configs.append(\n",
        "            PanelConfig(\n",
        "                metric=metric,\n",
        "                variable=variable,\n",
        "                level=level,\n",
        "                region=region,\n",
        "                relative='ens_vs_analysis' if relative else None,\n",
        "                ylabel=ylabel,\n",
        "                xlabel='Lead time [days]',\n",
        "                title=(\n",
        "                    f'{long2short[variable]}{level if level else \"\"} ({region})'\n",
        "                ),\n",
        "                ylim=ylims[variable],\n",
        "            )\n",
        "        )\n",
        "\n",
        "      visualize_timeseries(\n",
        "          viz_config,\n",
        "          plot_configs,\n",
        "          save_path=save_path,\n",
        "          subplots_adjust_kwargs={'left': 0.08, 'right': 0.98, 'bottom': 0.05, 'top': 0.95, 'hspace': 0.25},\n",
        "          legend_position=legend_position,\n",
        "      )"
      ]
    },
    {
      "cell_type": "code",
      "execution_count": null,
      "metadata": {
        "id": "INvdgSdhiGGb"
      },
      "outputs": [],
      "source": [
        "ylims = {\n",
        "    'geopotential': (0, 400),\n",
        "    'temperature': (0, 2),\n",
        "    'specific_humidity': (0, 1),\n",
        "    'wind_speed': (0, 3),\n",
        "    '2m_temperature': (0, 1.5),\n",
        "    'mean_sea_level_pressure': (0, 400),\n",
        "    '10m_wind_speed': (0, 2),\n",
        "    'total_precipitation_6hr': (0, 900),\n",
        "}\n",
        "plot_headline_scores('crps', relative=False, regions=regions, ylims=ylims, save_path=f'{SAVE_PATH}crps_abs.png')\n",
        "\n",
        "ylims = {\n",
        "    'geopotential': (0, 900),\n",
        "    'temperature': (0, 4),\n",
        "    'specific_humidity': (0, 2),\n",
        "    'wind_speed': (0, 5),\n",
        "    '2m_temperature': (0, 3),\n",
        "    'mean_sea_level_pressure': (0, 800),\n",
        "    '10m_wind_speed': (0, 3),\n",
        "    'total_precipitation_6hr': (0, 900),\n",
        "}\n",
        "plot_headline_scores_prob('spread\u0026skill', relative=False, regions=regions, ylims=ylims, save_path=f'{SAVE_PATH}spread_and_skill.png')\n",
        "\n",
        "ylims = {\n",
        "    'geopotential': (0.5, 1.5),\n",
        "    'temperature': (0.5, 1.5),\n",
        "    'specific_humidity': (0.5, 1.5),\n",
        "    'wind_speed': (0.5, 1.5),\n",
        "    '2m_temperature': (0.5, 1.5),\n",
        "    'mean_sea_level_pressure': (0.5, 1.5),\n",
        "    '10m_wind_speed': (0.5, 1.5),\n",
        "    'total_precipitation_6hr': (0.5, 1.5),\n",
        "}\n",
        "plot_headline_scores_prob('spread/skill', relative=False, regions=regions, ylims=ylims, save_path=f'{SAVE_PATH}spread_skill_ratio.png')"
      ]
    },
    {
      "cell_type": "markdown",
      "metadata": {
        "id": "Znvhr6MDtcP7"
      },
      "source": [
        "# Bias "
      ]
    },
    {
      "cell_type": "code",
      "execution_count": 35,
      "metadata": {
        "executionInfo": {
          "elapsed": 52,
          "status": "ok",
          "timestamp": 1686035545007,
          "user": {
            "displayName": "",
            "userId": ""
          },
          "user_tz": -120
        },
        "id": "Kxg-U7zac7Ml"
      },
      "outputs": [],
      "source": [
        "RESULTS_DIR = '/cns/od-d/home/attractor/weatherbench/results/240x121/deterministic/'\n",
        "model_paths = {\n",
        "    'climatology_vs_era': (\n",
        "        f'{RESULTS_DIR}/climatology_vs_era_2020_deterministic_spatial.nc'\n",
        "    ),\n",
        "    'hres_vs_analysis': (\n",
        "        f'{RESULTS_DIR}/hres_vs_analysis_2020_deterministic_spatial.nc'\n",
        "    ),\n",
        "    'ens_mean_vs_analysis': (\n",
        "        f'{RESULTS_DIR}/ens_vs_analysis_2020_deterministic_spatial.nc'\n",
        "    ),\n",
        "    'hres_vs_era': (\n",
        "        f'{RESULTS_DIR}/hres_vs_era_2020_deterministic_spatial.nc'\n",
        "    ),\n",
        "    'ens_mean_vs_era': (\n",
        "        f'{RESULTS_DIR}/ens_vs_era_2020_deterministic_spatial.nc'\n",
        "    ),\n",
        "    # 'persistence_vs_era': (\n",
        "    #     f'{RESULTS_DIR}/persistence_vs_era_2020_deterministic_spatial.nc'\n",
        "    # ),\n",
        "    'era5-forecasts_vs_era': f'{RESULTS_DIR}/era5-forecasts_vs_era_2020_deterministic_spatial.zarr',\n",
        "\n",
        "    # 'neuralgcm_vs_era': (\n",
        "    #     f'{RESULTS_DIR}/neuralgcm_vs_era_2020_deterministic_spatial.nc'\n",
        "    # ),\n",
        "    'keisler_vs_era': f'{RESULTS_DIR}/keisler_vs_era_2020_deterministic_spatial.nc',\n",
        "    'pangu_vs_era': f'{RESULTS_DIR}/pangu_vs_era_2020_deterministic_spatial.nc',\n",
        "    'graphcast_vs_era': (\n",
        "        f'{RESULTS_DIR}/graphcast_vs_era_2020_deterministic_spatial.nc'\n",
        "    ),\n",
        "}"
      ]
    },
    {
      "cell_type": "code",
      "execution_count": 36,
      "metadata": {
        "executionInfo": {
          "elapsed": 118200,
          "status": "ok",
          "timestamp": 1686035663408,
          "user": {
            "displayName": "",
            "userId": ""
          },
          "user_tz": -120
        },
        "id": "2xt13shGn2EH"
      },
      "outputs": [],
      "source": [
        "results = load_results(model_paths)"
      ]
    },
    {
      "cell_type": "code",
      "execution_count": 37,
      "metadata": {
        "executionInfo": {
          "elapsed": 59,
          "status": "ok",
          "timestamp": 1686035663687,
          "user": {
            "displayName": "",
            "userId": ""
          },
          "user_tz": -120
        },
        "id": "b8i_8O8nJj3o"
      },
      "outputs": [],
      "source": [
        "# Substitute precipitation\n",
        "new = results['hres_vs_analysis']\n",
        "for tp in ['total_precipitation_6hr', 'total_precipitation_24hr']:\n",
        "  new[tp] = results['hres_vs_era'][tp]\n",
        "results['hres_vs_analysis'] = new\n",
        "\n",
        "new = results['ens_mean_vs_analysis']\n",
        "for tp in ['total_precipitation_6hr', 'total_precipitation_24hr']:\n",
        "  new[tp] = results['ens_mean_vs_era'][tp]\n",
        "results['ens_mean_vs_analysis'] = new\n",
        "\n",
        "del results['hres_vs_era']\n",
        "del results['ens_mean_vs_era']"
      ]
    },
    {
      "cell_type": "code",
      "execution_count": 38,
      "metadata": {
        "executionInfo": {
          "elapsed": 1,
          "status": "ok",
          "timestamp": 1686035663902,
          "user": {
            "displayName": "",
            "userId": ""
          },
          "user_tz": -120
        },
        "id": "J8iFlWAe-WFj"
      },
      "outputs": [],
      "source": [
        "results_no_mean = {k: v for k, v in results.items() if not k in ['ens_mean_vs_analysis']}\n",
        "results_no_keisler = {k: v for k, v in results_no_mean.items() if not k in ['keisler_vs_era']}\n",
        "results_tp = {k: v for k, v in results_no_mean.items() if not k in ['keisler_vs_era', 'pangu_vs_era', 'era5-forecasts_vs_era']}"
      ]
    },
    {
      "cell_type": "code",
      "execution_count": 39,
      "metadata": {
        "executionInfo": {
          "elapsed": 4,
          "status": "ok",
          "timestamp": 1686035664145,
          "user": {
            "displayName": "",
            "userId": ""
          },
          "user_tz": -120
        },
        "id": "uAUHscA-TYj6",
        "outputId": "28f01088-50f6-456a-99b3-016e85fad3eb"
      },
      "outputs": [
        {
          "data": {
            "text/plain": [
              "dict_keys(['climatology_vs_era', 'hres_vs_analysis', 'ens_mean_vs_analysis', 'era5-forecasts_vs_era', 'keisler_vs_era', 'pangu_vs_era', 'graphcast_vs_era'])"
            ]
          },
          "execution_count": 39,
          "metadata": {},
          "output_type": "execute_result"
        }
      ],
      "source": [
        "results.keys()"
      ]
    },
    {
      "cell_type": "markdown",
      "metadata": {
        "id": "KzZAiq4pgmql"
      },
      "source": [
        "## Maps"
      ]
    },
    {
      "cell_type": "code",
      "execution_count": 40,
      "metadata": {
        "executionInfo": {
          "elapsed": 65,
          "status": "ok",
          "timestamp": 1686035664441,
          "user": {
            "displayName": "",
            "userId": ""
          },
          "user_tz": -120
        },
        "id": "iAQ83vC3pTTd"
      },
      "outputs": [],
      "source": [
        "plt.rcParams['figure.facecolor'] = 'None'"
      ]
    },
    {
      "cell_type": "code",
      "execution_count": 41,
      "metadata": {
        "executionInfo": {
          "elapsed": 2657,
          "status": "ok",
          "timestamp": 1686035667301,
          "user": {
            "displayName": "",
            "userId": ""
          },
          "user_tz": -120
        },
        "id": "XdCLzKbyhfP7"
      },
      "outputs": [],
      "source": [
        "import cartopy.crs as ccrs"
      ]
    },
    {
      "cell_type": "code",
      "execution_count": 42,
      "metadata": {
        "executionInfo": {
          "elapsed": 1,
          "status": "ok",
          "timestamp": 1686035667587,
          "user": {
            "displayName": "",
            "userId": ""
          },
          "user_tz": -120
        },
        "id": "BI2Ir4YfId7C"
      },
      "outputs": [],
      "source": [
        "def plot_bias_maps(results, variable, lead_times, vmin, vmax, cmap, level=None, save_path=None):\n",
        "  nmodels = len(results)\n",
        "  projection = ccrs.PlateCarree()\n",
        "  fig, axs = plt.subplots(nmodels, 3, figsize=(13, 2.8 * nmodels), subplot_kw={'projection': ccrs.Robinson()})\n",
        "  for i, (model, ds) in enumerate(results.items()):\n",
        "    da = ds.sel(metric='bias')[variable]\n",
        "    if level is not None:\n",
        "      da = da.sel(level=level)\n",
        "    if variable in ['specific_humidity', 'total_precipitation_24hr']:\n",
        "      da *= 1000\n",
        "    for j, lt in enumerate(lead_times):\n",
        "      ax = axs[i, j]\n",
        "      try:\n",
        "        img = da.sel(lead_time=lt).T.plot(\n",
        "            ax=ax, transform=ccrs.PlateCarree(), vmin=vmin, vmax=vmax, cmap=cmap,\n",
        "            add_colorbar=False\n",
        "            )\n",
        "        ax.coastlines(alpha=0.5)\n",
        "        ax.set_title(f'{viz_config.labels[model]} - {lt.astype(int)} days')\n",
        "      except KeyError:\n",
        "        ax.remove()\n",
        "  plt.subplots_adjust(top=0.98, left=0.02, right=0.98, bottom=0.07, wspace=0.05)\n",
        "  cbar_ax = fig.add_axes([0.31, 0.05, 0.4, 0.01])\n",
        "  cb = fig.colorbar(img, cbar_ax, orientation='horizontal')\n",
        "  cbar_ax.set_xlabel(f'{long2short[variable]} bias [{units[variable]}]')\n",
        "  if save_path is not None:\n",
        "    with fsspec.open(save_path, 'wb', auto_mkdir=True) as f:\n",
        "      fig.savefig(f, dpi=300)\n",
        "      plt.close(fig)"
      ]
    },
    {
      "cell_type": "code",
      "execution_count": 43,
      "metadata": {
        "executionInfo": {
          "elapsed": 83651,
          "status": "ok",
          "timestamp": 1686035751479,
          "user": {
            "displayName": "",
            "userId": ""
          },
          "user_tz": -120
        },
        "id": "eeqpoNfXh520",
        "outputId": "635759c1-f273-4993-eacc-cda3e9fd1274"
      },
      "outputs": [
        {
          "name": "stderr",
          "output_type": "stream",
          "text": [
            "\u003cipython-input-42-24e5f4770987\u003e:24: MatplotlibDeprecationWarning: Auto-removal of grids by pcolor() and pcolormesh() is deprecated since 3.5 and will be removed two minor releases later; please call grid(False) first.\n",
            "  cb = fig.colorbar(img, cbar_ax, orientation='horizontal')\n"
          ]
        }
      ],
      "source": [
        "variable = '2m_temperature'\n",
        "lead_times = np.array([3, 5, 10]).astype('timedelta64[D]')\n",
        "vmin = -2\n",
        "vmax = 2\n",
        "cmap = 'RdBu_r'\n",
        "plot_bias_maps(results_no_keisler, variable, lead_times, vmin, vmax, cmap, save_path=f'{SAVE_PATH}bias_t2m.png')"
      ]
    },
    {
      "cell_type": "code",
      "execution_count": 44,
      "metadata": {
        "executionInfo": {
          "elapsed": 95481,
          "status": "ok",
          "timestamp": 1686035847174,
          "user": {
            "displayName": "",
            "userId": ""
          },
          "user_tz": -120
        },
        "id": "rAvqXteCACSY",
        "outputId": "306b4fe4-42fa-48d6-8c1b-55a2124b66f3"
      },
      "outputs": [
        {
          "name": "stderr",
          "output_type": "stream",
          "text": [
            "\u003cipython-input-42-24e5f4770987\u003e:24: MatplotlibDeprecationWarning: Auto-removal of grids by pcolor() and pcolormesh() is deprecated since 3.5 and will be removed two minor releases later; please call grid(False) first.\n",
            "  cb = fig.colorbar(img, cbar_ax, orientation='horizontal')\n"
          ]
        }
      ],
      "source": [
        "variable = 'temperature'\n",
        "lead_times = np.array([3, 5, 10]).astype('timedelta64[D]')\n",
        "vmin = -2\n",
        "vmax = 2\n",
        "cmap = 'RdBu_r'\n",
        "plot_bias_maps(results_no_mean, variable, lead_times, vmin, vmax, cmap, save_path=f'{SAVE_PATH}bias_t850.png', level=850)"
      ]
    },
    {
      "cell_type": "code",
      "execution_count": 45,
      "metadata": {
        "executionInfo": {
          "elapsed": 80179,
          "status": "ok",
          "timestamp": 1686035927570,
          "user": {
            "displayName": "",
            "userId": ""
          },
          "user_tz": -120
        },
        "id": "OBi5SW02SOAj",
        "outputId": "5ca72da5-6e17-4400-ee1d-69a2cb7e1c3c"
      },
      "outputs": [
        {
          "name": "stderr",
          "output_type": "stream",
          "text": [
            "\u003cipython-input-42-24e5f4770987\u003e:24: MatplotlibDeprecationWarning: Auto-removal of grids by pcolor() and pcolormesh() is deprecated since 3.5 and will be removed two minor releases later; please call grid(False) first.\n",
            "  cb = fig.colorbar(img, cbar_ax, orientation='horizontal')\n"
          ]
        }
      ],
      "source": [
        "variable = '10m_wind_speed'\n",
        "lead_times = np.array([3, 5, 10]).astype('timedelta64[D]')\n",
        "vmin = -2\n",
        "vmax = 2\n",
        "cmap = 'RdBu_r'\n",
        "plot_bias_maps(results_no_keisler, variable, lead_times, vmin, vmax, cmap, save_path=f'{SAVE_PATH}bias_ws10.png')"
      ]
    },
    {
      "cell_type": "code",
      "execution_count": 46,
      "metadata": {
        "executionInfo": {
          "elapsed": 97732,
          "status": "ok",
          "timestamp": 1686036025511,
          "user": {
            "displayName": "",
            "userId": ""
          },
          "user_tz": -120
        },
        "id": "5rtSDW1AAMnZ",
        "outputId": "74e54d2a-9fe0-46c6-f456-dcf906ae48fa"
      },
      "outputs": [
        {
          "name": "stderr",
          "output_type": "stream",
          "text": [
            "\u003cipython-input-42-24e5f4770987\u003e:24: MatplotlibDeprecationWarning: Auto-removal of grids by pcolor() and pcolormesh() is deprecated since 3.5 and will be removed two minor releases later; please call grid(False) first.\n",
            "  cb = fig.colorbar(img, cbar_ax, orientation='horizontal')\n"
          ]
        }
      ],
      "source": [
        "variable = 'wind_speed'\n",
        "lead_times = np.array([3, 5, 10]).astype('timedelta64[D]')\n",
        "vmin = -3\n",
        "vmax = 3\n",
        "cmap = 'RdBu_r'\n",
        "plot_bias_maps(results_no_mean, variable, lead_times, vmin, vmax, cmap, save_path=f'{SAVE_PATH}bias_ws850.png', level=850)"
      ]
    },
    {
      "cell_type": "code",
      "execution_count": 47,
      "metadata": {
        "executionInfo": {
          "elapsed": 100437,
          "status": "ok",
          "timestamp": 1686036126162,
          "user": {
            "displayName": "",
            "userId": ""
          },
          "user_tz": -120
        },
        "id": "pcRx82iKLEYM",
        "outputId": "c1608e86-2093-4c26-f075-581db7dc2fe9"
      },
      "outputs": [
        {
          "name": "stderr",
          "output_type": "stream",
          "text": [
            "\u003cipython-input-42-24e5f4770987\u003e:24: MatplotlibDeprecationWarning: Auto-removal of grids by pcolor() and pcolormesh() is deprecated since 3.5 and will be removed two minor releases later; please call grid(False) first.\n",
            "  cb = fig.colorbar(img, cbar_ax, orientation='horizontal')\n"
          ]
        }
      ],
      "source": [
        "variable = 'specific_humidity'\n",
        "lead_times = np.array([3, 5, 10]).astype('timedelta64[D]')\n",
        "vmin = -1\n",
        "vmax = 1\n",
        "cmap = 'RdBu_r'\n",
        "plot_bias_maps(results_no_mean, variable, lead_times, vmin, vmax, cmap, save_path=f'{SAVE_PATH}bias_q700.png', level=700)"
      ]
    },
    {
      "cell_type": "code",
      "execution_count": 48,
      "metadata": {
        "executionInfo": {
          "elapsed": 51832,
          "status": "ok",
          "timestamp": 1686036178213,
          "user": {
            "displayName": "",
            "userId": ""
          },
          "user_tz": -120
        },
        "id": "aCMPGWynJoVJ",
        "outputId": "bfa33a10-7e02-45cf-e2c7-0589dc025623"
      },
      "outputs": [
        {
          "name": "stderr",
          "output_type": "stream",
          "text": [
            "\u003cipython-input-42-24e5f4770987\u003e:24: MatplotlibDeprecationWarning: Auto-removal of grids by pcolor() and pcolormesh() is deprecated since 3.5 and will be removed two minor releases later; please call grid(False) first.\n",
            "  cb = fig.colorbar(img, cbar_ax, orientation='horizontal')\n"
          ]
        }
      ],
      "source": [
        "variable = 'total_precipitation_24hr'\n",
        "lead_times = np.array([3, 5, 10]).astype('timedelta64[D]')\n",
        "vmin = -0.002*1000\n",
        "vmax = 0.002*1000\n",
        "cmap = 'RdBu_r'\n",
        "plot_bias_maps(results_tp, variable, lead_times, vmin, vmax, cmap, save_path=f'{SAVE_PATH}bias_tp24h.png')"
      ]
    },
    {
      "cell_type": "markdown",
      "metadata": {
        "id": "lJJ_OlfPfm3O"
      },
      "source": [
        "## RMSB"
      ]
    },
    {
      "cell_type": "code",
      "execution_count": 49,
      "metadata": {
        "executionInfo": {
          "elapsed": 2,
          "status": "ok",
          "timestamp": 1686036178439,
          "user": {
            "displayName": "",
            "userId": ""
          },
          "user_tz": -120
        },
        "id": "w0f0d2avfkhJ"
      },
      "outputs": [],
      "source": [
        "def compute_rms_bias(result):\n",
        "  weights = get_lat_weights(result)\n",
        "  rms_bias = np.sqrt((result.sel(metric=['bias']) ** 2).weighted(weights).mean(('latitude', 'longitude')))\n",
        "  return rms_bias.assign_coords(metric=['rms_bias'])"
      ]
    },
    {
      "cell_type": "code",
      "execution_count": 50,
      "metadata": {
        "executionInfo": {
          "elapsed": 2706,
          "status": "ok",
          "timestamp": 1686036181383,
          "user": {
            "displayName": "",
            "userId": ""
          },
          "user_tz": -120
        },
        "id": "A6-SRjrtgHs-"
      },
      "outputs": [],
      "source": [
        "results_bias = {k: compute_rms_bias(v) for k, v in results.items()}"
      ]
    },
    {
      "cell_type": "code",
      "execution_count": 53,
      "metadata": {
        "executionInfo": {
          "elapsed": 207,
          "status": "ok",
          "timestamp": 1686036254090,
          "user": {
            "displayName": "",
            "userId": ""
          },
          "user_tz": -120
        },
        "id": "BYyUMWoBgfk3"
      },
      "outputs": [],
      "source": [
        "viz_config = get_viz_config(models)\n",
        "viz_config.results = results_bias"
      ]
    },
    {
      "cell_type": "code",
      "execution_count": 54,
      "metadata": {
        "executionInfo": {
          "elapsed": 8834,
          "status": "ok",
          "timestamp": 1686036263145,
          "user": {
            "displayName": "",
            "userId": ""
          },
          "user_tz": -120
        },
        "id": "N5PqCe7gg9q1"
      },
      "outputs": [],
      "source": [
        "ylims = {\n",
        "    'geopotential': (0, 100),\n",
        "    'temperature': (0, 1),\n",
        "    'specific_humidity': (0, 0.3),\n",
        "    'wind_speed': (0, 1),\n",
        "    '2m_temperature': (0, 1),\n",
        "    'mean_sea_level_pressure': (0, 100),\n",
        "    '10m_wind_speed': (0, 0.8),\n",
        "    'total_precipitation_24hr': (0, 0.0008*1000),\n",
        "}\n",
        "plot_headline_scores('rms_bias', relative=False, regions=regions, ylims=ylims, legend_position=2, save_path=f'{SAVE_PATH}rms_bias.png')"
      ]
    },
    {
      "cell_type": "markdown",
      "metadata": {
        "id": "AKdkHtU5h82r"
      },
      "source": [
        "# Spectra"
      ]
    },
    {
      "cell_type": "code",
      "execution_count": 55,
      "metadata": {
        "executionInfo": {
          "elapsed": 54,
          "status": "ok",
          "timestamp": 1686036263637,
          "user": {
            "displayName": "",
            "userId": ""
          },
          "user_tz": -120
        },
        "id": "uf-NvTGC9aE3"
      },
      "outputs": [],
      "source": [
        "RESULTS_DIR = '/cns/od-d/home/attractor/weatherbench/results/240x121/spectra/'\n",
        "model_paths = {\n",
        "    'era': f'{RESULTS_DIR}/era_2020.zarr',\n",
        "    'hres': (\n",
        "        f'{RESULTS_DIR}/hres_2020.zarr'\n",
        "    ),\n",
        "    'ens_mean': (\n",
        "        f'{RESULTS_DIR}/ens_mean_2020.zarr'\n",
        "    ),\n",
        "    # 'era5-forecasts': f'{RESULTS_DIR}/era5-forecasts_2020.zarr',\n",
        "    'keisler': f'{RESULTS_DIR}/keisler_2020.zarr',\n",
        "    'pangu': f'{RESULTS_DIR}/pangu_2020.zarr',\n",
        "    'graphcast': (\n",
        "        f'{RESULTS_DIR}/graphcast_2020.zarr'\n",
        "    ),\n",
        "}\n",
        "\n",
        "colors = {\n",
        "    'era': 'k',\n",
        "        'hres': blue,\n",
        "        'ens_mean': green,\n",
        "        'graphcast': red,\n",
        "        'pangu': purple,\n",
        "        'keisler': brown,\n",
        "        'era5-forecasts': yellow\n",
        "    }\n",
        "\n",
        "labels = {\n",
        "    'era': 'ERA5',\n",
        "        'hres': 'IFS HRES',\n",
        "        'ens_mean': 'IFS ENS (mean)',\n",
        "        'graphcast': 'GraphCast',\n",
        "        'pangu': 'Pangu-Weather',\n",
        "        'keisler': 'Keisler (2022)',\n",
        "\n",
        "      'era5-forecasts': 'ERA5-Forecasts'\n",
        "    }"
      ]
    },
    {
      "cell_type": "code",
      "execution_count": 56,
      "metadata": {
        "executionInfo": {
          "elapsed": 46144,
          "status": "ok",
          "timestamp": 1686036309990,
          "user": {
            "displayName": "",
            "userId": ""
          },
          "user_tz": -120
        },
        "id": "HKWMeewi9pHA"
      },
      "outputs": [],
      "source": [
        "spectra = {}\n",
        "for model, path in model_paths.items():\n",
        "  ds = xr.open_dataset(path)\n",
        "  wavelength = 1/ds.frequency\n",
        "  wavelength = wavelength.mean('latitude')\n",
        "  latitude = np.logical_and(np.abs(ds.latitude) \u003e 30, np.abs(ds.latitude) \u003c 60)\n",
        "  ds = ds.sel(latitude=latitude).mean('latitude')\n",
        "  spectra[model] = ds"
      ]
    },
    {
      "cell_type": "code",
      "execution_count": 57,
      "metadata": {
        "executionInfo": {
          "elapsed": 1209,
          "status": "ok",
          "timestamp": 1686036311415,
          "user": {
            "displayName": "",
            "userId": ""
          },
          "user_tz": -120
        },
        "id": "WplRtonBWGsV"
      },
      "outputs": [],
      "source": [
        "ds = xr.open_dataset(path)"
      ]
    },
    {
      "cell_type": "code",
      "execution_count": 58,
      "metadata": {
        "colab": {
          "height": 539
        },
        "executionInfo": {
          "elapsed": 365,
          "status": "ok",
          "timestamp": 1686036311987,
          "user": {
            "displayName": "",
            "userId": ""
          },
          "user_tz": -120
        },
        "id": "ccQyTpk2W2iw",
        "outputId": "b1b46418-f0a6-41ec-8418-ffdd52b6c561"
      },
      "outputs": [
        {
          "data": {
            "text/html": [
              "\u003cdiv\u003e\u003csvg style=\"position: absolute; width: 0; height: 0; overflow: hidden\"\u003e\n",
              "\u003cdefs\u003e\n",
              "\u003csymbol id=\"icon-database\" viewBox=\"0 0 32 32\"\u003e\n",
              "\u003cpath d=\"M16 0c-8.837 0-16 2.239-16 5v4c0 2.761 7.163 5 16 5s16-2.239 16-5v-4c0-2.761-7.163-5-16-5z\"\u003e\u003c/path\u003e\n",
              "\u003cpath d=\"M16 17c-8.837 0-16-2.239-16-5v6c0 2.761 7.163 5 16 5s16-2.239 16-5v-6c0 2.761-7.163 5-16 5z\"\u003e\u003c/path\u003e\n",
              "\u003cpath d=\"M16 26c-8.837 0-16-2.239-16-5v6c0 2.761 7.163 5 16 5s16-2.239 16-5v-6c0 2.761-7.163 5-16 5z\"\u003e\u003c/path\u003e\n",
              "\u003c/symbol\u003e\n",
              "\u003csymbol id=\"icon-file-text2\" viewBox=\"0 0 32 32\"\u003e\n",
              "\u003cpath d=\"M28.681 7.159c-0.694-0.947-1.662-2.053-2.724-3.116s-2.169-2.030-3.116-2.724c-1.612-1.182-2.393-1.319-2.841-1.319h-15.5c-1.378 0-2.5 1.121-2.5 2.5v27c0 1.378 1.122 2.5 2.5 2.5h23c1.378 0 2.5-1.122 2.5-2.5v-19.5c0-0.448-0.137-1.23-1.319-2.841zM24.543 5.457c0.959 0.959 1.712 1.825 2.268 2.543h-4.811v-4.811c0.718 0.556 1.584 1.309 2.543 2.268zM28 29.5c0 0.271-0.229 0.5-0.5 0.5h-23c-0.271 0-0.5-0.229-0.5-0.5v-27c0-0.271 0.229-0.5 0.5-0.5 0 0 15.499-0 15.5 0v7c0 0.552 0.448 1 1 1h7v19.5z\"\u003e\u003c/path\u003e\n",
              "\u003cpath d=\"M23 26h-14c-0.552 0-1-0.448-1-1s0.448-1 1-1h14c0.552 0 1 0.448 1 1s-0.448 1-1 1z\"\u003e\u003c/path\u003e\n",
              "\u003cpath d=\"M23 22h-14c-0.552 0-1-0.448-1-1s0.448-1 1-1h14c0.552 0 1 0.448 1 1s-0.448 1-1 1z\"\u003e\u003c/path\u003e\n",
              "\u003cpath d=\"M23 18h-14c-0.552 0-1-0.448-1-1s0.448-1 1-1h14c0.552 0 1 0.448 1 1s-0.448 1-1 1z\"\u003e\u003c/path\u003e\n",
              "\u003c/symbol\u003e\n",
              "\u003c/defs\u003e\n",
              "\u003c/svg\u003e\n",
              "\u003cstyle\u003e/* CSS stylesheet for displaying xarray objects in jupyterlab.\n",
              " *\n",
              " */\n",
              "\n",
              ":root {\n",
              "  --xr-font-color0: var(--jp-content-font-color0, rgba(0, 0, 0, 1));\n",
              "  --xr-font-color2: var(--jp-content-font-color2, rgba(0, 0, 0, 0.54));\n",
              "  --xr-font-color3: var(--jp-content-font-color3, rgba(0, 0, 0, 0.38));\n",
              "  --xr-border-color: var(--jp-border-color2, #e0e0e0);\n",
              "  --xr-disabled-color: var(--jp-layout-color3, #bdbdbd);\n",
              "  --xr-background-color: var(--jp-layout-color0, white);\n",
              "  --xr-background-color-row-even: var(--jp-layout-color1, white);\n",
              "  --xr-background-color-row-odd: var(--jp-layout-color2, #eeeeee);\n",
              "}\n",
              "\n",
              "html[theme=dark],\n",
              "body[data-theme=dark],\n",
              "body.vscode-dark {\n",
              "  --xr-font-color0: rgba(255, 255, 255, 1);\n",
              "  --xr-font-color2: rgba(255, 255, 255, 0.54);\n",
              "  --xr-font-color3: rgba(255, 255, 255, 0.38);\n",
              "  --xr-border-color: #1F1F1F;\n",
              "  --xr-disabled-color: #515151;\n",
              "  --xr-background-color: #111111;\n",
              "  --xr-background-color-row-even: #111111;\n",
              "  --xr-background-color-row-odd: #313131;\n",
              "}\n",
              "\n",
              ".xr-wrap {\n",
              "  display: block !important;\n",
              "  min-width: 300px;\n",
              "  max-width: 700px;\n",
              "}\n",
              "\n",
              ".xr-text-repr-fallback {\n",
              "  /* fallback to plain text repr when CSS is not injected (untrusted notebook) */\n",
              "  display: none;\n",
              "}\n",
              "\n",
              ".xr-header {\n",
              "  padding-top: 6px;\n",
              "  padding-bottom: 6px;\n",
              "  margin-bottom: 4px;\n",
              "  border-bottom: solid 1px var(--xr-border-color);\n",
              "}\n",
              "\n",
              ".xr-header \u003e div,\n",
              ".xr-header \u003e ul {\n",
              "  display: inline;\n",
              "  margin-top: 0;\n",
              "  margin-bottom: 0;\n",
              "}\n",
              "\n",
              ".xr-obj-type,\n",
              ".xr-array-name {\n",
              "  margin-left: 2px;\n",
              "  margin-right: 10px;\n",
              "}\n",
              "\n",
              ".xr-obj-type {\n",
              "  color: var(--xr-font-color2);\n",
              "}\n",
              "\n",
              ".xr-sections {\n",
              "  padding-left: 0 !important;\n",
              "  display: grid;\n",
              "  grid-template-columns: 150px auto auto 1fr 20px 20px;\n",
              "}\n",
              "\n",
              ".xr-section-item {\n",
              "  display: contents;\n",
              "}\n",
              "\n",
              ".xr-section-item input {\n",
              "  display: none;\n",
              "}\n",
              "\n",
              ".xr-section-item input + label {\n",
              "  color: var(--xr-disabled-color);\n",
              "}\n",
              "\n",
              ".xr-section-item input:enabled + label {\n",
              "  cursor: pointer;\n",
              "  color: var(--xr-font-color2);\n",
              "}\n",
              "\n",
              ".xr-section-item input:enabled + label:hover {\n",
              "  color: var(--xr-font-color0);\n",
              "}\n",
              "\n",
              ".xr-section-summary {\n",
              "  grid-column: 1;\n",
              "  color: var(--xr-font-color2);\n",
              "  font-weight: 500;\n",
              "}\n",
              "\n",
              ".xr-section-summary \u003e span {\n",
              "  display: inline-block;\n",
              "  padding-left: 0.5em;\n",
              "}\n",
              "\n",
              ".xr-section-summary-in:disabled + label {\n",
              "  color: var(--xr-font-color2);\n",
              "}\n",
              "\n",
              ".xr-section-summary-in + label:before {\n",
              "  display: inline-block;\n",
              "  content: '►';\n",
              "  font-size: 11px;\n",
              "  width: 15px;\n",
              "  text-align: center;\n",
              "}\n",
              "\n",
              ".xr-section-summary-in:disabled + label:before {\n",
              "  color: var(--xr-disabled-color);\n",
              "}\n",
              "\n",
              ".xr-section-summary-in:checked + label:before {\n",
              "  content: '▼';\n",
              "}\n",
              "\n",
              ".xr-section-summary-in:checked + label \u003e span {\n",
              "  display: none;\n",
              "}\n",
              "\n",
              ".xr-section-summary,\n",
              ".xr-section-inline-details {\n",
              "  padding-top: 4px;\n",
              "  padding-bottom: 4px;\n",
              "}\n",
              "\n",
              ".xr-section-inline-details {\n",
              "  grid-column: 2 / -1;\n",
              "}\n",
              "\n",
              ".xr-section-details {\n",
              "  display: none;\n",
              "  grid-column: 1 / -1;\n",
              "  margin-bottom: 5px;\n",
              "}\n",
              "\n",
              ".xr-section-summary-in:checked ~ .xr-section-details {\n",
              "  display: contents;\n",
              "}\n",
              "\n",
              ".xr-array-wrap {\n",
              "  grid-column: 1 / -1;\n",
              "  display: grid;\n",
              "  grid-template-columns: 20px auto;\n",
              "}\n",
              "\n",
              ".xr-array-wrap \u003e label {\n",
              "  grid-column: 1;\n",
              "  vertical-align: top;\n",
              "}\n",
              "\n",
              ".xr-preview {\n",
              "  color: var(--xr-font-color3);\n",
              "}\n",
              "\n",
              ".xr-array-preview,\n",
              ".xr-array-data {\n",
              "  padding: 0 5px !important;\n",
              "  grid-column: 2;\n",
              "}\n",
              "\n",
              ".xr-array-data,\n",
              ".xr-array-in:checked ~ .xr-array-preview {\n",
              "  display: none;\n",
              "}\n",
              "\n",
              ".xr-array-in:checked ~ .xr-array-data,\n",
              ".xr-array-preview {\n",
              "  display: inline-block;\n",
              "}\n",
              "\n",
              ".xr-dim-list {\n",
              "  display: inline-block !important;\n",
              "  list-style: none;\n",
              "  padding: 0 !important;\n",
              "  margin: 0;\n",
              "}\n",
              "\n",
              ".xr-dim-list li {\n",
              "  display: inline-block;\n",
              "  padding: 0;\n",
              "  margin: 0;\n",
              "}\n",
              "\n",
              ".xr-dim-list:before {\n",
              "  content: '(';\n",
              "}\n",
              "\n",
              ".xr-dim-list:after {\n",
              "  content: ')';\n",
              "}\n",
              "\n",
              ".xr-dim-list li:not(:last-child):after {\n",
              "  content: ',';\n",
              "  padding-right: 5px;\n",
              "}\n",
              "\n",
              ".xr-has-index {\n",
              "  font-weight: bold;\n",
              "}\n",
              "\n",
              ".xr-var-list,\n",
              ".xr-var-item {\n",
              "  display: contents;\n",
              "}\n",
              "\n",
              ".xr-var-item \u003e div,\n",
              ".xr-var-item label,\n",
              ".xr-var-item \u003e .xr-var-name span {\n",
              "  background-color: var(--xr-background-color-row-even);\n",
              "  margin-bottom: 0;\n",
              "}\n",
              "\n",
              ".xr-var-item \u003e .xr-var-name:hover span {\n",
              "  padding-right: 5px;\n",
              "}\n",
              "\n",
              ".xr-var-list \u003e li:nth-child(odd) \u003e div,\n",
              ".xr-var-list \u003e li:nth-child(odd) \u003e label,\n",
              ".xr-var-list \u003e li:nth-child(odd) \u003e .xr-var-name span {\n",
              "  background-color: var(--xr-background-color-row-odd);\n",
              "}\n",
              "\n",
              ".xr-var-name {\n",
              "  grid-column: 1;\n",
              "}\n",
              "\n",
              ".xr-var-dims {\n",
              "  grid-column: 2;\n",
              "}\n",
              "\n",
              ".xr-var-dtype {\n",
              "  grid-column: 3;\n",
              "  text-align: right;\n",
              "  color: var(--xr-font-color2);\n",
              "}\n",
              "\n",
              ".xr-var-preview {\n",
              "  grid-column: 4;\n",
              "}\n",
              "\n",
              ".xr-var-name,\n",
              ".xr-var-dims,\n",
              ".xr-var-dtype,\n",
              ".xr-preview,\n",
              ".xr-attrs dt {\n",
              "  white-space: nowrap;\n",
              "  overflow: hidden;\n",
              "  text-overflow: ellipsis;\n",
              "  padding-right: 10px;\n",
              "}\n",
              "\n",
              ".xr-var-name:hover,\n",
              ".xr-var-dims:hover,\n",
              ".xr-var-dtype:hover,\n",
              ".xr-attrs dt:hover {\n",
              "  overflow: visible;\n",
              "  width: auto;\n",
              "  z-index: 1;\n",
              "}\n",
              "\n",
              ".xr-var-attrs,\n",
              ".xr-var-data {\n",
              "  display: none;\n",
              "  background-color: var(--xr-background-color) !important;\n",
              "  padding-bottom: 5px !important;\n",
              "}\n",
              "\n",
              ".xr-var-attrs-in:checked ~ .xr-var-attrs,\n",
              ".xr-var-data-in:checked ~ .xr-var-data {\n",
              "  display: block;\n",
              "}\n",
              "\n",
              ".xr-var-data \u003e table {\n",
              "  float: right;\n",
              "}\n",
              "\n",
              ".xr-var-name span,\n",
              ".xr-var-data,\n",
              ".xr-attrs {\n",
              "  padding-left: 25px !important;\n",
              "}\n",
              "\n",
              ".xr-attrs,\n",
              ".xr-var-attrs,\n",
              ".xr-var-data {\n",
              "  grid-column: 1 / -1;\n",
              "}\n",
              "\n",
              "dl.xr-attrs {\n",
              "  padding: 0;\n",
              "  margin: 0;\n",
              "  display: grid;\n",
              "  grid-template-columns: 125px auto;\n",
              "}\n",
              "\n",
              ".xr-attrs dt,\n",
              ".xr-attrs dd {\n",
              "  padding: 0;\n",
              "  margin: 0;\n",
              "  float: left;\n",
              "  padding-right: 10px;\n",
              "  width: auto;\n",
              "}\n",
              "\n",
              ".xr-attrs dt {\n",
              "  font-weight: normal;\n",
              "  grid-column: 1;\n",
              "}\n",
              "\n",
              ".xr-attrs dt:hover span {\n",
              "  display: inline-block;\n",
              "  background: var(--xr-background-color);\n",
              "  padding-right: 10px;\n",
              "}\n",
              "\n",
              ".xr-attrs dd {\n",
              "  grid-column: 2;\n",
              "  white-space: pre-wrap;\n",
              "  word-break: break-all;\n",
              "}\n",
              "\n",
              ".xr-icon-database,\n",
              ".xr-icon-file-text2 {\n",
              "  display: inline-block;\n",
              "  vertical-align: middle;\n",
              "  width: 1em;\n",
              "  height: 1.5em !important;\n",
              "  stroke-width: 0;\n",
              "  stroke: currentColor;\n",
              "  fill: currentColor;\n",
              "}\n",
              "\u003c/style\u003e\u003cpre class='xr-text-repr-fallback'\u003e\u0026lt;xarray.Dataset\u0026gt;\n",
              "Dimensions:                   (prediction_timedelta: 40, wavenumber: 121,\n",
              "                               latitude: 121, level: 3)\n",
              "Coordinates:\n",
              "    frequency                 (wavenumber, latitude) float64 0.0 ... 4.89e+13\n",
              "  * latitude                  (latitude) float64 -90.0 -88.5 -87.0 ... 88.5 90.0\n",
              "  * level                     (level) int64 500 700 850\n",
              "  * prediction_timedelta      (prediction_timedelta) timedelta64[ns] 06:00:00...\n",
              "  * wavenumber                (wavenumber) int64 0 1 2 3 4 ... 117 118 119 120\n",
              "Data variables: (12/13)\n",
              "    10m_u_component_of_wind   (prediction_timedelta, wavenumber, latitude) float64 ...\n",
              "    10m_v_component_of_wind   (prediction_timedelta, wavenumber, latitude) float64 ...\n",
              "    10m_wind_speed            (prediction_timedelta, wavenumber, latitude) float64 ...\n",
              "    2m_temperature            (prediction_timedelta, wavenumber, latitude) float64 ...\n",
              "    geopotential              (prediction_timedelta, wavenumber, latitude, level) float64 ...\n",
              "    mean_sea_level_pressure   (prediction_timedelta, wavenumber, latitude) float64 ...\n",
              "    ...                        ...\n",
              "    temperature               (prediction_timedelta, wavenumber, latitude, level) float64 ...\n",
              "    total_precipitation_24hr  (prediction_timedelta, wavenumber, latitude) float64 ...\n",
              "    total_precipitation_6hr   (prediction_timedelta, wavenumber, latitude) float64 ...\n",
              "    u_component_of_wind       (prediction_timedelta, wavenumber, latitude, level) float64 ...\n",
              "    v_component_of_wind       (prediction_timedelta, wavenumber, latitude, level) float64 ...\n",
              "    wind_speed                (prediction_timedelta, wavenumber, latitude, level) float64 ...\u003c/pre\u003e\u003cdiv class='xr-wrap' style='display:none'\u003e\u003cdiv class='xr-header'\u003e\u003cdiv class='xr-obj-type'\u003exarray.Dataset\u003c/div\u003e\u003c/div\u003e\u003cul class='xr-sections'\u003e\u003cli class='xr-section-item'\u003e\u003cinput id='section-d92b8f36-4822-4ce9-a770-f2fa49b0ebe1' class='xr-section-summary-in' type='checkbox' disabled \u003e\u003clabel for='section-d92b8f36-4822-4ce9-a770-f2fa49b0ebe1' class='xr-section-summary'  title='Expand/collapse section'\u003eDimensions:\u003c/label\u003e\u003cdiv class='xr-section-inline-details'\u003e\u003cul class='xr-dim-list'\u003e\u003cli\u003e\u003cspan class='xr-has-index'\u003eprediction_timedelta\u003c/span\u003e: 40\u003c/li\u003e\u003cli\u003e\u003cspan class='xr-has-index'\u003ewavenumber\u003c/span\u003e: 121\u003c/li\u003e\u003cli\u003e\u003cspan class='xr-has-index'\u003elatitude\u003c/span\u003e: 121\u003c/li\u003e\u003cli\u003e\u003cspan class='xr-has-index'\u003elevel\u003c/span\u003e: 3\u003c/li\u003e\u003c/ul\u003e\u003c/div\u003e\u003cdiv class='xr-section-details'\u003e\u003c/div\u003e\u003c/li\u003e\u003cli class='xr-section-item'\u003e\u003cinput id='section-02c41dbc-f44d-4bce-a32f-8763e991d1b5' class='xr-section-summary-in' type='checkbox'  checked\u003e\u003clabel for='section-02c41dbc-f44d-4bce-a32f-8763e991d1b5' class='xr-section-summary' \u003eCoordinates: \u003cspan\u003e(5)\u003c/span\u003e\u003c/label\u003e\u003cdiv class='xr-section-inline-details'\u003e\u003c/div\u003e\u003cdiv class='xr-section-details'\u003e\u003cul class='xr-var-list'\u003e\u003cli class='xr-var-item'\u003e\u003cdiv class='xr-var-name'\u003e\u003cspan\u003efrequency\u003c/span\u003e\u003c/div\u003e\u003cdiv class='xr-var-dims'\u003e(wavenumber, latitude)\u003c/div\u003e\u003cdiv class='xr-var-dtype'\u003efloat64\u003c/div\u003e\u003cdiv class='xr-var-preview xr-preview'\u003e...\u003c/div\u003e\u003cinput id='attrs-84c8a4e2-7ef0-4c96-b800-e2015f4a1305' class='xr-var-attrs-in' type='checkbox' \u003e\u003clabel for='attrs-84c8a4e2-7ef0-4c96-b800-e2015f4a1305' title='Show/Hide attributes'\u003e\u003csvg class='icon xr-icon-file-text2'\u003e\u003cuse xlink:href='#icon-file-text2'\u003e\u003c/use\u003e\u003c/svg\u003e\u003c/label\u003e\u003cinput id='data-6871b36b-3c8d-4cf4-a350-d3ae85429cb4' class='xr-var-data-in' type='checkbox'\u003e\u003clabel for='data-6871b36b-3c8d-4cf4-a350-d3ae85429cb4' title='Show/Hide data repr'\u003e\u003csvg class='icon xr-icon-database'\u003e\u003cuse xlink:href='#icon-database'\u003e\u003c/use\u003e\u003c/svg\u003e\u003c/label\u003e\u003cdiv class='xr-var-attrs'\u003e\u003cdl class='xr-attrs'\u003e\u003cdt\u003e\u003cspan\u003eunits :\u003c/span\u003e\u003c/dt\u003e\u003cdd\u003e1 / km\u003c/dd\u003e\u003c/dl\u003e\u003c/div\u003e\u003cdiv class='xr-var-data'\u003e\u003cpre\u003earray([[0.000000e+00, 0.000000e+00, 0.000000e+00, ..., 0.000000e+00,\n",
              "        0.000000e+00, 0.000000e+00],\n",
              "       [4.075255e+11, 9.532715e-04, 4.767991e-04, ..., 4.767991e-04,\n",
              "        9.532715e-04, 4.075255e+11],\n",
              "       [8.150509e+11, 1.906543e-03, 9.535983e-04, ..., 9.535983e-04,\n",
              "        1.906543e-03, 8.150509e+11],\n",
              "       ...,\n",
              "       [4.808801e+13, 1.124860e-01, 5.626230e-02, ..., 5.626230e-02,\n",
              "        1.124860e-01, 4.808801e+13],\n",
              "       [4.849553e+13, 1.134393e-01, 5.673910e-02, ..., 5.673910e-02,\n",
              "        1.134393e-01, 4.849553e+13],\n",
              "       [4.890306e+13, 1.143926e-01, 5.721590e-02, ..., 5.721590e-02,\n",
              "        1.143926e-01, 4.890306e+13]])\u003c/pre\u003e\u003c/div\u003e\u003c/li\u003e\u003cli class='xr-var-item'\u003e\u003cdiv class='xr-var-name'\u003e\u003cspan class='xr-has-index'\u003elatitude\u003c/span\u003e\u003c/div\u003e\u003cdiv class='xr-var-dims'\u003e(latitude)\u003c/div\u003e\u003cdiv class='xr-var-dtype'\u003efloat64\u003c/div\u003e\u003cdiv class='xr-var-preview xr-preview'\u003e-90.0 -88.5 -87.0 ... 88.5 90.0\u003c/div\u003e\u003cinput id='attrs-bc27fb85-207e-40e4-a883-14de65f094e5' class='xr-var-attrs-in' type='checkbox' disabled\u003e\u003clabel for='attrs-bc27fb85-207e-40e4-a883-14de65f094e5' title='Show/Hide attributes'\u003e\u003csvg class='icon xr-icon-file-text2'\u003e\u003cuse xlink:href='#icon-file-text2'\u003e\u003c/use\u003e\u003c/svg\u003e\u003c/label\u003e\u003cinput id='data-dcd85dbf-8cc4-460e-9cec-1b35079b3959' class='xr-var-data-in' type='checkbox'\u003e\u003clabel for='data-dcd85dbf-8cc4-460e-9cec-1b35079b3959' title='Show/Hide data repr'\u003e\u003csvg class='icon xr-icon-database'\u003e\u003cuse xlink:href='#icon-database'\u003e\u003c/use\u003e\u003c/svg\u003e\u003c/label\u003e\u003cdiv class='xr-var-attrs'\u003e\u003cdl class='xr-attrs'\u003e\u003c/dl\u003e\u003c/div\u003e\u003cdiv class='xr-var-data'\u003e\u003cpre\u003earray([-90. , -88.5, -87. , -85.5, -84. , -82.5, -81. , -79.5, -78. , -76.5,\n",
              "       -75. , -73.5, -72. , -70.5, -69. , -67.5, -66. , -64.5, -63. , -61.5,\n",
              "       -60. , -58.5, -57. , -55.5, -54. , -52.5, -51. , -49.5, -48. , -46.5,\n",
              "       -45. , -43.5, -42. , -40.5, -39. , -37.5, -36. , -34.5, -33. , -31.5,\n",
              "       -30. , -28.5, -27. , -25.5, -24. , -22.5, -21. , -19.5, -18. , -16.5,\n",
              "       -15. , -13.5, -12. , -10.5,  -9. ,  -7.5,  -6. ,  -4.5,  -3. ,  -1.5,\n",
              "         0. ,   1.5,   3. ,   4.5,   6. ,   7.5,   9. ,  10.5,  12. ,  13.5,\n",
              "        15. ,  16.5,  18. ,  19.5,  21. ,  22.5,  24. ,  25.5,  27. ,  28.5,\n",
              "        30. ,  31.5,  33. ,  34.5,  36. ,  37.5,  39. ,  40.5,  42. ,  43.5,\n",
              "        45. ,  46.5,  48. ,  49.5,  51. ,  52.5,  54. ,  55.5,  57. ,  58.5,\n",
              "        60. ,  61.5,  63. ,  64.5,  66. ,  67.5,  69. ,  70.5,  72. ,  73.5,\n",
              "        75. ,  76.5,  78. ,  79.5,  81. ,  82.5,  84. ,  85.5,  87. ,  88.5,\n",
              "        90. ])\u003c/pre\u003e\u003c/div\u003e\u003c/li\u003e\u003cli class='xr-var-item'\u003e\u003cdiv class='xr-var-name'\u003e\u003cspan class='xr-has-index'\u003elevel\u003c/span\u003e\u003c/div\u003e\u003cdiv class='xr-var-dims'\u003e(level)\u003c/div\u003e\u003cdiv class='xr-var-dtype'\u003eint64\u003c/div\u003e\u003cdiv class='xr-var-preview xr-preview'\u003e500 700 850\u003c/div\u003e\u003cinput id='attrs-476a8aac-620c-48a3-b9b9-85618f6197bf' class='xr-var-attrs-in' type='checkbox' disabled\u003e\u003clabel for='attrs-476a8aac-620c-48a3-b9b9-85618f6197bf' title='Show/Hide attributes'\u003e\u003csvg class='icon xr-icon-file-text2'\u003e\u003cuse xlink:href='#icon-file-text2'\u003e\u003c/use\u003e\u003c/svg\u003e\u003c/label\u003e\u003cinput id='data-fa184f41-783a-428b-bc5f-cb366d3c363b' class='xr-var-data-in' type='checkbox'\u003e\u003clabel for='data-fa184f41-783a-428b-bc5f-cb366d3c363b' title='Show/Hide data repr'\u003e\u003csvg class='icon xr-icon-database'\u003e\u003cuse xlink:href='#icon-database'\u003e\u003c/use\u003e\u003c/svg\u003e\u003c/label\u003e\u003cdiv class='xr-var-attrs'\u003e\u003cdl class='xr-attrs'\u003e\u003c/dl\u003e\u003c/div\u003e\u003cdiv class='xr-var-data'\u003e\u003cpre\u003earray([500, 700, 850])\u003c/pre\u003e\u003c/div\u003e\u003c/li\u003e\u003cli class='xr-var-item'\u003e\u003cdiv class='xr-var-name'\u003e\u003cspan class='xr-has-index'\u003eprediction_timedelta\u003c/span\u003e\u003c/div\u003e\u003cdiv class='xr-var-dims'\u003e(prediction_timedelta)\u003c/div\u003e\u003cdiv class='xr-var-dtype'\u003etimedelta64[ns]\u003c/div\u003e\u003cdiv class='xr-var-preview xr-preview'\u003e0 days 06:00:00 ... 10 days 00:0...\u003c/div\u003e\u003cinput id='attrs-cdd0418e-5918-4556-83a0-e6e66c35710e' class='xr-var-attrs-in' type='checkbox' disabled\u003e\u003clabel for='attrs-cdd0418e-5918-4556-83a0-e6e66c35710e' title='Show/Hide attributes'\u003e\u003csvg class='icon xr-icon-file-text2'\u003e\u003cuse xlink:href='#icon-file-text2'\u003e\u003c/use\u003e\u003c/svg\u003e\u003c/label\u003e\u003cinput id='data-dbd7568e-4c0e-4fa3-9a66-db98561375fd' class='xr-var-data-in' type='checkbox'\u003e\u003clabel for='data-dbd7568e-4c0e-4fa3-9a66-db98561375fd' title='Show/Hide data repr'\u003e\u003csvg class='icon xr-icon-database'\u003e\u003cuse xlink:href='#icon-database'\u003e\u003c/use\u003e\u003c/svg\u003e\u003c/label\u003e\u003cdiv class='xr-var-attrs'\u003e\u003cdl class='xr-attrs'\u003e\u003c/dl\u003e\u003c/div\u003e\u003cdiv class='xr-var-data'\u003e\u003cpre\u003earray([ 21600000000000,  43200000000000,  64800000000000,  86400000000000,\n",
              "       108000000000000, 129600000000000, 151200000000000, 172800000000000,\n",
              "       194400000000000, 216000000000000, 237600000000000, 259200000000000,\n",
              "       280800000000000, 302400000000000, 324000000000000, 345600000000000,\n",
              "       367200000000000, 388800000000000, 410400000000000, 432000000000000,\n",
              "       453600000000000, 475200000000000, 496800000000000, 518400000000000,\n",
              "       540000000000000, 561600000000000, 583200000000000, 604800000000000,\n",
              "       626400000000000, 648000000000000, 669600000000000, 691200000000000,\n",
              "       712800000000000, 734400000000000, 756000000000000, 777600000000000,\n",
              "       799200000000000, 820800000000000, 842400000000000, 864000000000000],\n",
              "      dtype=\u0026#x27;timedelta64[ns]\u0026#x27;)\u003c/pre\u003e\u003c/div\u003e\u003c/li\u003e\u003cli class='xr-var-item'\u003e\u003cdiv class='xr-var-name'\u003e\u003cspan class='xr-has-index'\u003ewavenumber\u003c/span\u003e\u003c/div\u003e\u003cdiv class='xr-var-dims'\u003e(wavenumber)\u003c/div\u003e\u003cdiv class='xr-var-dtype'\u003eint64\u003c/div\u003e\u003cdiv class='xr-var-preview xr-preview'\u003e0 1 2 3 4 5 ... 116 117 118 119 120\u003c/div\u003e\u003cinput id='attrs-f2625ee6-95f8-41f9-aaf0-d18c91935297' class='xr-var-attrs-in' type='checkbox' disabled\u003e\u003clabel for='attrs-f2625ee6-95f8-41f9-aaf0-d18c91935297' title='Show/Hide attributes'\u003e\u003csvg class='icon xr-icon-file-text2'\u003e\u003cuse xlink:href='#icon-file-text2'\u003e\u003c/use\u003e\u003c/svg\u003e\u003c/label\u003e\u003cinput id='data-03bf7e0f-2c30-4270-a7bc-b2597960edc2' class='xr-var-data-in' type='checkbox'\u003e\u003clabel for='data-03bf7e0f-2c30-4270-a7bc-b2597960edc2' title='Show/Hide data repr'\u003e\u003csvg class='icon xr-icon-database'\u003e\u003cuse xlink:href='#icon-database'\u003e\u003c/use\u003e\u003c/svg\u003e\u003c/label\u003e\u003cdiv class='xr-var-attrs'\u003e\u003cdl class='xr-attrs'\u003e\u003c/dl\u003e\u003c/div\u003e\u003cdiv class='xr-var-data'\u003e\u003cpre\u003earray([  0,   1,   2,   3,   4,   5,   6,   7,   8,   9,  10,  11,  12,  13,\n",
              "        14,  15,  16,  17,  18,  19,  20,  21,  22,  23,  24,  25,  26,  27,\n",
              "        28,  29,  30,  31,  32,  33,  34,  35,  36,  37,  38,  39,  40,  41,\n",
              "        42,  43,  44,  45,  46,  47,  48,  49,  50,  51,  52,  53,  54,  55,\n",
              "        56,  57,  58,  59,  60,  61,  62,  63,  64,  65,  66,  67,  68,  69,\n",
              "        70,  71,  72,  73,  74,  75,  76,  77,  78,  79,  80,  81,  82,  83,\n",
              "        84,  85,  86,  87,  88,  89,  90,  91,  92,  93,  94,  95,  96,  97,\n",
              "        98,  99, 100, 101, 102, 103, 104, 105, 106, 107, 108, 109, 110, 111,\n",
              "       112, 113, 114, 115, 116, 117, 118, 119, 120])\u003c/pre\u003e\u003c/div\u003e\u003c/li\u003e\u003c/ul\u003e\u003c/div\u003e\u003c/li\u003e\u003cli class='xr-section-item'\u003e\u003cinput id='section-a91eb470-1bc2-4816-80f7-6611689477f5' class='xr-section-summary-in' type='checkbox'  checked\u003e\u003clabel for='section-a91eb470-1bc2-4816-80f7-6611689477f5' class='xr-section-summary' \u003eData variables: \u003cspan\u003e(13)\u003c/span\u003e\u003c/label\u003e\u003cdiv class='xr-section-inline-details'\u003e\u003c/div\u003e\u003cdiv class='xr-section-details'\u003e\u003cul class='xr-var-list'\u003e\u003cli class='xr-var-item'\u003e\u003cdiv class='xr-var-name'\u003e\u003cspan\u003e10m_u_component_of_wind\u003c/span\u003e\u003c/div\u003e\u003cdiv class='xr-var-dims'\u003e(prediction_timedelta, wavenumber, latitude)\u003c/div\u003e\u003cdiv class='xr-var-dtype'\u003efloat64\u003c/div\u003e\u003cdiv class='xr-var-preview xr-preview'\u003e...\u003c/div\u003e\u003cinput id='attrs-4196ccca-d549-4797-b606-7f03e9520a21' class='xr-var-attrs-in' type='checkbox' disabled\u003e\u003clabel for='attrs-4196ccca-d549-4797-b606-7f03e9520a21' title='Show/Hide attributes'\u003e\u003csvg class='icon xr-icon-file-text2'\u003e\u003cuse xlink:href='#icon-file-text2'\u003e\u003c/use\u003e\u003c/svg\u003e\u003c/label\u003e\u003cinput id='data-dc8da8b4-531b-4870-82ed-f42247bf518c' class='xr-var-data-in' type='checkbox'\u003e\u003clabel for='data-dc8da8b4-531b-4870-82ed-f42247bf518c' title='Show/Hide data repr'\u003e\u003csvg class='icon xr-icon-database'\u003e\u003cuse xlink:href='#icon-database'\u003e\u003c/use\u003e\u003c/svg\u003e\u003c/label\u003e\u003cdiv class='xr-var-attrs'\u003e\u003cdl class='xr-attrs'\u003e\u003c/dl\u003e\u003c/div\u003e\u003cdiv class='xr-var-data'\u003e\u003cpre\u003e[585640 values with dtype=float64]\u003c/pre\u003e\u003c/div\u003e\u003c/li\u003e\u003cli class='xr-var-item'\u003e\u003cdiv class='xr-var-name'\u003e\u003cspan\u003e10m_v_component_of_wind\u003c/span\u003e\u003c/div\u003e\u003cdiv class='xr-var-dims'\u003e(prediction_timedelta, wavenumber, latitude)\u003c/div\u003e\u003cdiv class='xr-var-dtype'\u003efloat64\u003c/div\u003e\u003cdiv class='xr-var-preview xr-preview'\u003e...\u003c/div\u003e\u003cinput id='attrs-168a6803-b9fd-4688-a92d-3b5591235a6e' class='xr-var-attrs-in' type='checkbox' disabled\u003e\u003clabel for='attrs-168a6803-b9fd-4688-a92d-3b5591235a6e' title='Show/Hide attributes'\u003e\u003csvg class='icon xr-icon-file-text2'\u003e\u003cuse xlink:href='#icon-file-text2'\u003e\u003c/use\u003e\u003c/svg\u003e\u003c/label\u003e\u003cinput id='data-c5417225-b103-47f9-b236-80a644f9a9a0' class='xr-var-data-in' type='checkbox'\u003e\u003clabel for='data-c5417225-b103-47f9-b236-80a644f9a9a0' title='Show/Hide data repr'\u003e\u003csvg class='icon xr-icon-database'\u003e\u003cuse xlink:href='#icon-database'\u003e\u003c/use\u003e\u003c/svg\u003e\u003c/label\u003e\u003cdiv class='xr-var-attrs'\u003e\u003cdl class='xr-attrs'\u003e\u003c/dl\u003e\u003c/div\u003e\u003cdiv class='xr-var-data'\u003e\u003cpre\u003e[585640 values with dtype=float64]\u003c/pre\u003e\u003c/div\u003e\u003c/li\u003e\u003cli class='xr-var-item'\u003e\u003cdiv class='xr-var-name'\u003e\u003cspan\u003e10m_wind_speed\u003c/span\u003e\u003c/div\u003e\u003cdiv class='xr-var-dims'\u003e(prediction_timedelta, wavenumber, latitude)\u003c/div\u003e\u003cdiv class='xr-var-dtype'\u003efloat64\u003c/div\u003e\u003cdiv class='xr-var-preview xr-preview'\u003e...\u003c/div\u003e\u003cinput id='attrs-c75a2ba8-6101-45a9-93e4-23f363c3650a' class='xr-var-attrs-in' type='checkbox' disabled\u003e\u003clabel for='attrs-c75a2ba8-6101-45a9-93e4-23f363c3650a' title='Show/Hide attributes'\u003e\u003csvg class='icon xr-icon-file-text2'\u003e\u003cuse xlink:href='#icon-file-text2'\u003e\u003c/use\u003e\u003c/svg\u003e\u003c/label\u003e\u003cinput id='data-329fb1c8-a13e-4c41-a7ac-f608ec3a863d' class='xr-var-data-in' type='checkbox'\u003e\u003clabel for='data-329fb1c8-a13e-4c41-a7ac-f608ec3a863d' title='Show/Hide data repr'\u003e\u003csvg class='icon xr-icon-database'\u003e\u003cuse xlink:href='#icon-database'\u003e\u003c/use\u003e\u003c/svg\u003e\u003c/label\u003e\u003cdiv class='xr-var-attrs'\u003e\u003cdl class='xr-attrs'\u003e\u003c/dl\u003e\u003c/div\u003e\u003cdiv class='xr-var-data'\u003e\u003cpre\u003e[585640 values with dtype=float64]\u003c/pre\u003e\u003c/div\u003e\u003c/li\u003e\u003cli class='xr-var-item'\u003e\u003cdiv class='xr-var-name'\u003e\u003cspan\u003e2m_temperature\u003c/span\u003e\u003c/div\u003e\u003cdiv class='xr-var-dims'\u003e(prediction_timedelta, wavenumber, latitude)\u003c/div\u003e\u003cdiv class='xr-var-dtype'\u003efloat64\u003c/div\u003e\u003cdiv class='xr-var-preview xr-preview'\u003e...\u003c/div\u003e\u003cinput id='attrs-2cf9eb60-ff8a-4a77-8437-15280a61b232' class='xr-var-attrs-in' type='checkbox' disabled\u003e\u003clabel for='attrs-2cf9eb60-ff8a-4a77-8437-15280a61b232' title='Show/Hide attributes'\u003e\u003csvg class='icon xr-icon-file-text2'\u003e\u003cuse xlink:href='#icon-file-text2'\u003e\u003c/use\u003e\u003c/svg\u003e\u003c/label\u003e\u003cinput id='data-ecbfaf98-4293-4eec-a7a7-685080ed0782' class='xr-var-data-in' type='checkbox'\u003e\u003clabel for='data-ecbfaf98-4293-4eec-a7a7-685080ed0782' title='Show/Hide data repr'\u003e\u003csvg class='icon xr-icon-database'\u003e\u003cuse xlink:href='#icon-database'\u003e\u003c/use\u003e\u003c/svg\u003e\u003c/label\u003e\u003cdiv class='xr-var-attrs'\u003e\u003cdl class='xr-attrs'\u003e\u003c/dl\u003e\u003c/div\u003e\u003cdiv class='xr-var-data'\u003e\u003cpre\u003e[585640 values with dtype=float64]\u003c/pre\u003e\u003c/div\u003e\u003c/li\u003e\u003cli class='xr-var-item'\u003e\u003cdiv class='xr-var-name'\u003e\u003cspan\u003egeopotential\u003c/span\u003e\u003c/div\u003e\u003cdiv class='xr-var-dims'\u003e(prediction_timedelta, wavenumber, latitude, level)\u003c/div\u003e\u003cdiv class='xr-var-dtype'\u003efloat64\u003c/div\u003e\u003cdiv class='xr-var-preview xr-preview'\u003e...\u003c/div\u003e\u003cinput id='attrs-011aa1e0-c80e-4d51-99a6-e5cd549db60f' class='xr-var-attrs-in' type='checkbox' disabled\u003e\u003clabel for='attrs-011aa1e0-c80e-4d51-99a6-e5cd549db60f' title='Show/Hide attributes'\u003e\u003csvg class='icon xr-icon-file-text2'\u003e\u003cuse xlink:href='#icon-file-text2'\u003e\u003c/use\u003e\u003c/svg\u003e\u003c/label\u003e\u003cinput id='data-36feee2c-052b-402f-905f-333d17feb1ef' class='xr-var-data-in' type='checkbox'\u003e\u003clabel for='data-36feee2c-052b-402f-905f-333d17feb1ef' title='Show/Hide data repr'\u003e\u003csvg class='icon xr-icon-database'\u003e\u003cuse xlink:href='#icon-database'\u003e\u003c/use\u003e\u003c/svg\u003e\u003c/label\u003e\u003cdiv class='xr-var-attrs'\u003e\u003cdl class='xr-attrs'\u003e\u003c/dl\u003e\u003c/div\u003e\u003cdiv class='xr-var-data'\u003e\u003cpre\u003e[1756920 values with dtype=float64]\u003c/pre\u003e\u003c/div\u003e\u003c/li\u003e\u003cli class='xr-var-item'\u003e\u003cdiv class='xr-var-name'\u003e\u003cspan\u003emean_sea_level_pressure\u003c/span\u003e\u003c/div\u003e\u003cdiv class='xr-var-dims'\u003e(prediction_timedelta, wavenumber, latitude)\u003c/div\u003e\u003cdiv class='xr-var-dtype'\u003efloat64\u003c/div\u003e\u003cdiv class='xr-var-preview xr-preview'\u003e...\u003c/div\u003e\u003cinput id='attrs-e62b1032-5283-42e4-af0f-e766f45d1711' class='xr-var-attrs-in' type='checkbox' disabled\u003e\u003clabel for='attrs-e62b1032-5283-42e4-af0f-e766f45d1711' title='Show/Hide attributes'\u003e\u003csvg class='icon xr-icon-file-text2'\u003e\u003cuse xlink:href='#icon-file-text2'\u003e\u003c/use\u003e\u003c/svg\u003e\u003c/label\u003e\u003cinput id='data-9addd7e0-0a8d-4882-8f28-eaa82cbfd25b' class='xr-var-data-in' type='checkbox'\u003e\u003clabel for='data-9addd7e0-0a8d-4882-8f28-eaa82cbfd25b' title='Show/Hide data repr'\u003e\u003csvg class='icon xr-icon-database'\u003e\u003cuse xlink:href='#icon-database'\u003e\u003c/use\u003e\u003c/svg\u003e\u003c/label\u003e\u003cdiv class='xr-var-attrs'\u003e\u003cdl class='xr-attrs'\u003e\u003c/dl\u003e\u003c/div\u003e\u003cdiv class='xr-var-data'\u003e\u003cpre\u003e[585640 values with dtype=float64]\u003c/pre\u003e\u003c/div\u003e\u003c/li\u003e\u003cli class='xr-var-item'\u003e\u003cdiv class='xr-var-name'\u003e\u003cspan\u003especific_humidity\u003c/span\u003e\u003c/div\u003e\u003cdiv class='xr-var-dims'\u003e(prediction_timedelta, wavenumber, latitude, level)\u003c/div\u003e\u003cdiv class='xr-var-dtype'\u003efloat64\u003c/div\u003e\u003cdiv class='xr-var-preview xr-preview'\u003e...\u003c/div\u003e\u003cinput id='attrs-b3cc6e3f-09a4-446f-811b-93563a02235c' class='xr-var-attrs-in' type='checkbox' disabled\u003e\u003clabel for='attrs-b3cc6e3f-09a4-446f-811b-93563a02235c' title='Show/Hide attributes'\u003e\u003csvg class='icon xr-icon-file-text2'\u003e\u003cuse xlink:href='#icon-file-text2'\u003e\u003c/use\u003e\u003c/svg\u003e\u003c/label\u003e\u003cinput id='data-0b205f71-c07f-480a-b449-74d34461c2ca' class='xr-var-data-in' type='checkbox'\u003e\u003clabel for='data-0b205f71-c07f-480a-b449-74d34461c2ca' title='Show/Hide data repr'\u003e\u003csvg class='icon xr-icon-database'\u003e\u003cuse xlink:href='#icon-database'\u003e\u003c/use\u003e\u003c/svg\u003e\u003c/label\u003e\u003cdiv class='xr-var-attrs'\u003e\u003cdl class='xr-attrs'\u003e\u003c/dl\u003e\u003c/div\u003e\u003cdiv class='xr-var-data'\u003e\u003cpre\u003e[1756920 values with dtype=float64]\u003c/pre\u003e\u003c/div\u003e\u003c/li\u003e\u003cli class='xr-var-item'\u003e\u003cdiv class='xr-var-name'\u003e\u003cspan\u003etemperature\u003c/span\u003e\u003c/div\u003e\u003cdiv class='xr-var-dims'\u003e(prediction_timedelta, wavenumber, latitude, level)\u003c/div\u003e\u003cdiv class='xr-var-dtype'\u003efloat64\u003c/div\u003e\u003cdiv class='xr-var-preview xr-preview'\u003e...\u003c/div\u003e\u003cinput id='attrs-1852c72e-b4a1-470e-b93b-17e80fc6264f' class='xr-var-attrs-in' type='checkbox' disabled\u003e\u003clabel for='attrs-1852c72e-b4a1-470e-b93b-17e80fc6264f' title='Show/Hide attributes'\u003e\u003csvg class='icon xr-icon-file-text2'\u003e\u003cuse xlink:href='#icon-file-text2'\u003e\u003c/use\u003e\u003c/svg\u003e\u003c/label\u003e\u003cinput id='data-e1019bb6-c0ae-4c63-a331-971ae0b9189c' class='xr-var-data-in' type='checkbox'\u003e\u003clabel for='data-e1019bb6-c0ae-4c63-a331-971ae0b9189c' title='Show/Hide data repr'\u003e\u003csvg class='icon xr-icon-database'\u003e\u003cuse xlink:href='#icon-database'\u003e\u003c/use\u003e\u003c/svg\u003e\u003c/label\u003e\u003cdiv class='xr-var-attrs'\u003e\u003cdl class='xr-attrs'\u003e\u003c/dl\u003e\u003c/div\u003e\u003cdiv class='xr-var-data'\u003e\u003cpre\u003e[1756920 values with dtype=float64]\u003c/pre\u003e\u003c/div\u003e\u003c/li\u003e\u003cli class='xr-var-item'\u003e\u003cdiv class='xr-var-name'\u003e\u003cspan\u003etotal_precipitation_24hr\u003c/span\u003e\u003c/div\u003e\u003cdiv class='xr-var-dims'\u003e(prediction_timedelta, wavenumber, latitude)\u003c/div\u003e\u003cdiv class='xr-var-dtype'\u003efloat64\u003c/div\u003e\u003cdiv class='xr-var-preview xr-preview'\u003e...\u003c/div\u003e\u003cinput id='attrs-e0028369-0479-47dd-893e-46a99998a3b7' class='xr-var-attrs-in' type='checkbox' disabled\u003e\u003clabel for='attrs-e0028369-0479-47dd-893e-46a99998a3b7' title='Show/Hide attributes'\u003e\u003csvg class='icon xr-icon-file-text2'\u003e\u003cuse xlink:href='#icon-file-text2'\u003e\u003c/use\u003e\u003c/svg\u003e\u003c/label\u003e\u003cinput id='data-91249ee6-64a9-4981-b122-9a92de74d48b' class='xr-var-data-in' type='checkbox'\u003e\u003clabel for='data-91249ee6-64a9-4981-b122-9a92de74d48b' title='Show/Hide data repr'\u003e\u003csvg class='icon xr-icon-database'\u003e\u003cuse xlink:href='#icon-database'\u003e\u003c/use\u003e\u003c/svg\u003e\u003c/label\u003e\u003cdiv class='xr-var-attrs'\u003e\u003cdl class='xr-attrs'\u003e\u003c/dl\u003e\u003c/div\u003e\u003cdiv class='xr-var-data'\u003e\u003cpre\u003e[585640 values with dtype=float64]\u003c/pre\u003e\u003c/div\u003e\u003c/li\u003e\u003cli class='xr-var-item'\u003e\u003cdiv class='xr-var-name'\u003e\u003cspan\u003etotal_precipitation_6hr\u003c/span\u003e\u003c/div\u003e\u003cdiv class='xr-var-dims'\u003e(prediction_timedelta, wavenumber, latitude)\u003c/div\u003e\u003cdiv class='xr-var-dtype'\u003efloat64\u003c/div\u003e\u003cdiv class='xr-var-preview xr-preview'\u003e...\u003c/div\u003e\u003cinput id='attrs-790e51f9-2680-4aa2-a53e-a4be37cff2d8' class='xr-var-attrs-in' type='checkbox' disabled\u003e\u003clabel for='attrs-790e51f9-2680-4aa2-a53e-a4be37cff2d8' title='Show/Hide attributes'\u003e\u003csvg class='icon xr-icon-file-text2'\u003e\u003cuse xlink:href='#icon-file-text2'\u003e\u003c/use\u003e\u003c/svg\u003e\u003c/label\u003e\u003cinput id='data-87bb76e1-d634-44c6-999b-8a797dfadf17' class='xr-var-data-in' type='checkbox'\u003e\u003clabel for='data-87bb76e1-d634-44c6-999b-8a797dfadf17' title='Show/Hide data repr'\u003e\u003csvg class='icon xr-icon-database'\u003e\u003cuse xlink:href='#icon-database'\u003e\u003c/use\u003e\u003c/svg\u003e\u003c/label\u003e\u003cdiv class='xr-var-attrs'\u003e\u003cdl class='xr-attrs'\u003e\u003c/dl\u003e\u003c/div\u003e\u003cdiv class='xr-var-data'\u003e\u003cpre\u003e[585640 values with dtype=float64]\u003c/pre\u003e\u003c/div\u003e\u003c/li\u003e\u003cli class='xr-var-item'\u003e\u003cdiv class='xr-var-name'\u003e\u003cspan\u003eu_component_of_wind\u003c/span\u003e\u003c/div\u003e\u003cdiv class='xr-var-dims'\u003e(prediction_timedelta, wavenumber, latitude, level)\u003c/div\u003e\u003cdiv class='xr-var-dtype'\u003efloat64\u003c/div\u003e\u003cdiv class='xr-var-preview xr-preview'\u003e...\u003c/div\u003e\u003cinput id='attrs-2cddd8fe-4b5a-4f00-a182-db15202a8fa0' class='xr-var-attrs-in' type='checkbox' disabled\u003e\u003clabel for='attrs-2cddd8fe-4b5a-4f00-a182-db15202a8fa0' title='Show/Hide attributes'\u003e\u003csvg class='icon xr-icon-file-text2'\u003e\u003cuse xlink:href='#icon-file-text2'\u003e\u003c/use\u003e\u003c/svg\u003e\u003c/label\u003e\u003cinput id='data-8e65f1f1-1472-4ce1-9838-a46c1cb65a57' class='xr-var-data-in' type='checkbox'\u003e\u003clabel for='data-8e65f1f1-1472-4ce1-9838-a46c1cb65a57' title='Show/Hide data repr'\u003e\u003csvg class='icon xr-icon-database'\u003e\u003cuse xlink:href='#icon-database'\u003e\u003c/use\u003e\u003c/svg\u003e\u003c/label\u003e\u003cdiv class='xr-var-attrs'\u003e\u003cdl class='xr-attrs'\u003e\u003c/dl\u003e\u003c/div\u003e\u003cdiv class='xr-var-data'\u003e\u003cpre\u003e[1756920 values with dtype=float64]\u003c/pre\u003e\u003c/div\u003e\u003c/li\u003e\u003cli class='xr-var-item'\u003e\u003cdiv class='xr-var-name'\u003e\u003cspan\u003ev_component_of_wind\u003c/span\u003e\u003c/div\u003e\u003cdiv class='xr-var-dims'\u003e(prediction_timedelta, wavenumber, latitude, level)\u003c/div\u003e\u003cdiv class='xr-var-dtype'\u003efloat64\u003c/div\u003e\u003cdiv class='xr-var-preview xr-preview'\u003e...\u003c/div\u003e\u003cinput id='attrs-e809702e-0449-489d-b8f9-6e1064542d22' class='xr-var-attrs-in' type='checkbox' disabled\u003e\u003clabel for='attrs-e809702e-0449-489d-b8f9-6e1064542d22' title='Show/Hide attributes'\u003e\u003csvg class='icon xr-icon-file-text2'\u003e\u003cuse xlink:href='#icon-file-text2'\u003e\u003c/use\u003e\u003c/svg\u003e\u003c/label\u003e\u003cinput id='data-45717ab5-b09e-46a0-a869-e421a4d8ae6c' class='xr-var-data-in' type='checkbox'\u003e\u003clabel for='data-45717ab5-b09e-46a0-a869-e421a4d8ae6c' title='Show/Hide data repr'\u003e\u003csvg class='icon xr-icon-database'\u003e\u003cuse xlink:href='#icon-database'\u003e\u003c/use\u003e\u003c/svg\u003e\u003c/label\u003e\u003cdiv class='xr-var-attrs'\u003e\u003cdl class='xr-attrs'\u003e\u003c/dl\u003e\u003c/div\u003e\u003cdiv class='xr-var-data'\u003e\u003cpre\u003e[1756920 values with dtype=float64]\u003c/pre\u003e\u003c/div\u003e\u003c/li\u003e\u003cli class='xr-var-item'\u003e\u003cdiv class='xr-var-name'\u003e\u003cspan\u003ewind_speed\u003c/span\u003e\u003c/div\u003e\u003cdiv class='xr-var-dims'\u003e(prediction_timedelta, wavenumber, latitude, level)\u003c/div\u003e\u003cdiv class='xr-var-dtype'\u003efloat64\u003c/div\u003e\u003cdiv class='xr-var-preview xr-preview'\u003e...\u003c/div\u003e\u003cinput id='attrs-82d3165a-5056-4ab7-b6a1-b15101c2e99a' class='xr-var-attrs-in' type='checkbox' disabled\u003e\u003clabel for='attrs-82d3165a-5056-4ab7-b6a1-b15101c2e99a' title='Show/Hide attributes'\u003e\u003csvg class='icon xr-icon-file-text2'\u003e\u003cuse xlink:href='#icon-file-text2'\u003e\u003c/use\u003e\u003c/svg\u003e\u003c/label\u003e\u003cinput id='data-85e4b2c4-2498-41d6-847f-7a8ef12f16a8' class='xr-var-data-in' type='checkbox'\u003e\u003clabel for='data-85e4b2c4-2498-41d6-847f-7a8ef12f16a8' title='Show/Hide data repr'\u003e\u003csvg class='icon xr-icon-database'\u003e\u003cuse xlink:href='#icon-database'\u003e\u003c/use\u003e\u003c/svg\u003e\u003c/label\u003e\u003cdiv class='xr-var-attrs'\u003e\u003cdl class='xr-attrs'\u003e\u003c/dl\u003e\u003c/div\u003e\u003cdiv class='xr-var-data'\u003e\u003cpre\u003e[1756920 values with dtype=float64]\u003c/pre\u003e\u003c/div\u003e\u003c/li\u003e\u003c/ul\u003e\u003c/div\u003e\u003c/li\u003e\u003cli class='xr-section-item'\u003e\u003cinput id='section-625ee93b-8fc4-4423-ad37-9c5da44e4a9c' class='xr-section-summary-in' type='checkbox' disabled \u003e\u003clabel for='section-625ee93b-8fc4-4423-ad37-9c5da44e4a9c' class='xr-section-summary'  title='Expand/collapse section'\u003eAttributes: \u003cspan\u003e(0)\u003c/span\u003e\u003c/label\u003e\u003cdiv class='xr-section-inline-details'\u003e\u003c/div\u003e\u003cdiv class='xr-section-details'\u003e\u003cdl class='xr-attrs'\u003e\u003c/dl\u003e\u003c/div\u003e\u003c/li\u003e\u003c/ul\u003e\u003c/div\u003e\u003c/div\u003e"
            ],
            "text/plain": [
              "\u003cxarray.Dataset\u003e\n",
              "Dimensions:                   (prediction_timedelta: 40, wavenumber: 121,\n",
              "                               latitude: 121, level: 3)\n",
              "Coordinates:\n",
              "    frequency                 (wavenumber, latitude) float64 ...\n",
              "  * latitude                  (latitude) float64 -90.0 -88.5 -87.0 ... 88.5 90.0\n",
              "  * level                     (level) int64 500 700 850\n",
              "  * prediction_timedelta      (prediction_timedelta) timedelta64[ns] 06:00:00...\n",
              "  * wavenumber                (wavenumber) int64 0 1 2 3 4 ... 117 118 119 120\n",
              "Data variables: (12/13)\n",
              "    10m_u_component_of_wind   (prediction_timedelta, wavenumber, latitude) float64 ...\n",
              "    10m_v_component_of_wind   (prediction_timedelta, wavenumber, latitude) float64 ...\n",
              "    10m_wind_speed            (prediction_timedelta, wavenumber, latitude) float64 ...\n",
              "    2m_temperature            (prediction_timedelta, wavenumber, latitude) float64 ...\n",
              "    geopotential              (prediction_timedelta, wavenumber, latitude, level) float64 ...\n",
              "    mean_sea_level_pressure   (prediction_timedelta, wavenumber, latitude) float64 ...\n",
              "    ...                        ...\n",
              "    temperature               (prediction_timedelta, wavenumber, latitude, level) float64 ...\n",
              "    total_precipitation_24hr  (prediction_timedelta, wavenumber, latitude) float64 ...\n",
              "    total_precipitation_6hr   (prediction_timedelta, wavenumber, latitude) float64 ...\n",
              "    u_component_of_wind       (prediction_timedelta, wavenumber, latitude, level) float64 ...\n",
              "    v_component_of_wind       (prediction_timedelta, wavenumber, latitude, level) float64 ...\n",
              "    wind_speed                (prediction_timedelta, wavenumber, latitude, level) float64 ..."
            ]
          },
          "execution_count": 58,
          "metadata": {},
          "output_type": "execute_result"
        }
      ],
      "source": [
        "ds"
      ]
    },
    {
      "cell_type": "code",
      "execution_count": 59,
      "metadata": {
        "executionInfo": {
          "elapsed": 1,
          "status": "ok",
          "timestamp": 1686036312248,
          "user": {
            "displayName": "",
            "userId": ""
          },
          "user_tz": -120
        },
        "id": "iSXx_zSFWzVa"
      },
      "outputs": [],
      "source": [
        "wavelength = 1/ds.frequency"
      ]
    },
    {
      "cell_type": "code",
      "execution_count": 60,
      "metadata": {
        "executionInfo": {
          "elapsed": 1,
          "status": "ok",
          "timestamp": 1686036312483,
          "user": {
            "displayName": "",
            "userId": ""
          },
          "user_tz": -120
        },
        "id": "4iztFUgqXnNa"
      },
      "outputs": [],
      "source": [
        "wavelength = wavelength.sel(latitude=latitude)"
      ]
    },
    {
      "cell_type": "code",
      "execution_count": 61,
      "metadata": {
        "colab": {
          "height": 399
        },
        "executionInfo": {
          "elapsed": 61,
          "status": "ok",
          "timestamp": 1686036312780,
          "user": {
            "displayName": "",
            "userId": ""
          },
          "user_tz": -120
        },
        "id": "M4WjKoSGY8s2",
        "outputId": "7dd63484-20e6-4179-d0d8-c9a60c3eb797"
      },
      "outputs": [
        {
          "data": {
            "text/html": [
              "\u003cdiv\u003e\u003csvg style=\"position: absolute; width: 0; height: 0; overflow: hidden\"\u003e\n",
              "\u003cdefs\u003e\n",
              "\u003csymbol id=\"icon-database\" viewBox=\"0 0 32 32\"\u003e\n",
              "\u003cpath d=\"M16 0c-8.837 0-16 2.239-16 5v4c0 2.761 7.163 5 16 5s16-2.239 16-5v-4c0-2.761-7.163-5-16-5z\"\u003e\u003c/path\u003e\n",
              "\u003cpath d=\"M16 17c-8.837 0-16-2.239-16-5v6c0 2.761 7.163 5 16 5s16-2.239 16-5v-6c0 2.761-7.163 5-16 5z\"\u003e\u003c/path\u003e\n",
              "\u003cpath d=\"M16 26c-8.837 0-16-2.239-16-5v6c0 2.761 7.163 5 16 5s16-2.239 16-5v-6c0 2.761-7.163 5-16 5z\"\u003e\u003c/path\u003e\n",
              "\u003c/symbol\u003e\n",
              "\u003csymbol id=\"icon-file-text2\" viewBox=\"0 0 32 32\"\u003e\n",
              "\u003cpath d=\"M28.681 7.159c-0.694-0.947-1.662-2.053-2.724-3.116s-2.169-2.030-3.116-2.724c-1.612-1.182-2.393-1.319-2.841-1.319h-15.5c-1.378 0-2.5 1.121-2.5 2.5v27c0 1.378 1.122 2.5 2.5 2.5h23c1.378 0 2.5-1.122 2.5-2.5v-19.5c0-0.448-0.137-1.23-1.319-2.841zM24.543 5.457c0.959 0.959 1.712 1.825 2.268 2.543h-4.811v-4.811c0.718 0.556 1.584 1.309 2.543 2.268zM28 29.5c0 0.271-0.229 0.5-0.5 0.5h-23c-0.271 0-0.5-0.229-0.5-0.5v-27c0-0.271 0.229-0.5 0.5-0.5 0 0 15.499-0 15.5 0v7c0 0.552 0.448 1 1 1h7v19.5z\"\u003e\u003c/path\u003e\n",
              "\u003cpath d=\"M23 26h-14c-0.552 0-1-0.448-1-1s0.448-1 1-1h14c0.552 0 1 0.448 1 1s-0.448 1-1 1z\"\u003e\u003c/path\u003e\n",
              "\u003cpath d=\"M23 22h-14c-0.552 0-1-0.448-1-1s0.448-1 1-1h14c0.552 0 1 0.448 1 1s-0.448 1-1 1z\"\u003e\u003c/path\u003e\n",
              "\u003cpath d=\"M23 18h-14c-0.552 0-1-0.448-1-1s0.448-1 1-1h14c0.552 0 1 0.448 1 1s-0.448 1-1 1z\"\u003e\u003c/path\u003e\n",
              "\u003c/symbol\u003e\n",
              "\u003c/defs\u003e\n",
              "\u003c/svg\u003e\n",
              "\u003cstyle\u003e/* CSS stylesheet for displaying xarray objects in jupyterlab.\n",
              " *\n",
              " */\n",
              "\n",
              ":root {\n",
              "  --xr-font-color0: var(--jp-content-font-color0, rgba(0, 0, 0, 1));\n",
              "  --xr-font-color2: var(--jp-content-font-color2, rgba(0, 0, 0, 0.54));\n",
              "  --xr-font-color3: var(--jp-content-font-color3, rgba(0, 0, 0, 0.38));\n",
              "  --xr-border-color: var(--jp-border-color2, #e0e0e0);\n",
              "  --xr-disabled-color: var(--jp-layout-color3, #bdbdbd);\n",
              "  --xr-background-color: var(--jp-layout-color0, white);\n",
              "  --xr-background-color-row-even: var(--jp-layout-color1, white);\n",
              "  --xr-background-color-row-odd: var(--jp-layout-color2, #eeeeee);\n",
              "}\n",
              "\n",
              "html[theme=dark],\n",
              "body[data-theme=dark],\n",
              "body.vscode-dark {\n",
              "  --xr-font-color0: rgba(255, 255, 255, 1);\n",
              "  --xr-font-color2: rgba(255, 255, 255, 0.54);\n",
              "  --xr-font-color3: rgba(255, 255, 255, 0.38);\n",
              "  --xr-border-color: #1F1F1F;\n",
              "  --xr-disabled-color: #515151;\n",
              "  --xr-background-color: #111111;\n",
              "  --xr-background-color-row-even: #111111;\n",
              "  --xr-background-color-row-odd: #313131;\n",
              "}\n",
              "\n",
              ".xr-wrap {\n",
              "  display: block !important;\n",
              "  min-width: 300px;\n",
              "  max-width: 700px;\n",
              "}\n",
              "\n",
              ".xr-text-repr-fallback {\n",
              "  /* fallback to plain text repr when CSS is not injected (untrusted notebook) */\n",
              "  display: none;\n",
              "}\n",
              "\n",
              ".xr-header {\n",
              "  padding-top: 6px;\n",
              "  padding-bottom: 6px;\n",
              "  margin-bottom: 4px;\n",
              "  border-bottom: solid 1px var(--xr-border-color);\n",
              "}\n",
              "\n",
              ".xr-header \u003e div,\n",
              ".xr-header \u003e ul {\n",
              "  display: inline;\n",
              "  margin-top: 0;\n",
              "  margin-bottom: 0;\n",
              "}\n",
              "\n",
              ".xr-obj-type,\n",
              ".xr-array-name {\n",
              "  margin-left: 2px;\n",
              "  margin-right: 10px;\n",
              "}\n",
              "\n",
              ".xr-obj-type {\n",
              "  color: var(--xr-font-color2);\n",
              "}\n",
              "\n",
              ".xr-sections {\n",
              "  padding-left: 0 !important;\n",
              "  display: grid;\n",
              "  grid-template-columns: 150px auto auto 1fr 20px 20px;\n",
              "}\n",
              "\n",
              ".xr-section-item {\n",
              "  display: contents;\n",
              "}\n",
              "\n",
              ".xr-section-item input {\n",
              "  display: none;\n",
              "}\n",
              "\n",
              ".xr-section-item input + label {\n",
              "  color: var(--xr-disabled-color);\n",
              "}\n",
              "\n",
              ".xr-section-item input:enabled + label {\n",
              "  cursor: pointer;\n",
              "  color: var(--xr-font-color2);\n",
              "}\n",
              "\n",
              ".xr-section-item input:enabled + label:hover {\n",
              "  color: var(--xr-font-color0);\n",
              "}\n",
              "\n",
              ".xr-section-summary {\n",
              "  grid-column: 1;\n",
              "  color: var(--xr-font-color2);\n",
              "  font-weight: 500;\n",
              "}\n",
              "\n",
              ".xr-section-summary \u003e span {\n",
              "  display: inline-block;\n",
              "  padding-left: 0.5em;\n",
              "}\n",
              "\n",
              ".xr-section-summary-in:disabled + label {\n",
              "  color: var(--xr-font-color2);\n",
              "}\n",
              "\n",
              ".xr-section-summary-in + label:before {\n",
              "  display: inline-block;\n",
              "  content: '►';\n",
              "  font-size: 11px;\n",
              "  width: 15px;\n",
              "  text-align: center;\n",
              "}\n",
              "\n",
              ".xr-section-summary-in:disabled + label:before {\n",
              "  color: var(--xr-disabled-color);\n",
              "}\n",
              "\n",
              ".xr-section-summary-in:checked + label:before {\n",
              "  content: '▼';\n",
              "}\n",
              "\n",
              ".xr-section-summary-in:checked + label \u003e span {\n",
              "  display: none;\n",
              "}\n",
              "\n",
              ".xr-section-summary,\n",
              ".xr-section-inline-details {\n",
              "  padding-top: 4px;\n",
              "  padding-bottom: 4px;\n",
              "}\n",
              "\n",
              ".xr-section-inline-details {\n",
              "  grid-column: 2 / -1;\n",
              "}\n",
              "\n",
              ".xr-section-details {\n",
              "  display: none;\n",
              "  grid-column: 1 / -1;\n",
              "  margin-bottom: 5px;\n",
              "}\n",
              "\n",
              ".xr-section-summary-in:checked ~ .xr-section-details {\n",
              "  display: contents;\n",
              "}\n",
              "\n",
              ".xr-array-wrap {\n",
              "  grid-column: 1 / -1;\n",
              "  display: grid;\n",
              "  grid-template-columns: 20px auto;\n",
              "}\n",
              "\n",
              ".xr-array-wrap \u003e label {\n",
              "  grid-column: 1;\n",
              "  vertical-align: top;\n",
              "}\n",
              "\n",
              ".xr-preview {\n",
              "  color: var(--xr-font-color3);\n",
              "}\n",
              "\n",
              ".xr-array-preview,\n",
              ".xr-array-data {\n",
              "  padding: 0 5px !important;\n",
              "  grid-column: 2;\n",
              "}\n",
              "\n",
              ".xr-array-data,\n",
              ".xr-array-in:checked ~ .xr-array-preview {\n",
              "  display: none;\n",
              "}\n",
              "\n",
              ".xr-array-in:checked ~ .xr-array-data,\n",
              ".xr-array-preview {\n",
              "  display: inline-block;\n",
              "}\n",
              "\n",
              ".xr-dim-list {\n",
              "  display: inline-block !important;\n",
              "  list-style: none;\n",
              "  padding: 0 !important;\n",
              "  margin: 0;\n",
              "}\n",
              "\n",
              ".xr-dim-list li {\n",
              "  display: inline-block;\n",
              "  padding: 0;\n",
              "  margin: 0;\n",
              "}\n",
              "\n",
              ".xr-dim-list:before {\n",
              "  content: '(';\n",
              "}\n",
              "\n",
              ".xr-dim-list:after {\n",
              "  content: ')';\n",
              "}\n",
              "\n",
              ".xr-dim-list li:not(:last-child):after {\n",
              "  content: ',';\n",
              "  padding-right: 5px;\n",
              "}\n",
              "\n",
              ".xr-has-index {\n",
              "  font-weight: bold;\n",
              "}\n",
              "\n",
              ".xr-var-list,\n",
              ".xr-var-item {\n",
              "  display: contents;\n",
              "}\n",
              "\n",
              ".xr-var-item \u003e div,\n",
              ".xr-var-item label,\n",
              ".xr-var-item \u003e .xr-var-name span {\n",
              "  background-color: var(--xr-background-color-row-even);\n",
              "  margin-bottom: 0;\n",
              "}\n",
              "\n",
              ".xr-var-item \u003e .xr-var-name:hover span {\n",
              "  padding-right: 5px;\n",
              "}\n",
              "\n",
              ".xr-var-list \u003e li:nth-child(odd) \u003e div,\n",
              ".xr-var-list \u003e li:nth-child(odd) \u003e label,\n",
              ".xr-var-list \u003e li:nth-child(odd) \u003e .xr-var-name span {\n",
              "  background-color: var(--xr-background-color-row-odd);\n",
              "}\n",
              "\n",
              ".xr-var-name {\n",
              "  grid-column: 1;\n",
              "}\n",
              "\n",
              ".xr-var-dims {\n",
              "  grid-column: 2;\n",
              "}\n",
              "\n",
              ".xr-var-dtype {\n",
              "  grid-column: 3;\n",
              "  text-align: right;\n",
              "  color: var(--xr-font-color2);\n",
              "}\n",
              "\n",
              ".xr-var-preview {\n",
              "  grid-column: 4;\n",
              "}\n",
              "\n",
              ".xr-var-name,\n",
              ".xr-var-dims,\n",
              ".xr-var-dtype,\n",
              ".xr-preview,\n",
              ".xr-attrs dt {\n",
              "  white-space: nowrap;\n",
              "  overflow: hidden;\n",
              "  text-overflow: ellipsis;\n",
              "  padding-right: 10px;\n",
              "}\n",
              "\n",
              ".xr-var-name:hover,\n",
              ".xr-var-dims:hover,\n",
              ".xr-var-dtype:hover,\n",
              ".xr-attrs dt:hover {\n",
              "  overflow: visible;\n",
              "  width: auto;\n",
              "  z-index: 1;\n",
              "}\n",
              "\n",
              ".xr-var-attrs,\n",
              ".xr-var-data {\n",
              "  display: none;\n",
              "  background-color: var(--xr-background-color) !important;\n",
              "  padding-bottom: 5px !important;\n",
              "}\n",
              "\n",
              ".xr-var-attrs-in:checked ~ .xr-var-attrs,\n",
              ".xr-var-data-in:checked ~ .xr-var-data {\n",
              "  display: block;\n",
              "}\n",
              "\n",
              ".xr-var-data \u003e table {\n",
              "  float: right;\n",
              "}\n",
              "\n",
              ".xr-var-name span,\n",
              ".xr-var-data,\n",
              ".xr-attrs {\n",
              "  padding-left: 25px !important;\n",
              "}\n",
              "\n",
              ".xr-attrs,\n",
              ".xr-var-attrs,\n",
              ".xr-var-data {\n",
              "  grid-column: 1 / -1;\n",
              "}\n",
              "\n",
              "dl.xr-attrs {\n",
              "  padding: 0;\n",
              "  margin: 0;\n",
              "  display: grid;\n",
              "  grid-template-columns: 125px auto;\n",
              "}\n",
              "\n",
              ".xr-attrs dt,\n",
              ".xr-attrs dd {\n",
              "  padding: 0;\n",
              "  margin: 0;\n",
              "  float: left;\n",
              "  padding-right: 10px;\n",
              "  width: auto;\n",
              "}\n",
              "\n",
              ".xr-attrs dt {\n",
              "  font-weight: normal;\n",
              "  grid-column: 1;\n",
              "}\n",
              "\n",
              ".xr-attrs dt:hover span {\n",
              "  display: inline-block;\n",
              "  background: var(--xr-background-color);\n",
              "  padding-right: 10px;\n",
              "}\n",
              "\n",
              ".xr-attrs dd {\n",
              "  grid-column: 2;\n",
              "  white-space: pre-wrap;\n",
              "  word-break: break-all;\n",
              "}\n",
              "\n",
              ".xr-icon-database,\n",
              ".xr-icon-file-text2 {\n",
              "  display: inline-block;\n",
              "  vertical-align: middle;\n",
              "  width: 1em;\n",
              "  height: 1.5em !important;\n",
              "  stroke-width: 0;\n",
              "  stroke: currentColor;\n",
              "  fill: currentColor;\n",
              "}\n",
              "\u003c/style\u003e\u003cpre class='xr-text-repr-fallback'\u003e\u0026lt;xarray.DataArray \u0026#x27;frequency\u0026#x27; (wavenumber: 121, latitude: 40)\u0026gt;\n",
              "array([[           inf,            inf,            inf, ...,\n",
              "                   inf,            inf,            inf],\n",
              "       [20938.68893431, 21825.94959253, 22698.25183514, ...,\n",
              "        21825.94959253, 20938.68893431, 20037.0779446 ],\n",
              "       [10469.34446715, 10912.97479627, 11349.12591757, ...,\n",
              "        10912.97479627, 10469.34446715, 10018.5389723 ],\n",
              "       ...,\n",
              "       [  177.44651639,   184.96567451,   192.3580664 , ...,\n",
              "          184.96567451,   177.44651639,   169.80574529],\n",
              "       [  175.9553692 ,   183.41134111,   190.74161206, ...,\n",
              "          183.41134111,   175.9553692 ,   168.37880626],\n",
              "       [  174.48907445,   181.88291327,   189.15209863, ...,\n",
              "          181.88291327,   174.48907445,   166.97564954]])\n",
              "Coordinates:\n",
              "    frequency   (wavenumber, latitude) float64 0.0 0.0 0.0 ... 0.005731 0.005989\n",
              "  * latitude    (latitude) float64 -58.5 -57.0 -55.5 -54.0 ... 57.0 58.5 60.0\n",
              "  * wavenumber  (wavenumber) int64 0 1 2 3 4 5 6 ... 114 115 116 117 118 119 120\u003c/pre\u003e\u003cdiv class='xr-wrap' style='display:none'\u003e\u003cdiv class='xr-header'\u003e\u003cdiv class='xr-obj-type'\u003exarray.DataArray\u003c/div\u003e\u003cdiv class='xr-array-name'\u003e'frequency'\u003c/div\u003e\u003cul class='xr-dim-list'\u003e\u003cli\u003e\u003cspan class='xr-has-index'\u003ewavenumber\u003c/span\u003e: 121\u003c/li\u003e\u003cli\u003e\u003cspan class='xr-has-index'\u003elatitude\u003c/span\u003e: 40\u003c/li\u003e\u003c/ul\u003e\u003c/div\u003e\u003cul class='xr-sections'\u003e\u003cli class='xr-section-item'\u003e\u003cdiv class='xr-array-wrap'\u003e\u003cinput id='section-1f1d90d0-c0fb-4f4d-bfb1-a29e0ffec3d4' class='xr-array-in' type='checkbox' checked\u003e\u003clabel for='section-1f1d90d0-c0fb-4f4d-bfb1-a29e0ffec3d4' title='Show/hide data repr'\u003e\u003csvg class='icon xr-icon-database'\u003e\u003cuse xlink:href='#icon-database'\u003e\u003c/use\u003e\u003c/svg\u003e\u003c/label\u003e\u003cdiv class='xr-array-preview xr-preview'\u003e\u003cspan\u003einf inf inf inf inf inf inf ... 203.3 196.3 189.2 181.9 174.5 167.0\u003c/span\u003e\u003c/div\u003e\u003cdiv class='xr-array-data'\u003e\u003cpre\u003earray([[           inf,            inf,            inf, ...,\n",
              "                   inf,            inf,            inf],\n",
              "       [20938.68893431, 21825.94959253, 22698.25183514, ...,\n",
              "        21825.94959253, 20938.68893431, 20037.0779446 ],\n",
              "       [10469.34446715, 10912.97479627, 11349.12591757, ...,\n",
              "        10912.97479627, 10469.34446715, 10018.5389723 ],\n",
              "       ...,\n",
              "       [  177.44651639,   184.96567451,   192.3580664 , ...,\n",
              "          184.96567451,   177.44651639,   169.80574529],\n",
              "       [  175.9553692 ,   183.41134111,   190.74161206, ...,\n",
              "          183.41134111,   175.9553692 ,   168.37880626],\n",
              "       [  174.48907445,   181.88291327,   189.15209863, ...,\n",
              "          181.88291327,   174.48907445,   166.97564954]])\u003c/pre\u003e\u003c/div\u003e\u003c/div\u003e\u003c/li\u003e\u003cli class='xr-section-item'\u003e\u003cinput id='section-69426a02-44e0-4901-af86-73261861e27f' class='xr-section-summary-in' type='checkbox'  checked\u003e\u003clabel for='section-69426a02-44e0-4901-af86-73261861e27f' class='xr-section-summary' \u003eCoordinates: \u003cspan\u003e(3)\u003c/span\u003e\u003c/label\u003e\u003cdiv class='xr-section-inline-details'\u003e\u003c/div\u003e\u003cdiv class='xr-section-details'\u003e\u003cul class='xr-var-list'\u003e\u003cli class='xr-var-item'\u003e\u003cdiv class='xr-var-name'\u003e\u003cspan\u003efrequency\u003c/span\u003e\u003c/div\u003e\u003cdiv class='xr-var-dims'\u003e(wavenumber, latitude)\u003c/div\u003e\u003cdiv class='xr-var-dtype'\u003efloat64\u003c/div\u003e\u003cdiv class='xr-var-preview xr-preview'\u003e0.0 0.0 0.0 ... 0.005731 0.005989\u003c/div\u003e\u003cinput id='attrs-63efcfdc-0776-4bed-8a6e-2565679c5fb1' class='xr-var-attrs-in' type='checkbox' \u003e\u003clabel for='attrs-63efcfdc-0776-4bed-8a6e-2565679c5fb1' title='Show/Hide attributes'\u003e\u003csvg class='icon xr-icon-file-text2'\u003e\u003cuse xlink:href='#icon-file-text2'\u003e\u003c/use\u003e\u003c/svg\u003e\u003c/label\u003e\u003cinput id='data-b3af2f80-af96-40b3-a8fe-11bb140c6055' class='xr-var-data-in' type='checkbox'\u003e\u003clabel for='data-b3af2f80-af96-40b3-a8fe-11bb140c6055' title='Show/Hide data repr'\u003e\u003csvg class='icon xr-icon-database'\u003e\u003cuse xlink:href='#icon-database'\u003e\u003c/use\u003e\u003c/svg\u003e\u003c/label\u003e\u003cdiv class='xr-var-attrs'\u003e\u003cdl class='xr-attrs'\u003e\u003cdt\u003e\u003cspan\u003eunits :\u003c/span\u003e\u003c/dt\u003e\u003cdd\u003e1 / km\u003c/dd\u003e\u003c/dl\u003e\u003c/div\u003e\u003cdiv class='xr-var-data'\u003e\u003cpre\u003earray([[0.000000e+00, 0.000000e+00, 0.000000e+00, ..., 0.000000e+00,\n",
              "        0.000000e+00, 0.000000e+00],\n",
              "       [4.775848e-05, 4.581702e-05, 4.405626e-05, ..., 4.581702e-05,\n",
              "        4.775848e-05, 4.990748e-05],\n",
              "       [9.551696e-05, 9.163404e-05, 8.811251e-05, ..., 9.163404e-05,\n",
              "        9.551696e-05, 9.981495e-05],\n",
              "       ...,\n",
              "       [5.635501e-03, 5.406409e-03, 5.198638e-03, ..., 5.406409e-03,\n",
              "        5.635501e-03, 5.889082e-03],\n",
              "       [5.683259e-03, 5.452226e-03, 5.242694e-03, ..., 5.452226e-03,\n",
              "        5.683259e-03, 5.938990e-03],\n",
              "       [5.731018e-03, 5.498043e-03, 5.286751e-03, ..., 5.498043e-03,\n",
              "        5.731018e-03, 5.988897e-03]])\u003c/pre\u003e\u003c/div\u003e\u003c/li\u003e\u003cli class='xr-var-item'\u003e\u003cdiv class='xr-var-name'\u003e\u003cspan class='xr-has-index'\u003elatitude\u003c/span\u003e\u003c/div\u003e\u003cdiv class='xr-var-dims'\u003e(latitude)\u003c/div\u003e\u003cdiv class='xr-var-dtype'\u003efloat64\u003c/div\u003e\u003cdiv class='xr-var-preview xr-preview'\u003e-58.5 -57.0 -55.5 ... 58.5 60.0\u003c/div\u003e\u003cinput id='attrs-cb2c282f-4f0e-4003-b7e5-f67961543f1c' class='xr-var-attrs-in' type='checkbox' disabled\u003e\u003clabel for='attrs-cb2c282f-4f0e-4003-b7e5-f67961543f1c' title='Show/Hide attributes'\u003e\u003csvg class='icon xr-icon-file-text2'\u003e\u003cuse xlink:href='#icon-file-text2'\u003e\u003c/use\u003e\u003c/svg\u003e\u003c/label\u003e\u003cinput id='data-e87c4e53-a9c0-4796-959a-921138b5c893' class='xr-var-data-in' type='checkbox'\u003e\u003clabel for='data-e87c4e53-a9c0-4796-959a-921138b5c893' title='Show/Hide data repr'\u003e\u003csvg class='icon xr-icon-database'\u003e\u003cuse xlink:href='#icon-database'\u003e\u003c/use\u003e\u003c/svg\u003e\u003c/label\u003e\u003cdiv class='xr-var-attrs'\u003e\u003cdl class='xr-attrs'\u003e\u003c/dl\u003e\u003c/div\u003e\u003cdiv class='xr-var-data'\u003e\u003cpre\u003earray([-58.5, -57. , -55.5, -54. , -52.5, -51. , -49.5, -48. , -46.5, -45. ,\n",
              "       -43.5, -42. , -40.5, -39. , -37.5, -36. , -34.5, -33. , -31.5, -30. ,\n",
              "        31.5,  33. ,  34.5,  36. ,  37.5,  39. ,  40.5,  42. ,  43.5,  45. ,\n",
              "        46.5,  48. ,  49.5,  51. ,  52.5,  54. ,  55.5,  57. ,  58.5,  60. ])\u003c/pre\u003e\u003c/div\u003e\u003c/li\u003e\u003cli class='xr-var-item'\u003e\u003cdiv class='xr-var-name'\u003e\u003cspan class='xr-has-index'\u003ewavenumber\u003c/span\u003e\u003c/div\u003e\u003cdiv class='xr-var-dims'\u003e(wavenumber)\u003c/div\u003e\u003cdiv class='xr-var-dtype'\u003eint64\u003c/div\u003e\u003cdiv class='xr-var-preview xr-preview'\u003e0 1 2 3 4 5 ... 116 117 118 119 120\u003c/div\u003e\u003cinput id='attrs-6a17dc75-08f1-4721-aad8-ca5fe63cc094' class='xr-var-attrs-in' type='checkbox' disabled\u003e\u003clabel for='attrs-6a17dc75-08f1-4721-aad8-ca5fe63cc094' title='Show/Hide attributes'\u003e\u003csvg class='icon xr-icon-file-text2'\u003e\u003cuse xlink:href='#icon-file-text2'\u003e\u003c/use\u003e\u003c/svg\u003e\u003c/label\u003e\u003cinput id='data-86bd1d82-d48d-4cb1-9466-0820da1abbde' class='xr-var-data-in' type='checkbox'\u003e\u003clabel for='data-86bd1d82-d48d-4cb1-9466-0820da1abbde' title='Show/Hide data repr'\u003e\u003csvg class='icon xr-icon-database'\u003e\u003cuse xlink:href='#icon-database'\u003e\u003c/use\u003e\u003c/svg\u003e\u003c/label\u003e\u003cdiv class='xr-var-attrs'\u003e\u003cdl class='xr-attrs'\u003e\u003c/dl\u003e\u003c/div\u003e\u003cdiv class='xr-var-data'\u003e\u003cpre\u003earray([  0,   1,   2,   3,   4,   5,   6,   7,   8,   9,  10,  11,  12,  13,\n",
              "        14,  15,  16,  17,  18,  19,  20,  21,  22,  23,  24,  25,  26,  27,\n",
              "        28,  29,  30,  31,  32,  33,  34,  35,  36,  37,  38,  39,  40,  41,\n",
              "        42,  43,  44,  45,  46,  47,  48,  49,  50,  51,  52,  53,  54,  55,\n",
              "        56,  57,  58,  59,  60,  61,  62,  63,  64,  65,  66,  67,  68,  69,\n",
              "        70,  71,  72,  73,  74,  75,  76,  77,  78,  79,  80,  81,  82,  83,\n",
              "        84,  85,  86,  87,  88,  89,  90,  91,  92,  93,  94,  95,  96,  97,\n",
              "        98,  99, 100, 101, 102, 103, 104, 105, 106, 107, 108, 109, 110, 111,\n",
              "       112, 113, 114, 115, 116, 117, 118, 119, 120])\u003c/pre\u003e\u003c/div\u003e\u003c/li\u003e\u003c/ul\u003e\u003c/div\u003e\u003c/li\u003e\u003cli class='xr-section-item'\u003e\u003cinput id='section-01d3a6de-ae40-4f2b-9b19-09974861f938' class='xr-section-summary-in' type='checkbox' disabled \u003e\u003clabel for='section-01d3a6de-ae40-4f2b-9b19-09974861f938' class='xr-section-summary'  title='Expand/collapse section'\u003eAttributes: \u003cspan\u003e(0)\u003c/span\u003e\u003c/label\u003e\u003cdiv class='xr-section-inline-details'\u003e\u003c/div\u003e\u003cdiv class='xr-section-details'\u003e\u003cdl class='xr-attrs'\u003e\u003c/dl\u003e\u003c/div\u003e\u003c/li\u003e\u003c/ul\u003e\u003c/div\u003e\u003c/div\u003e"
            ],
            "text/plain": [
              "\u003cxarray.DataArray 'frequency' (wavenumber: 121, latitude: 40)\u003e\n",
              "array([[           inf,            inf,            inf, ...,\n",
              "                   inf,            inf,            inf],\n",
              "       [20938.68893431, 21825.94959253, 22698.25183514, ...,\n",
              "        21825.94959253, 20938.68893431, 20037.0779446 ],\n",
              "       [10469.34446715, 10912.97479627, 11349.12591757, ...,\n",
              "        10912.97479627, 10469.34446715, 10018.5389723 ],\n",
              "       ...,\n",
              "       [  177.44651639,   184.96567451,   192.3580664 , ...,\n",
              "          184.96567451,   177.44651639,   169.80574529],\n",
              "       [  175.9553692 ,   183.41134111,   190.74161206, ...,\n",
              "          183.41134111,   175.9553692 ,   168.37880626],\n",
              "       [  174.48907445,   181.88291327,   189.15209863, ...,\n",
              "          181.88291327,   174.48907445,   166.97564954]])\n",
              "Coordinates:\n",
              "    frequency   (wavenumber, latitude) float64 0.0 0.0 0.0 ... 0.005731 0.005989\n",
              "  * latitude    (latitude) float64 -58.5 -57.0 -55.5 -54.0 ... 57.0 58.5 60.0\n",
              "  * wavenumber  (wavenumber) int64 0 1 2 3 4 5 6 ... 114 115 116 117 118 119 120"
            ]
          },
          "execution_count": 61,
          "metadata": {},
          "output_type": "execute_result"
        }
      ],
      "source": [
        "wavelength"
      ]
    },
    {
      "cell_type": "code",
      "execution_count": 62,
      "metadata": {
        "colab": {
          "height": 269
        },
        "executionInfo": {
          "elapsed": 1137,
          "status": "ok",
          "timestamp": 1686036314144,
          "user": {
            "displayName": "",
            "userId": ""
          },
          "user_tz": -120
        },
        "id": "aEMQn7LRYjEa",
        "outputId": "95bc4cb0-1668-4f4f-c83e-02858bdda1ce"
      },
      "outputs": [
        {
          "data": {
            "image/png": "[encoded data removed]",
            "text/plain": [
              "\u003cFigure size 600x400 with 1 Axes\u003e"
            ]
          },
          "metadata": {},
          "output_type": "display_data"
        }
      ],
      "source": [
        "for l in wavelength.latitude[-20:]:\n",
        "  plt.scatter(wavelength.sel(latitude=l), [l] * 121)\n",
        "plt.xscale('log')"
      ]
    },
    {
      "cell_type": "code",
      "execution_count": 63,
      "metadata": {
        "executionInfo": {
          "elapsed": 53,
          "status": "ok",
          "timestamp": 1686036314510,
          "user": {
            "displayName": "",
            "userId": ""
          },
          "user_tz": -120
        },
        "id": "TqupWlxT6iZk"
      },
      "outputs": [],
      "source": [
        "lead_times = np.array([6, 3*24, 5*24, 10*24]).astype('timedelta64[h]')\n",
        "\n",
        "variable_levels_ylims = [\n",
        "    ['geopotential', 500, (5e3, 2e10)],\n",
        "    ['specific_humidity', 700, (1e-6, 1.1e-2)],\n",
        "    ['u_component_of_wind', 850, (1e1, 1e6)],\n",
        "    ['total_precipitation_6hr', None, (1e-6, 1e-2)]\n",
        "]\n",
        "\n",
        "lt_title = ['6h', '3d', '5d', '10d']"
      ]
    },
    {
      "cell_type": "code",
      "execution_count": 64,
      "metadata": {
        "executionInfo": {
          "elapsed": 55,
          "status": "ok",
          "timestamp": 1686036314796,
          "user": {
            "displayName": "",
            "userId": ""
          },
          "user_tz": -120
        },
        "id": "Nq_RARkdIl66"
      },
      "outputs": [],
      "source": [
        "plt.rcParams['figure.facecolor'] = 'None'"
      ]
    },
    {
      "cell_type": "code",
      "execution_count": 65,
      "metadata": {
        "executionInfo": {
          "elapsed": 10681,
          "status": "ok",
          "timestamp": 1686036325704,
          "user": {
            "displayName": "",
            "userId": ""
          },
          "user_tz": -120
        },
        "id": "YK_HFUna70mL",
        "outputId": "756e5dc3-d279-40a4-eaa6-5c87c7f45518"
      },
      "outputs": [
        {
          "name": "stdout",
          "output_type": "stream",
          "text": [
            "\"not all values found in index 'prediction_timedelta'. Try setting the `method` keyword argument (example: method='nearest').\"\n",
            "\"not all values found in index 'prediction_timedelta'. Try setting the `method` keyword argument (example: method='nearest').\"\n",
            "\"not all values found in index 'prediction_timedelta'. Try setting the `method` keyword argument (example: method='nearest').\"\n",
            "'total_precipitation_6hr'\n",
            "'total_precipitation_6hr'\n",
            "'total_precipitation_6hr'\n",
            "'total_precipitation_6hr'\n",
            "'total_precipitation_6hr'\n",
            "'total_precipitation_6hr'\n",
            "'total_precipitation_6hr'\n",
            "'total_precipitation_6hr'\n"
          ]
        }
      ],
      "source": [
        "fig, axs = plt.subplots(len(variable_levels_ylims), 4, figsize = (13, 3 * len(variable_levels_ylims)))\n",
        "for j, (variable, level, ylim) in enumerate(variable_levels_ylims):\n",
        "  for i, lead_time in enumerate(lead_times):\n",
        "    ax = axs[j, i]\n",
        "    for model, ds in spectra.items():\n",
        "      try:\n",
        "        if model == 'pangu' and level is not None:\n",
        "          da = ds[variable + '_' + str(level)]\n",
        "        else:\n",
        "          da = ds[variable]\n",
        "          if level:\n",
        "            da = da.sel(level=level)\n",
        "        if hasattr(da, 'prediction_timedelta'):\n",
        "          da = da.sel(prediction_timedelta=lead_time)\n",
        "        ax.plot(wavelength, da, label = labels[model],\n",
        "                c=colors[model])\n",
        "      except KeyError as e:\n",
        "        print(e)\n",
        "    ax.set_yscale('log')\n",
        "    ax.set_xscale('log')\n",
        "    ax.set_ylim(ylim)\n",
        "    if i \u003e0: \n",
        "      ax.set_yticklabels([])\n",
        "    else:\n",
        "      ax.set_ylabel('Mean power')\n",
        "    if j == len(variable_levels_ylims) - 1: \n",
        "      ax.set_xlabel('Mean wave length [km]')\n",
        "    title = f'{long2short[variable]}{level if level else \"\"} - {lt_title[i]}'\n",
        "    ax.set_title(title)\n",
        "plt.subplots_adjust(left=0.07, right=0.98, bottom=0.05, top=0.95, hspace=0.3, wspace=0.05)\n",
        "axs[0, 0].legend()\n",
        "with fsspec.open(f'{SAVE_PATH}/spectra.png', 'wb', auto_mkdir=True) as f:\n",
        "      fig.savefig(f, dpi=300)\n",
        "      plt.close(fig)"
      ]
    },
    {
      "cell_type": "code",
      "execution_count": 66,
      "metadata": {
        "executionInfo": {
          "elapsed": 1,
          "status": "ok",
          "timestamp": 1686036325938,
          "user": {
            "displayName": "",
            "userId": ""
          },
          "user_tz": -120
        },
        "id": "ZtjlMptk9E0t"
      },
      "outputs": [],
      "source": [
        "\n",
        "# from IPython.display import Image\n",
        "# Image('./test.png')"
      ]
    },
    {
      "cell_type": "code",
      "execution_count": null,
      "metadata": {
        "id": "hMUjpFKuJo3i"
      },
      "outputs": [],
      "source": []
    }
  ],
  "metadata": {
    "colab": {
      "collapsed_sections": [
        "KCFVr34f3-3W",
        "p5bmpkvYUuYu"
      ],
      "last_runtime": {
        "build_target": "//research/weather/colab:notebook",
        "kind": "shared"
      },
      "provenance": [
        {
          "file_id": "1b0KaCjfQJ42wYFegjnRoNliapX7KG84v",
          "timestamp": 1685526038297
        }
      ]
    },
    "kernelspec": {
      "display_name": "Python 3",
      "name": "python3"
    },
    "language_info": {
      "name": "python"
    }
  },
  "nbformat": 4,
  "nbformat_minor": 0
}
